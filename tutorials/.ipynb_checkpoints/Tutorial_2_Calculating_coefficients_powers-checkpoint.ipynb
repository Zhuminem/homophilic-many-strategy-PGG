{
 "cells": [
  {
   "cell_type": "code",
   "execution_count": 32,
   "id": "coupled-eagle",
   "metadata": {},
   "outputs": [],
   "source": [
    "import itertools as it\n",
    "import numpy as np\n",
    "from math import factorial\n",
    "\n",
    "import sys\n",
    "sys.path.append('../functions')\n",
    "\n",
    "from utilities import partitionInteger\n"
   ]
  },
  {
   "cell_type": "markdown",
   "id": "collectible-gossip",
   "metadata": {},
   "source": [
    "Let the group size be $n=5$. Possible partitions of the group into families:"
   ]
  },
  {
   "cell_type": "code",
   "execution_count": 4,
   "id": "applied-transport",
   "metadata": {},
   "outputs": [
    {
     "data": {
      "text/plain": [
       "[[1, 1, 1, 1, 1], [1, 1, 1, 2], [1, 1, 3], [1, 2, 2], [1, 4], [2, 3], [5]]"
      ]
     },
     "execution_count": 4,
     "metadata": {},
     "output_type": "execute_result"
    }
   ],
   "source": [
    "n = 5\n",
    "partns = list(partitionInteger(n))\n",
    "partns"
   ]
  },
  {
   "cell_type": "markdown",
   "id": "incident-maine",
   "metadata": {},
   "source": [
    "Let the number of game strategies $m=3$. Set the zero-th strategy as the focal strategy, and get a list of all possible strategy-distribution outcomes in the group (there must be at least 1 focal-strategist in the group).\n",
    "\n",
    "Below, for clarity, I will fix the indices of nonfocal strategies. For example, $(1, 1, 3)$ --- which might represent 1 A-strategist, 1 B-strategist, and 3 C-strategists --- is calculated separately from $(1, 3, 1)$. But in the code, to save space, only $(1, 1, 3)$ is calculated, and the strategy names are reordered during the calculation of $\\Delta p$ instead."
   ]
  },
  {
   "cell_type": "code",
   "execution_count": 16,
   "id": "extended-heaven",
   "metadata": {},
   "outputs": [
    {
     "data": {
      "text/plain": [
       "[(5, 0, 0),\n",
       " (4, 1, 0),\n",
       " (4, 0, 1),\n",
       " (3, 2, 0),\n",
       " (3, 1, 1),\n",
       " (3, 0, 2),\n",
       " (2, 3, 0),\n",
       " (2, 2, 1),\n",
       " (2, 1, 2),\n",
       " (2, 0, 3),\n",
       " (1, 4, 0),\n",
       " (1, 3, 1),\n",
       " (1, 2, 2),\n",
       " (1, 1, 3),\n",
       " (1, 0, 4)]"
      ]
     },
     "execution_count": 16,
     "metadata": {},
     "output_type": "execute_result"
    }
   ],
   "source": [
    "n_s = 3 # m in the text, but called n_s in the code\n",
    "\n",
    "# a full list of strategy outcomes that distinguishes non-focal tags \n",
    "full_strat_countsV = [tuple( outcome.count(s) for s in range(n_s) )\n",
    "        for outcome in it.combinations_with_replacement(range(n_s), n)]\n",
    "\n",
    "# remove the strat_counts that start with a zero because I am assuming the first strategy is the focal\n",
    "full_strat_countsV = [strat_counts for strat_counts in full_strat_countsV if strat_counts[0] != 0]\n",
    "\n",
    "full_strat_countsV"
   ]
  },
  {
   "cell_type": "markdown",
   "id": "derived-madrid",
   "metadata": {},
   "source": [
    "The possible ways of partitioning the whole group into families is the product of the ways of partitioning each strategy.\n",
    "\n",
    "Define the whole group's strategywise family partition structure as a vector of each strategy's family partition structure $\\boldsymbol{y}_i$, $Y = [\\boldsymbol{y}_1, \\ldots, \\boldsymbol{y}_m]$. Then the set\n",
    "of all family partition structures consistent with $\\gamma_i$ is the list of all partitions of the integer $\\gamma_i$\n",
    "\n",
    "$$\n",
    "\\mathcal{Y}_{\\gamma_i} = \\left\\{ \\boldsymbol{y}_i \\; \\middle\\vert \\; \\sum_{y \\in \\boldsymbol{y}_i} y = \\gamma_i \\right\\},\n",
    "$$\n",
    "\n",
    "and the set of all strategywise family partition structures consistent with $\\boldsymbol{\\gamma}$ is\n",
    "\n",
    "$$\n",
    "\\mathcal{Y}_{\\boldsymbol{\\gamma}} = \\mathcal{Y}_{\\gamma_1} \\times \\ldots \\times \\mathcal{Y}_{\\gamma_m}.\n",
    "$$\n",
    "\n",
    "Do just one example, for $\\boldsymbol{\\gamma} = [3, 0, 2]$."
   ]
  },
  {
   "cell_type": "code",
   "execution_count": 19,
   "id": "cordless-ownership",
   "metadata": {},
   "outputs": [
    {
     "data": {
      "text/plain": [
       "[[[1, 1, 1], [1, 2], [3]], [[1, 1], [2]]]"
      ]
     },
     "execution_count": 19,
     "metadata": {},
     "output_type": "execute_result"
    }
   ],
   "source": [
    "strat_counts_ = (3, 0, 2)\n",
    "\n",
    "# remove the zeros, i.e., the strategies that aren't in this outcome\n",
    "strat_counts = tuple( cnt for cnt in strat_counts_ if cnt != 0 )\n",
    "\n",
    "# find possible ways to partition each group of individuals pursuing\n",
    "# the same strategy into family partitions\n",
    "\n",
    "partn_sV = list()\n",
    "for strat_count in strat_counts:\n",
    "\n",
    "    partn_s = list(partitionInteger(strat_count))\n",
    "    partn_sV.append(partn_s)\n",
    "\n",
    "partn_sV"
   ]
  },
  {
   "cell_type": "markdown",
   "id": "unusual-walker",
   "metadata": {},
   "source": [
    "This says that the individuals pursuing strategy 1, of which there are $\\gamma_1 = 3$, can have the following family partition structures: $\\boldsymbol{y}_1 = \\lbrace 1, 1, 1 \\rbrace$, $\\boldsymbol{y}_1 = \\lbrace 1, 2 \\rbrace$, or $\\boldsymbol{y}_1 = \\lbrace 3 \\rbrace$. These three possibilities are the set $\\mathcal{Y}_{\\gamma_1}$.\n",
    "The individuals pursuing strategy 3, of which there are $\\gamma_3 = 2$, can have the following family partition structures: $\\boldsymbol{y}_3 = \\lbrace 1, 1 \\rbrace$ or $\\boldsymbol{y}_3 = \\lbrace 2 \\rbrace$. \n",
    "\n",
    "The set of all strategywise family partition structures, $\\mathcal{Y}_{\\boldsymbol{\\gamma}}$, is the product:"
   ]
  },
  {
   "cell_type": "code",
   "execution_count": 20,
   "id": "important-individual",
   "metadata": {},
   "outputs": [
    {
     "data": {
      "text/plain": [
       "[([1, 1, 1], [1, 1]),\n",
       " ([1, 1, 1], [2]),\n",
       " ([1, 2], [1, 1]),\n",
       " ([1, 2], [2]),\n",
       " ([3], [1, 1]),\n",
       " ([3], [2])]"
      ]
     },
     "execution_count": 20,
     "metadata": {},
     "output_type": "execute_result"
    }
   ],
   "source": [
    "# create all combinations of all partitions of each strategy\n",
    "partnV = list(it.product(*partn_sV))\n",
    "partnV"
   ]
  },
  {
   "cell_type": "markdown",
   "id": "tutorial-mixture",
   "metadata": {},
   "source": [
    "Let $|\\boldsymbol{y}_i|$ be the length of the multiset $\\boldsymbol{y}_i$. Then the probability of selecting those strategies into those family partitions is\n",
    "\n",
    "\n",
    "$$\n",
    "    A(Y, \\boldsymbol{p}) = \\prod_{i=1}^m p_i^{|\\boldsymbol{y}_i|}.\n",
    "$$\n",
    "\n",
    "We calculate these powers $|\\boldsymbol{y}_i|$ for each entry in `partnV`."
   ]
  },
  {
   "cell_type": "code",
   "execution_count": 24,
   "id": "direct-medline",
   "metadata": {},
   "outputs": [
    {
     "data": {
      "text/plain": [
       "[[3, 2], [3, 1], [2, 2], [2, 1], [1, 2], [1, 1]]"
      ]
     },
     "execution_count": 24,
     "metadata": {},
     "output_type": "execute_result"
    }
   ],
   "source": [
    "pwrsV = [ [ len(partn_s) for partn_s in partn ] for partn in partnV ]\n",
    "pwrsV"
   ]
  },
  {
   "cell_type": "markdown",
   "id": "going-priority",
   "metadata": {},
   "source": [
    "For each entry in `partnV`, we also want to calculate the coefficient, the number of ways to order strategies across families, which is a count of the multiset permutations.\n",
    "\n",
    "In the main text, I write\n",
    "\n",
    "$$\n",
    "    C(Z) = \\prod_{j=1}^n \\frac{\\left( \\sum_{i=1}^m z_{i,j} \\right)!}{\\prod_{i=1}^m z_{i, j}!},\n",
    "$$"
   ]
  },
  {
   "cell_type": "markdown",
   "id": "reduced-blocking",
   "metadata": {},
   "source": [
    "Do the calculation for just one $Y$ consistent with $\\boldsymbol{\\gamma} = [3, 0, 2]$, \n",
    "do $Y = [\\lbrace 1, 2 \\rbrace, \\lbrace \\rbrace, \\lbrace 1, 1 \\rbrace]$. That is, `partn_stratV = ([1, 2], [1, 1])`."
   ]
  },
  {
   "cell_type": "code",
   "execution_count": 55,
   "id": "classified-gazette",
   "metadata": {},
   "outputs": [
    {
     "data": {
      "text/plain": [
       "([1, 2], [1, 1])"
      ]
     },
     "execution_count": 55,
     "metadata": {},
     "output_type": "execute_result"
    }
   ],
   "source": [
    "partn_stratV = ([1, 2], [1, 1])\n",
    "partn_stratV"
   ]
  },
  {
   "cell_type": "markdown",
   "id": "statistical-april",
   "metadata": {},
   "source": [
    "The $\\sum_{i=1}^m z_{i,j}$ terms for the numerator:"
   ]
  },
  {
   "cell_type": "code",
   "execution_count": 57,
   "id": "automotive-retreat",
   "metadata": {},
   "outputs": [
    {
     "data": {
      "text/plain": [
       "(1, 1, 1, 2)"
      ]
     },
     "execution_count": 57,
     "metadata": {},
     "output_type": "execute_result"
    }
   ],
   "source": [
    "partn_flat = tuple(sorted(it.chain(*partn_stratV)))\n",
    "partn_flat"
   ]
  },
  {
   "cell_type": "code",
   "execution_count": 58,
   "id": "supposed-attraction",
   "metadata": {},
   "outputs": [
    {
     "data": {
      "text/plain": [
       "[3, 1]"
      ]
     },
     "execution_count": 58,
     "metadata": {},
     "output_type": "execute_result"
    }
   ],
   "source": [
    "sum_z_js = [partn.count(size) for size in set(partn_flat)]\n",
    "sum_z_js"
   ]
  },
  {
   "cell_type": "markdown",
   "id": "surface-viewer",
   "metadata": {},
   "source": [
    "The $z_{i,j}$ terms for the denominator"
   ]
  },
  {
   "cell_type": "code",
   "execution_count": 50,
   "id": "intended-experience",
   "metadata": {},
   "outputs": [
    {
     "data": {
      "text/plain": [
       "[1, 1, 2]"
      ]
     },
     "execution_count": 50,
     "metadata": {},
     "output_type": "execute_result"
    }
   ],
   "source": [
    "z_ijs = [ partn_strat.count(size) for partn_strat in partn_stratV \n",
    "                                       for size in set(partn_strat) ]\n",
    "z_ijs"
   ]
  },
  {
   "cell_type": "markdown",
   "id": "editorial-deputy",
   "metadata": {},
   "source": [
    "I find it convenient for the computation to include the $\\gamma_x$ factor in the elements of `CM`:\n",
    "\n",
    "$$\n",
    "    \\hat{C}(Z) = \\gamma_x \\prod_{j=1}^n \\frac{\\left( \\sum_{i=1}^m z_{i,j} \\right)!}{\\prod_{i=1}^m z_{i, j}!},\n",
    "$$"
   ]
  },
  {
   "cell_type": "code",
   "execution_count": 51,
   "id": "informed-edward",
   "metadata": {},
   "outputs": [
    {
     "data": {
      "text/plain": [
       "9"
      ]
     },
     "execution_count": 51,
     "metadata": {},
     "output_type": "execute_result"
    }
   ],
   "source": [
    "coeff = strat_counts[0] * np.prod([factorial(sum_z_j) for sum_z_j in sum_z_js]) \\\n",
    "    // np.prod([factorial(z_ij) for z_ij in z_ijs])\n",
    "coeff"
   ]
  },
  {
   "cell_type": "markdown",
   "id": "knowing-female",
   "metadata": {},
   "source": [
    "To do this for every $Y$ consistent with $\\gamma$, I loop over the $Y$ values, i.e., over the entries in `partnV`."
   ]
  },
  {
   "cell_type": "markdown",
   "id": "american-dictionary",
   "metadata": {},
   "source": [
    "Let's create the whole coefficients matrix."
   ]
  },
  {
   "cell_type": "markdown",
   "id": "signal-rwanda",
   "metadata": {},
   "source": [
    "We can flatten `partnV` to information about the family partition structure only, which we will use later to identify the relevant column of matrix $P$."
   ]
  },
  {
   "cell_type": "code",
   "execution_count": 53,
   "id": "resident-sender",
   "metadata": {},
   "outputs": [
    {
     "data": {
      "text/plain": [
       "[(1, 1, 1, 1, 1), (1, 1, 1, 2), (1, 1, 1, 2), (1, 2, 2), (1, 1, 3), (2, 3)]"
      ]
     },
     "execution_count": 53,
     "metadata": {},
     "output_type": "execute_result"
    }
   ],
   "source": [
    "# flatten to ID later\n",
    "partnV_flat = [ tuple(sorted(it.chain(*v))) for v in partnV ]\n",
    "partnV_flat"
   ]
  },
  {
   "cell_type": "markdown",
   "id": "level-voltage",
   "metadata": {},
   "source": [
    "Create a mapping from the partition to an index, which corresponds to the index of the vector $F$. We will use this later to index the columns of the matrix $P$."
   ]
  },
  {
   "cell_type": "code",
   "execution_count": 54,
   "id": "turned-manual",
   "metadata": {
    "scrolled": true
   },
   "outputs": [
    {
     "data": {
      "text/plain": [
       "{(1, 1, 1, 1, 1): 0,\n",
       " (1, 1, 1, 2): 1,\n",
       " (1, 1, 3): 2,\n",
       " (1, 2, 2): 3,\n",
       " (1, 4): 4,\n",
       " (2, 3): 5,\n",
       " (5,): 6}"
      ]
     },
     "execution_count": 54,
     "metadata": {},
     "output_type": "execute_result"
    }
   ],
   "source": [
    "partn2idx = { tuple(partn): i for i, partn in enumerate(partns) }\n",
    "partn2idx"
   ]
  },
  {
   "cell_type": "markdown",
   "id": "transparent-springfield",
   "metadata": {},
   "source": [
    "Create matrices containing the $C(W)$ and powers in $A(W)$, called `CM` and `WM` respectively."
   ]
  },
  {
   "cell_type": "code",
   "execution_count": 17,
   "id": "intended-subscription",
   "metadata": {},
   "outputs": [],
   "source": [
    "no_rows = len(full_strat_countsV)\n",
    "no_cols = len(partn2idx)\n",
    "\n",
    "# coefficients matrix\n",
    "CM = [ [ [] for col in range(no_cols) ] for row in range(no_rows) ]\n",
    "\n",
    "# powers matrix\n",
    "WM = [ [ [] for col in range(no_cols) ] for row in range(no_rows) ]"
   ]
  },
  {
   "cell_type": "code",
   "execution_count": 59,
   "id": "domestic-sheriff",
   "metadata": {},
   "outputs": [],
   "source": [
    "for row, strat_counts_ in enumerate(full_strat_countsV):\n",
    "\n",
    "    # remove the zeros, i.e., the strategies that aren't in this outcome\n",
    "    strat_counts = tuple( cnt for cnt in strat_counts_ if cnt != 0 )\n",
    "\n",
    "\n",
    "    # find all partitions of each strategy\n",
    "    # ---\n",
    "\n",
    "    partn_sV = list()\n",
    "    for strat_count in strat_counts:\n",
    "\n",
    "        partn_s = list(partitionInteger(strat_count))\n",
    "        partn_sV.append(partn_s)\n",
    "\n",
    "    # create all combinations of all partitions of each strategy\n",
    "    partnV = list(it.product(*partn_sV))\n",
    "\n",
    "    # flatten to ID later\n",
    "    partnV_flat = [ tuple(sorted(it.chain(*v))) for v in partnV ]\n",
    "\n",
    "\n",
    "    # find the powers of each partition\n",
    "    # ---\n",
    "\n",
    "    pwrsV = [ [ len(partn_s) for partn_s in partn ] for partn in partnV ]\n",
    "\n",
    "\n",
    "    # find the coefficient for each partition, \\gamma_x C(Z)\n",
    "    # ---\n",
    "\n",
    "    # the number of ways the strategies can be rearranged into same-sized partitions\n",
    "\n",
    "    coeffV = list()\n",
    "\n",
    "    for partn_stratV, partn in zip(partnV, partnV_flat):\n",
    "\n",
    "        # \\sum_{i=1}^m z_ij terms in the numerator\n",
    "        sum_z_js = [partn.count(size) for size in set(partn)]\n",
    "\n",
    "        # z_{i,j} terms in the denominator\n",
    "        z_ijs = [partn_strat.count(size) for partn_strat in partn_stratV for size in set(partn_strat)]\n",
    "\n",
    "        # \\gamma_x C(Z) always an integer, so can use integer divide here\n",
    "        coeff = strat_counts[0] * np.prod([factorial(sum_z_j) for sum_z_j in sum_z_js]) \\\n",
    "                // np.prod([factorial(z_ij) for z_ij in z_ijs])\n",
    "\n",
    "        coeffV.append(coeff)\n",
    "\n",
    "\n",
    "    # store coefficients and powers in their matrices\n",
    "    # ---\n",
    "\n",
    "    for coeff, pwrs, partn in zip(coeffV, pwrsV, partnV_flat):\n",
    "\n",
    "        col = partn2idx[partn]\n",
    "        CM[row][col].append(coeff)\n",
    "        WM[row][col].append(pwrs)\n",
    "\n",
    "\n",
    "    "
   ]
  },
  {
   "cell_type": "code",
   "execution_count": 62,
   "id": "small-albany",
   "metadata": {},
   "outputs": [
    {
     "data": {
      "text/plain": [
       "[(5, 0, 0),\n",
       " (4, 1, 0),\n",
       " (4, 0, 1),\n",
       " (3, 2, 0),\n",
       " (3, 1, 1),\n",
       " (3, 0, 2),\n",
       " (2, 3, 0),\n",
       " (2, 2, 1),\n",
       " (2, 1, 2),\n",
       " (2, 0, 3),\n",
       " (1, 4, 0),\n",
       " (1, 3, 1),\n",
       " (1, 2, 2),\n",
       " (1, 1, 3),\n",
       " (1, 0, 4)]"
      ]
     },
     "execution_count": 62,
     "metadata": {},
     "output_type": "execute_result"
    }
   ],
   "source": [
    "full_strat_countsV"
   ]
  },
  {
   "cell_type": "code",
   "execution_count": 60,
   "id": "legendary-india",
   "metadata": {
    "scrolled": true
   },
   "outputs": [
    {
     "data": {
      "text/plain": [
       "[[[5], [5], [5], [5], [5], [5], [5]],\n",
       " [[20], [12], [8], [4], [4], [], []],\n",
       " [[20], [12], [8], [4], [4], [], []],\n",
       " [[30], [3, 9], [3], [6], [], [3], []],\n",
       " [[60], [18], [6], [], [], [], []],\n",
       " [[30], [3, 9], [3], [6], [], [3], []],\n",
       " [[20], [6, 2], [2], [4], [], [2], []],\n",
       " [[60], [6, 6], [], [4], [], [], []],\n",
       " [[60], [6, 6], [], [4], [], [], []],\n",
       " [[20], [6, 2], [2], [4], [], [2], []],\n",
       " [[5], [3], [2], [1], [1], [], []],\n",
       " [[20], [6], [2], [], [], [], []],\n",
       " [[30], [3, 3], [], [2], [], [], []],\n",
       " [[20], [6], [2], [], [], [], []],\n",
       " [[5], [3], [2], [1], [1], [], []]]"
      ]
     },
     "execution_count": 60,
     "metadata": {},
     "output_type": "execute_result"
    }
   ],
   "source": [
    "CM"
   ]
  },
  {
   "cell_type": "code",
   "execution_count": 61,
   "id": "amber-steal",
   "metadata": {},
   "outputs": [
    {
     "data": {
      "text/plain": [
       "[[[[5]], [[4]], [[3]], [[3]], [[2]], [[2]], [[1]]],\n",
       " [[[4, 1]], [[3, 1]], [[2, 1]], [[2, 1]], [[1, 1]], [], []],\n",
       " [[[4, 1]], [[3, 1]], [[2, 1]], [[2, 1]], [[1, 1]], [], []],\n",
       " [[[3, 2]], [[3, 1], [2, 2]], [[1, 2]], [[2, 1]], [], [[1, 1]], []],\n",
       " [[[3, 1, 1]], [[2, 1, 1]], [[1, 1, 1]], [], [], [], []],\n",
       " [[[3, 2]], [[3, 1], [2, 2]], [[1, 2]], [[2, 1]], [], [[1, 1]], []],\n",
       " [[[2, 3]], [[2, 2], [1, 3]], [[2, 1]], [[1, 2]], [], [[1, 1]], []],\n",
       " [[[2, 2, 1]], [[2, 1, 1], [1, 2, 1]], [], [[1, 1, 1]], [], [], []],\n",
       " [[[2, 1, 2]], [[2, 1, 1], [1, 1, 2]], [], [[1, 1, 1]], [], [], []],\n",
       " [[[2, 3]], [[2, 2], [1, 3]], [[2, 1]], [[1, 2]], [], [[1, 1]], []],\n",
       " [[[1, 4]], [[1, 3]], [[1, 2]], [[1, 2]], [[1, 1]], [], []],\n",
       " [[[1, 3, 1]], [[1, 2, 1]], [[1, 1, 1]], [], [], [], []],\n",
       " [[[1, 2, 2]], [[1, 2, 1], [1, 1, 2]], [], [[1, 1, 1]], [], [], []],\n",
       " [[[1, 1, 3]], [[1, 1, 2]], [[1, 1, 1]], [], [], [], []],\n",
       " [[[1, 4]], [[1, 3]], [[1, 2]], [[1, 2]], [[1, 1]], [], []]]"
      ]
     },
     "execution_count": 61,
     "metadata": {},
     "output_type": "execute_result"
    }
   ],
   "source": [
    "WM"
   ]
  },
  {
   "cell_type": "markdown",
   "id": "amino-guatemala",
   "metadata": {},
   "source": [
    "| strat_1 | strat_2 | strat_3 | coef_1\\|1\\|1\\|1\\|1 | coef_1\\|1\\|1\\|2 | coef_1\\|1\\|3 | coef_1\\|2\\|2 | coef_1\\|4 | coef_2\\|3 | coef_5 | pwrs_1\\|1\\|1\\|1\\|1 | pwrs_1\\|1\\|1\\|2 | pwrs_1\\|1\\|3 | pwrs_1\\|2\\|2 | pwrs_1\\|4 | pwrs_2\\|3 | pwrs_5 |\n",
    "|-|-|-|-|-|-|-|-|-|-|-|-|-|-|-|-|-|\n",
    "| 1 | 1 | 3 | 20 | 6 | 2 |  |  |  |  | 1\\|1\\|3 | 1\\|1\\|2 | 1\\|1\\|1 |  |  |  |  |\n",
    "| 1 | 0 | 4 | 5 | 3 | 2 | 1 | 1 |  |  | 1\\|4 | 1\\|3 | 1\\|2 | 1\\|2 | 1\\|1 |  |  |\n",
    "| 1 | 2 | 2 | 30 | 3\\|3 |  | 2 |  |  |  | 1\\|2\\|2 | 1\\|2\\|1*1\\|1\\|2 |  | 1\\|1\\|1 |  |  |  |\n",
    "| 2 | 1 | 2 | 60 | 6\\|6 |  | 4 |  |  |  | 2\\|1\\|2 | 2\\|1\\|1*1\\|1\\|2 |  | 1\\|1\\|1 |  |  |  |\n",
    "| 2 | 0 | 3 | 20 | 6\\|2 | 2 | 4 |  | 2 |  | 2\\|3 | 2\\|2*1\\|3 | 2\\|1 | 1\\|2 |  | 1\\|1 |  |\n",
    "| 3 | 1 | 1 | 60 | 18 | 6 |  |  |  |  | 3\\|1\\|1 | 2\\|1\\|1 | 1\\|1\\|1 |  |  |  |  |\n",
    "| 3 | 0 | 2 | 30 | 3\\|9 | 3 | 6 |  | 3 |  | 3\\|2 | 3\\|1*2\\|2 | 1\\|2 | 2\\|1 |  | 1\\|1 |  |\n",
    "| 4 | 0 | 1 | 20 | 12 | 8 | 4 | 4 |  |  | 4\\|1 | 3\\|1 | 2\\|1 | 2\\|1 | 1\\|1 |  |  |\n",
    "| 5 | 0 | 0 | 5 | 5 | 5 | 5 | 5 | 5 | 5 | 5 | 4 | 3 | 3 | 2 | 2 | 1 |"
   ]
  },
  {
   "cell_type": "code",
   "execution_count": null,
   "id": "behavioral-webcam",
   "metadata": {},
   "outputs": [],
   "source": []
  }
 ],
 "metadata": {
  "kernelspec": {
   "display_name": "Python 3",
   "language": "python",
   "name": "python3"
  },
  "language_info": {
   "codemirror_mode": {
    "name": "ipython",
    "version": 3
   },
   "file_extension": ".py",
   "mimetype": "text/x-python",
   "name": "python",
   "nbconvert_exporter": "python",
   "pygments_lexer": "ipython3",
   "version": "3.9.2"
  }
 },
 "nbformat": 4,
 "nbformat_minor": 5
}
