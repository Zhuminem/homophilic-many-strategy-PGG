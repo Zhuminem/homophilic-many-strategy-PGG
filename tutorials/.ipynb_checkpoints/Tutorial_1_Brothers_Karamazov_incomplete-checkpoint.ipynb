{
 "cells": [
  {
   "cell_type": "markdown",
   "id": "signal-tension",
   "metadata": {},
   "source": [
    "# Tutorial 1: Brothers Karamazov"
   ]
  },
  {
   "cell_type": "code",
   "execution_count": 13,
   "id": "polar-representation",
   "metadata": {},
   "outputs": [
    {
     "data": {
      "text/html": [
       "\n",
       "<style>\n",
       ".output_png {\n",
       "  display: table-cell;\n",
       "  text-align: center;\n",
       "  vertical-align: middle;\n",
       "}\n",
       "</style>\n"
      ],
      "text/plain": [
       "<IPython.core.display.HTML object>"
      ]
     },
     "execution_count": 13,
     "metadata": {},
     "output_type": "execute_result"
    }
   ],
   "source": [
    "import numpy as np\n",
    "import matplotlib.pyplot as plt\n",
    "import os\n",
    "\n",
    "plt.rcParams['font.size'] = '16'\n",
    "plt.rcParams['figure.figsize'] = [7, 5]\n",
    "from IPython.core.display import HTML\n",
    "HTML(\"\"\"\n",
    "<style>\n",
    ".output_png {\n",
    "  display: table-cell;\n",
    "  text-align: center;\n",
    "  vertical-align: middle;\n",
    "}\n",
    "</style>\n",
    "\"\"\")"
   ]
  },
  {
   "cell_type": "markdown",
   "id": "attached-white",
   "metadata": {},
   "source": [
    "## 1 Background\n",
    "\n",
    "**here, put the reference to Doug's paper and explain how the game works**"
   ]
  },
  {
   "cell_type": "markdown",
   "id": "productive-trinidad",
   "metadata": {},
   "source": [
    "# 2 Intuitive approach\n",
    "\n",
    "**here I want to work directly from the replicator dynamics in an intuitive and informal way to give the reader a sense of what we're doing**"
   ]
  },
  {
   "cell_type": "markdown",
   "id": "appointed-jacob",
   "metadata": {},
   "source": [
    "$$\n",
    "\\Delta p = p (1-p) \\left( \\frac{2Bp - 2Cp + B - 2C}{6} \\right)\n",
    "$$"
   ]
  },
  {
   "cell_type": "code",
   "execution_count": 3,
   "id": "mysterious-melbourne",
   "metadata": {},
   "outputs": [
    {
     "data": {
      "image/png": "[encoded data removed]",
      "text/plain": [
       "<Figure size 504x360 with 1 Axes>"
      ]
     },
     "metadata": {
      "needs_background": "light"
     },
     "output_type": "display_data"
    }
   ],
   "source": [
    "# choose parameter values in the area where unconditional helping cannot persist but conditional nepotism can\n",
    "# i.e., 4/3 < B/C < 2\n",
    "\n",
    "B = 1.5\n",
    "C = 1\n",
    "\n",
    "pV = np.linspace(0, 1, 100)\n",
    "deltapV = [p*(1-p)*(1/6)*(2*B*p-2*C*p+B-2*C) for p in pV]\n",
    "\n",
    "plt.plot(pV, deltapV, color='blue')\n",
    "plt.axhline(0, color='black')\n",
    "plt.xlabel('propn conditional nepotists $p$')\n",
    "plt.ylabel('change in conditional nepotists $\\Delta p$')\n",
    "plt.show()"
   ]
  },
  {
   "cell_type": "markdown",
   "id": "enclosed-parking",
   "metadata": {},
   "source": [
    "At a particular value"
   ]
  },
  {
   "cell_type": "code",
   "execution_count": 5,
   "id": "subjective-insulation",
   "metadata": {},
   "outputs": [
    {
     "data": {
      "text/plain": [
       "-0.0078125"
      ]
     },
     "execution_count": 5,
     "metadata": {},
     "output_type": "execute_result"
    }
   ],
   "source": [
    "p = 0.25\n",
    "deltap = p*(1-p)*(1/6)*(2*B*p-2*C*p+B-2*C)\n",
    "deltap"
   ]
  },
  {
   "cell_type": "markdown",
   "id": "cardiac-parish",
   "metadata": {},
   "source": [
    "# 3 Our approach\n",
    "\n",
    "**the idea is to do it the same way as in the code, but I generate each step of the process explicitly here for people to see**"
   ]
  },
  {
   "cell_type": "markdown",
   "id": "marked-christianity",
   "metadata": {},
   "source": [
    "Put in the $\\boldsymbol{p}$ value from before"
   ]
  },
  {
   "cell_type": "code",
   "execution_count": 42,
   "id": "sunrise-attachment",
   "metadata": {},
   "outputs": [],
   "source": [
    "ps = [0.25, 0.75]\n",
    "n = 3 # group size"
   ]
  },
  {
   "cell_type": "markdown",
   "id": "intensive-conjunction",
   "metadata": {},
   "source": [
    "Possible partitions of 3 group members into families: $\\lbrace 1, 1, 1 \\rbrace$, $\\lbrace 1, 2 \\rbrace$, and $\\lbrace 3 \\rbrace$.\n",
    "\n",
    "As calculated above, when groups are formed of siblings only, each partition has probabilities:\n",
    "\n",
    "| partition                   | probability |\n",
    "|:---------------------------:|:-----------:|\n",
    "| $$\\lbrace 1, 1, 1 \\rbrace$$ | 0           |\n",
    "| $$\\lbrace 1, 2 \\rbrace$$    | 3/4         |\n",
    "| $$\\lbrace 3 \\rbrace$$       | 1/4         |"
   ]
  },
  {
   "cell_type": "code",
   "execution_count": 4,
   "id": "reflected-lingerie",
   "metadata": {},
   "outputs": [],
   "source": [
    "partns = [[1,1,1], [1,2], [3]]\n",
    "F = [0, 3/4, 1/4]"
   ]
  },
  {
   "cell_type": "markdown",
   "id": "surface-while",
   "metadata": {},
   "source": [
    "... where strategy 1 is the focal strategy."
   ]
  },
  {
   "cell_type": "markdown",
   "id": "given-basis",
   "metadata": {},
   "source": [
    "Payoffs to conditional nepotists and defectors given different group strategy distributions\n",
    "\n",
    "<table>\n",
    "<thead>\n",
    "  <tr>\n",
    "    <th colspan=\"2\" style=\"text-align:center\">no. strategy</th>\n",
    "    <th colspan=\"2\" style=\"text-align:center\">payoff to $s_1$ if $s_1$ is ...</th>\n",
    "  </tr>\n",
    "  <tr>\n",
    "    <td style=\"text-align:center\">$$s_1$$</td>\n",
    "    <td style=\"text-align:center\">$$s_2$$</td>\n",
    "    <td style=\"text-align:center\">cond nepot</td>\n",
    "    <td style=\"text-align:center\">defector</td>\n",
    "  </tr>\n",
    "</thead>\n",
    "<tbody>\n",
    "  <tr>\n",
    "    <td style=\"text-align:center\">1</td>\n",
    "    <td style=\"text-align:center\">2</td>\n",
    "    <td style=\"text-align:center\">0</td>\n",
    "    <td style=\"text-align:center\">$$2B/3$$</td>\n",
    "  </tr>\n",
    "  <tr>\n",
    "    <td style=\"text-align:center\">2</td>\n",
    "    <td style=\"text-align:center\">1</td>\n",
    "    <td style=\"text-align:center\">$$-C/3$$</td>\n",
    "    <td style=\"text-align:center\">0</td>\n",
    "  </tr>\n",
    "  <tr>\n",
    "    <td style=\"text-align:center\">3</td>\n",
    "    <td style=\"text-align:center\">0</td>\n",
    "    <td style=\"text-align:center\">$$(2B-2C)/3$$</td>\n",
    "    <td style=\"text-align:center\">0</td>\n",
    "  </tr>\n",
    "</tbody>\n",
    "</table>\n",
    "\n"
   ]
  },
  {
   "cell_type": "code",
   "execution_count": 67,
   "id": "hawaiian-qatar",
   "metadata": {},
   "outputs": [],
   "source": [
    "pay_Ns = [0, -C/3, (2*B-2*C)/3]\n",
    "pay_Ds = [2*B/3, 0, 0]"
   ]
  },
  {
   "cell_type": "markdown",
   "id": "everyday-sudan",
   "metadata": {},
   "source": [
    "<table>\n",
    "<thead>\n",
    "  <tr>\n",
    "    <th colspan=\"2\" style=\"text-align:center\">no. strategy</th>\n",
    "    <th colspan=\"3\" style=\"text-align:center\">coefficient</th>\n",
    "    <th colspan=\"3\" style=\"text-align:center\">$p$ polynomial</th>\n",
    "  </tr>\n",
    "  <tr>\n",
    "    <td style=\"text-align:center\">$$s_1$$</td>\n",
    "    <td style=\"text-align:center\">$$s_2$$</td>\n",
    "    <td style=\"text-align:center\">{1,1,1}<br></td>\n",
    "    <td style=\"text-align:center\">{1,2}</td>\n",
    "    <td style=\"text-align:center\">{3}</td>\n",
    "    <td style=\"text-align:center\">{1,1,1}</td>\n",
    "    <td style=\"text-align:center\">{1,2}</td>\n",
    "    <td style=\"text-align:center\">{3}</td>\n",
    "  </tr>\n",
    "</thead>\n",
    "<tbody>\n",
    "    <tr>\n",
    "    <td style=\"text-align:center\">1</td>\n",
    "    <td style=\"text-align:center\">2</td>\n",
    "    <td style=\"text-align:center\">3</td>\n",
    "    <td style=\"text-align:center\">1</td>\n",
    "    <td style=\"text-align:center\">-</td>\n",
    "    <td style=\"text-align:center\">$$p_1 + p_2^2$$</td>\n",
    "    <td style=\"text-align:center\">$$p_1 + p_2$$</td>\n",
    "    <td style=\"text-align:center\">-</td>\n",
    "  </tr>\n",
    "  <tr>\n",
    "    <td style=\"text-align:center\">2</td>\n",
    "    <td style=\"text-align:center\">1</td>\n",
    "    <td style=\"text-align:center\">6</td>\n",
    "    <td style=\"text-align:center\">2</td>\n",
    "    <td style=\"text-align:center\">-</td>\n",
    "    <td style=\"text-align:center\">$$p_1^2 + p_2$$</td>\n",
    "    <td style=\"text-align:center\">$$p_1 + p_2$$</td>\n",
    "    <td style=\"text-align:center\">-</td>\n",
    "  </tr>\n",
    "  <tr>\n",
    "    <td style=\"text-align:center\">3</td>\n",
    "    <td style=\"text-align:center\">0</td>\n",
    "    <td style=\"text-align:center\">3</td>\n",
    "    <td style=\"text-align:center\">3</td>\n",
    "    <td style=\"text-align:center\">3</td>\n",
    "    <td style=\"text-align:center\">$$p_1^3$$</td>\n",
    "    <td style=\"text-align:center\">$$p_1^2$$</td>\n",
    "    <td style=\"text-align:center\">$$p_1$$</td>\n",
    "  </tr>\n",
    "</tbody>\n",
    "</table>"
   ]
  },
  {
   "cell_type": "code",
   "execution_count": 36,
   "id": "alike-moment",
   "metadata": {},
   "outputs": [],
   "source": [
    "strat_counts = [(1, 2), (2, 1), (3, 0)]"
   ]
  },
  {
   "cell_type": "code",
   "execution_count": 37,
   "id": "floating-aviation",
   "metadata": {},
   "outputs": [],
   "source": [
    "CM = [[(3,), (1,), (0,)], [(6,), (2,), (0,)], [(3,), (3,), (3,)]]"
   ]
  },
  {
   "cell_type": "code",
   "execution_count": 39,
   "id": "terminal-discharge",
   "metadata": {},
   "outputs": [],
   "source": [
    "WM = [[((1, 2),), ((1, 1),), ((0, 0),)],\n",
    "      [((2, 1),), ((1, 1),), ((0, 0),)],\n",
    "      [((3, 0),), ((2, 0),), ((1, 0),)]]"
   ]
  },
  {
   "cell_type": "markdown",
   "id": "approved-point",
   "metadata": {},
   "source": [
    "First, conditional nepotists are Strategy 1"
   ]
  },
  {
   "cell_type": "code",
   "execution_count": 78,
   "id": "asian-special",
   "metadata": {},
   "outputs": [],
   "source": [
    "pp = [0.25, 0.75] # ordered so conditional nepotists are focal"
   ]
  },
  {
   "cell_type": "markdown",
   "id": "geological-sudan",
   "metadata": {},
   "source": [
    "**Explanation**"
   ]
  },
  {
   "cell_type": "code",
   "execution_count": 79,
   "id": "finite-commercial",
   "metadata": {},
   "outputs": [],
   "source": [
    "rows = len(strat_counts)\n",
    "cols = len(partns)\n",
    "\n",
    "P = np.zeros((rows, cols)) # 3 strategy outcomes, 3 family partition structures\n",
    "\n",
    "for row in range(rows):\n",
    "    \n",
    "    CM_row = CM[row]\n",
    "    WM_row = WM[row]\n",
    "    \n",
    "    for col in range(cols):\n",
    "    \n",
    "        P[row, col] = sum( (coeff/n)*np.prod([p**power for p, power in zip(pp, powers)]) \n",
    "                                       for coeff, powers in zip(CM_row[col], WM_row[col]) )"
   ]
  },
  {
   "cell_type": "code",
   "execution_count": 80,
   "id": "informative-mattress",
   "metadata": {},
   "outputs": [
    {
     "data": {
      "text/plain": [
       "array([[0.140625, 0.0625  , 0.      ],\n",
       "       [0.09375 , 0.125   , 0.      ],\n",
       "       [0.015625, 0.0625  , 0.25    ]])"
      ]
     },
     "execution_count": 80,
     "metadata": {},
     "output_type": "execute_result"
    }
   ],
   "source": [
    "P"
   ]
  },
  {
   "cell_type": "code",
   "execution_count": 81,
   "id": "viral-saint",
   "metadata": {},
   "outputs": [
    {
     "data": {
      "text/plain": [
       "[0.046875, 0.09375, 0.109375]"
      ]
     },
     "execution_count": 81,
     "metadata": {},
     "output_type": "execute_result"
    }
   ],
   "source": [
    "ZNs = list(P @ F)\n",
    "ZNs"
   ]
  },
  {
   "cell_type": "markdown",
   "id": "further-transformation",
   "metadata": {},
   "source": [
    "Now with defectors as Strategy 1"
   ]
  },
  {
   "cell_type": "code",
   "execution_count": 82,
   "id": "enormous-nirvana",
   "metadata": {},
   "outputs": [
    {
     "data": {
      "text/plain": [
       "array([[0.046875, 0.0625  , 0.      ],\n",
       "       [0.28125 , 0.125   , 0.      ],\n",
       "       [0.421875, 0.5625  , 0.75    ]])"
      ]
     },
     "execution_count": 82,
     "metadata": {},
     "output_type": "execute_result"
    }
   ],
   "source": [
    "pp = [0.75, 0.25]\n",
    "\n",
    "rows = len(strat_counts)\n",
    "cols = len(partns)\n",
    "\n",
    "P = np.zeros((rows, cols)) # 3 strategy outcomes, 3 family partition structures\n",
    "\n",
    "for row in range(rows):\n",
    "    \n",
    "    CM_row = CM[row]\n",
    "    WM_row = WM[row]\n",
    "    \n",
    "    for col in range(cols):\n",
    "    \n",
    "        P[row, col] = sum( (coeff/n)*np.prod([p**power for p, power in zip(pp, powers)]) \n",
    "                                       for coeff, powers in zip(CM_row[col], WM_row[col]) )\n",
    "        \n",
    "P"
   ]
  },
  {
   "cell_type": "code",
   "execution_count": 83,
   "id": "center-blood",
   "metadata": {},
   "outputs": [
    {
     "data": {
      "text/plain": [
       "[0.046875, 0.09375, 0.609375]"
      ]
     },
     "execution_count": 83,
     "metadata": {},
     "output_type": "execute_result"
    }
   ],
   "source": [
    "ZDs = list(P @ F)\n",
    "ZDs"
   ]
  },
  {
   "cell_type": "markdown",
   "id": "together-renewal",
   "metadata": {},
   "source": [
    "According to my comments, each of the $\\pi_i(k) Z(s_i, k)$ terms"
   ]
  },
  {
   "cell_type": "code",
   "execution_count": 84,
   "id": "intellectual-trustee",
   "metadata": {},
   "outputs": [
    {
     "data": {
      "text/plain": [
       "[0.005208333333333329, 0.046875]"
      ]
     },
     "execution_count": 84,
     "metadata": {},
     "output_type": "execute_result"
    }
   ],
   "source": [
    "pi_ZV = [\n",
    "    sum(pay_N*ZN for pay_N, ZN in zip(pay_Ns, ZNs)),\n",
    "    sum(pay_D*ZD for pay_D, ZD in zip(pay_Ds, ZDs)),\n",
    "]\n",
    "\n",
    "pi_ZV"
   ]
  },
  {
   "cell_type": "markdown",
   "id": "sensitive-tracker",
   "metadata": {},
   "source": [
    "According to my comments, the second part of the delta p equation is always the same $\\sum_{i=1}^{n_s} \\pi_i(k) Z(s_i, k)$"
   ]
  },
  {
   "cell_type": "code",
   "execution_count": 85,
   "id": "broad-karen",
   "metadata": {},
   "outputs": [
    {
     "data": {
      "text/plain": [
       "0.05208333333333333"
      ]
     },
     "execution_count": 85,
     "metadata": {},
     "output_type": "execute_result"
    }
   ],
   "source": [
    "second_bit = sum(pi_ZV)\n",
    "second_bit"
   ]
  },
  {
   "cell_type": "markdown",
   "id": "every-miracle",
   "metadata": {},
   "source": [
    "And my comments say this is the main equation"
   ]
  },
  {
   "cell_type": "code",
   "execution_count": 86,
   "id": "legendary-variety",
   "metadata": {},
   "outputs": [
    {
     "data": {
      "text/plain": [
       "-0.007812500000000003"
      ]
     },
     "execution_count": 86,
     "metadata": {},
     "output_type": "execute_result"
    }
   ],
   "source": [
    "deltapN = pi_ZV[0] - 0.25*second_bit\n",
    "deltapN"
   ]
  },
  {
   "cell_type": "markdown",
   "id": "colonial-sitting",
   "metadata": {},
   "source": [
    "## Using the package\n",
    "\n",
    "**here I show them how I actually do it using the built in functions I've created**"
   ]
  },
  {
   "cell_type": "code",
   "execution_count": 9,
   "id": "impossible-numbers",
   "metadata": {},
   "outputs": [],
   "source": [
    "import sys\n",
    "\n",
    "sys.path.append('../functions/')\n",
    "from model_base import ModelBase"
   ]
  },
  {
   "cell_type": "code",
   "execution_count": 20,
   "id": "several-candy",
   "metadata": {},
   "outputs": [],
   "source": [
    "class Karamazov(ModelBase):\n",
    "\n",
    "    def __init__(self, *args, **kwargs):\n",
    "\n",
    "        # inherit everything\n",
    "        super(self.__class__, self).__init__(*args, **kwargs)\n",
    "\n",
    "        # we now have names for the strategies\n",
    "        self.strat_names = self.game_pars['strat_names']\n",
    "        \n",
    "        # we are hard-coding in payoffs 3-player, 2-strategy game\n",
    "        # with conditional nepotists and defectors\n",
    "        assert(self.n == 3)\n",
    "        assert(len(self.strat_names) == self.n_s == 2)\n",
    "\n",
    "    def payoff(self, strats, strat_counts):\n",
    "        '''\n",
    "        \n",
    "        Inputs:\n",
    "        ---\n",
    "\n",
    "        strats, list of str\n",
    "            A list of the strategy names in the same order as strat_counts.\n",
    "            We'll accept only 2 names --'cond_nepot', 'defect' -- but they\n",
    "            may be in either order, depending on which is focal\n",
    "\n",
    "        strat_counts, list of ints\n",
    "            How many individuals in the group are pursuing which strategies.\n",
    "            e.g., if strats = ['defect', 'cond_nepot'] and strat_counts = [2, 1],\n",
    "            then the group has 2 defectors and 1 conditional nepotist.\n",
    "            \n",
    "\n",
    "        Outputs:\n",
    "        ---\n",
    "\n",
    "        payoff, float\n",
    "            Payoff to and individual playing the focal strategy (strats[0])\n",
    "            (defectors in example above) given the distribution of strategies in strat_counts\n",
    "        '''\n",
    "        \n",
    "        # get our B and C values from the game parameters dictionary\n",
    "        B = self.game_pars['B'] # 1.5\n",
    "        C = self.game_pars['C'] # 1\n",
    "        \n",
    "        # identify our focal strategy, which is the strategy in the first position in strats\n",
    "        foc_strat = strats[0]\n",
    "        \n",
    "        # count how many conditional nepotists are in the group\n",
    "        no_N = strat_counts[0] if foc_strat == 'cond_nepot' else strat_counts[1]\n",
    "        \n",
    "        # determine payoffs\n",
    "        \n",
    "        if foc_strat == 'cond_nepot':\n",
    "            \n",
    "            if no_N == 3:     \n",
    "                \n",
    "                payoff_total = (2*B-2*C)/3    \n",
    "                \n",
    "            elif no_N == 2:\n",
    "                \n",
    "                payoff_total = -C/3     \n",
    "                \n",
    "            else: # no_N == 1       \n",
    "                \n",
    "                payoff_total = 0\n",
    "                \n",
    "        else: # foc_strat == 'defect'\n",
    "            \n",
    "            if no_N == 2:\n",
    "                \n",
    "                payoff_total = 2*B/3\n",
    "                \n",
    "            else:\n",
    "                \n",
    "                payoff_total = 0\n",
    "                \n",
    "        return payoff_total"
   ]
  },
  {
   "cell_type": "code",
   "execution_count": 21,
   "id": "informal-shakespeare",
   "metadata": {},
   "outputs": [],
   "source": [
    "game_pars = {\n",
    "        'strat_names': ['cond_nepot', 'defect'],\n",
    "        'B': 1.5,\n",
    "        'C': 1,\n",
    "        } \n"
   ]
  },
  {
   "cell_type": "markdown",
   "id": "sunset-sequence",
   "metadata": {},
   "source": [
    "... note that the group-formation model, which gives $F$, will be overwritten in a moment because we're investigating the special case of groups formed between siblings."
   ]
  },
  {
   "cell_type": "code",
   "execution_count": 22,
   "id": "silver-juice",
   "metadata": {},
   "outputs": [],
   "source": [
    "evol_pars = {\n",
    "        'group_formation_model': 'leader driven',   # we will overwrite this...\n",
    "        'q': 1,                                     # ... & this parameter for the group-formation model, ignore\n",
    "        'n': 3,                                     # group size\n",
    "        'n_s': 2,                                   # number of strategies\n",
    "        'partn2prob_dir': os.path.abspath('../results/partn2prob/'),\n",
    "        }\n"
   ]
  },
  {
   "cell_type": "code",
   "execution_count": 23,
   "id": "grand-remedy",
   "metadata": {},
   "outputs": [],
   "source": [
    "karamazov = Karamazov(evol_pars, game_pars)"
   ]
  },
  {
   "cell_type": "code",
   "execution_count": 24,
   "id": "fresh-complexity",
   "metadata": {},
   "outputs": [
    {
     "data": {
      "text/plain": [
       "[1.0, 0.0, 0]"
      ]
     },
     "execution_count": 24,
     "metadata": {},
     "output_type": "execute_result"
    }
   ],
   "source": [
    "karamazov.F"
   ]
  },
  {
   "cell_type": "markdown",
   "id": "chronic-perspective",
   "metadata": {},
   "source": [
    "Overwrite the $F$ with the $F$ calculated above"
   ]
  },
  {
   "cell_type": "code",
   "execution_count": 87,
   "id": "increased-portugal",
   "metadata": {},
   "outputs": [
    {
     "data": {
      "text/plain": [
       "[0, 0.75, 0.25]"
      ]
     },
     "execution_count": 87,
     "metadata": {},
     "output_type": "execute_result"
    }
   ],
   "source": [
    "F"
   ]
  },
  {
   "cell_type": "code",
   "execution_count": 25,
   "id": "deadly-manitoba",
   "metadata": {},
   "outputs": [],
   "source": [
    "karamazov.F = F"
   ]
  },
  {
   "cell_type": "markdown",
   "id": "intense-river",
   "metadata": {},
   "source": [
    "Check it's giving the same results"
   ]
  },
  {
   "cell_type": "code",
   "execution_count": 31,
   "id": "threaded-citizen",
   "metadata": {},
   "outputs": [
    {
     "data": {
      "image/png": "[encoded data removed]",
      "text/plain": [
       "<Figure size 504x360 with 1 Axes>"
      ]
     },
     "metadata": {
      "needs_background": "light"
     },
     "output_type": "display_data"
    }
   ],
   "source": [
    "deltapNDV = [karamazov.deltap_fnc([p, 1-p]) for p in pV]\n",
    "deltapNV, deltapDV = zip(*deltapNDV)\n",
    "\n",
    "plt.plot(pV, deltapNV, color='blue')\n",
    "plt.axhline(0, color='black')\n",
    "plt.xlabel('propn conditional nepotists $p$')\n",
    "plt.ylabel('change in conditional nepotists $\\Delta p$')\n",
    "plt.show()"
   ]
  },
  {
   "cell_type": "code",
   "execution_count": 33,
   "id": "romantic-marble",
   "metadata": {},
   "outputs": [
    {
     "data": {
      "text/plain": [
       "[(3, 0), (2, 1), (1, 2)]"
      ]
     },
     "execution_count": 33,
     "metadata": {},
     "output_type": "execute_result"
    }
   ],
   "source": [
    "karamazov.full_strat_countsV"
   ]
  },
  {
   "cell_type": "code",
   "execution_count": 35,
   "id": "studied-giant",
   "metadata": {},
   "outputs": [
    {
     "data": {
      "text/plain": [
       "[[(3,), (1,), (0,)], [(6,), (2,), (0,)], [(3,), (3,), (3,)]]"
      ]
     },
     "execution_count": 35,
     "metadata": {},
     "output_type": "execute_result"
    }
   ],
   "source": [
    "karamazov.CM"
   ]
  },
  {
   "cell_type": "code",
   "execution_count": 38,
   "id": "selected-prayer",
   "metadata": {},
   "outputs": [
    {
     "data": {
      "text/plain": [
       "[[((1, 2),), ((1, 1),), ((0, 0),)],\n",
       " [((2, 1),), ((1, 1),), ((0, 0),)],\n",
       " [((3, 0),), ((2, 0),), ((1, 0),)]]"
      ]
     },
     "execution_count": 38,
     "metadata": {},
     "output_type": "execute_result"
    }
   ],
   "source": [
    "karamazov.WM"
   ]
  },
  {
   "cell_type": "code",
   "execution_count": 60,
   "id": "great-spain",
   "metadata": {},
   "outputs": [
    {
     "data": {
      "text/plain": [
       "array([[0.015625, 0.0625  , 0.25    ],\n",
       "       [0.09375 , 0.125   , 0.      ],\n",
       "       [0.140625, 0.0625  , 0.      ]])"
      ]
     },
     "execution_count": 60,
     "metadata": {},
     "output_type": "execute_result"
    }
   ],
   "source": [
    "P = karamazov.calc_P([0.25, 0.75])\n",
    "P"
   ]
  },
  {
   "cell_type": "code",
   "execution_count": 61,
   "id": "noticed-association",
   "metadata": {},
   "outputs": [
    {
     "data": {
      "text/plain": [
       "array([[0.421875, 0.5625  , 0.75    ],\n",
       "       [0.28125 , 0.125   , 0.      ],\n",
       "       [0.046875, 0.0625  , 0.      ]])"
      ]
     },
     "execution_count": 61,
     "metadata": {},
     "output_type": "execute_result"
    }
   ],
   "source": [
    "P = karamazov.calc_P([0.75, 0.25])\n",
    "P"
   ]
  },
  {
   "cell_type": "code",
   "execution_count": 76,
   "id": "naughty-fashion",
   "metadata": {},
   "outputs": [
    {
     "data": {
      "text/plain": [
       "[-0.007812500000000003, 0.0078125]"
      ]
     },
     "execution_count": 76,
     "metadata": {},
     "output_type": "execute_result"
    }
   ],
   "source": [
    "karamazov.deltap_fnc([0.25, 0.75])"
   ]
  },
  {
   "cell_type": "code",
   "execution_count": null,
   "id": "trying-application",
   "metadata": {},
   "outputs": [],
   "source": []
  }
 ],
 "metadata": {
  "kernelspec": {
   "display_name": "Python 3",
   "language": "python",
   "name": "python3"
  },
  "language_info": {
   "codemirror_mode": {
    "name": "ipython",
    "version": 3
   },
   "file_extension": ".py",
   "mimetype": "text/x-python",
   "name": "python",
   "nbconvert_exporter": "python",
   "pygments_lexer": "ipython3",
   "version": "3.9.2"
  }
 },
 "nbformat": 4,
 "nbformat_minor": 5
}
