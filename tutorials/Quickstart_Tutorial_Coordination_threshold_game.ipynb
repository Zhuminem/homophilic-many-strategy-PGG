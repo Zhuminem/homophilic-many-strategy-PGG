{
 "cells": [
  {
   "cell_type": "code",
   "execution_count": 1,
   "id": "russian-greensboro",
   "metadata": {},
   "outputs": [
    {
     "data": {
      "text/html": [
       "\n",
       "<style>\n",
       ".output_png {\n",
       "  display: table-cell;\n",
       "  text-align: center;\n",
       "  vertical-align: middle;\n",
       "}\n",
       "</style>\n"
      ],
      "text/plain": [
       "<IPython.core.display.HTML object>"
      ]
     },
     "execution_count": 1,
     "metadata": {},
     "output_type": "execute_result"
    }
   ],
   "source": [
    "# useful modules\n",
    "import matplotlib.pyplot as plt\n",
    "import os\n",
    "import numpy as np\n",
    "\n",
    "# allows us to access the modules directory in the repository\n",
    "import sys\n",
    "sys.path.append('../functions/')\n",
    "\n",
    "# just my personal preferences for plotting in Jupyter\n",
    "plt.rcParams['font.size'] = '16'\n",
    "plt.rcParams['figure.figsize'] = [7, 5]\n",
    "from IPython.core.display import HTML\n",
    "HTML(\"\"\"\n",
    "<style>\n",
    ".output_png {\n",
    "  display: table-cell;\n",
    "  text-align: center;\n",
    "  vertical-align: middle;\n",
    "}\n",
    "</style>\n",
    "\"\"\")"
   ]
  },
  {
   "cell_type": "markdown",
   "id": "coated-teaching",
   "metadata": {},
   "source": [
    "# Quickstart Tutorial: Coordination in a threshold game\n",
    "\n",
    "The purpose of this tutorial is to allow the reader to quickly get started using our method. For this purpose, we will use coordinated cooperation in a threshold public goods game as our example. To implementing your own cooperation scenario, you will need to replace `ThresholdUDCL` class below, particularly the `payoff()` method. To find this example as stand-alone scripts (i.e., not embedded in a Jupyter Notebook), please refer to the repository directory: `/scripts/thresholdUDCL/`."
   ]
  },
  {
   "cell_type": "markdown",
   "id": "indonesian-patch",
   "metadata": {},
   "source": [
    "## 1. Specify the scenario and payoff function\n",
    "\n",
    "Let us begin by defining some game parameter values.\n",
    "\n",
    "We will consider the evolutionary dynamics of the 4 strategies described in the main text: Unconditional Cooperators (U), Unconditional Defectors (D), Coordinating Cooperators (C), and Liars (L). \n",
    "\n",
    "The cognitive cost that Coordinating Cooperators and Liars pay for understanding how the game works and coordinating the lottery is $-0.1$.\n",
    "\n",
    "Groups will play the threshold public goods game, where a public good is provided when the number of contributors in the group meets a minimum threshold, $\\tau \\geq 5$. \n",
    "\n",
    "The cost of contributing to the public good is $-1$. \n",
    "\n",
    "The benefit produced by the public good when the threshold is met is $3$."
   ]
  },
  {
   "cell_type": "code",
   "execution_count": 2,
   "id": "worst-vatican",
   "metadata": {},
   "outputs": [],
   "source": [
    "game_pars = {\n",
    "        'strat_names': ['D', 'C', 'L', 'U'],\n",
    "        'cognitive_cost': -0.1, # a small cost to understanding coordination\n",
    "        'tau': 5,               # lottery quorum and midpoint of benefits function minus 0.5\n",
    "        'contrib_cost': -1,     # cost of contributing to public good\n",
    "        'benefit_thresh_met': 3 # benefit when threshold is met\n",
    "        }"
   ]
  },
  {
   "cell_type": "markdown",
   "id": "absent-damages",
   "metadata": {},
   "source": [
    "We want to model genetically homophilic group formation, so we will define evolutionary parameter values, which are those used to calculate the probability of different group strategy distributions using the homophilic group-formation model.\n",
    "\n",
    "We choose 8 individuals per group.\n",
    "\n",
    "The number of strategies is 4.\n",
    "\n",
    "We will use the 'members recruit' group-formation model, where the initial member is chosen at random, and current group members have an equal chance to recruit the next member. \n",
    "\n",
    "Members recruit nonkin with probability $q$ kin with probability $1-q$ (i.e., homophily $h = 1-q$). We will choose $q=0.8$.\n",
    "\n",
    "To use the members-recruit model, we need to specify where the combinatorial terms need for the homophily calculation are stored, which is in the repository in the directory `members_recruit_comb_term/`\n",
    "\n",
    "We must also specify where the coefficients $C(\\Phi)$ and the powers in $A(\\Phi, \\boldsymbol{p})$ are stored, which is in the repository in the directory `results/partn2prob/`"
   ]
  },
  {
   "cell_type": "code",
   "execution_count": 3,
   "id": "welcome-sense",
   "metadata": {},
   "outputs": [],
   "source": [
    "evol_pars = {\n",
    "        'n': 8,                                     # group size\n",
    "        'n_s': 4,                                   # number of strategies\n",
    "        'group_formation_model': 'members recruit', # group formation model\n",
    "        'q': 0.5,                                   # parameter for leader-driven model\n",
    "        'sumprodm_dir': os.path.abspath('../members_recruit_comb_term/'),\n",
    "        'partn2prob_dir': os.path.abspath('../results/partn2prob/'),\n",
    "        }"
   ]
  },
  {
   "cell_type": "markdown",
   "id": "touched-japan",
   "metadata": {},
   "source": [
    "To specify the model, we will make use of the abstract base class `ModelBase` in `functions/model_base.py`."
   ]
  },
  {
   "cell_type": "code",
   "execution_count": 1,
   "id": "elementary-hawaii",
   "metadata": {},
   "outputs": [
    {
     "ename": "SyntaxError",
     "evalue": "invalid syntax (<ipython-input-1-f55575a58d5e>, line 3)",
     "output_type": "error",
     "traceback": [
      "\u001b[0;36m  File \u001b[0;32m\"<ipython-input-1-f55575a58d5e>\"\u001b[0;36m, line \u001b[0;32m3\u001b[0m\n\u001b[0;31m    ModelBase.payoff? # uncomment this line to see the help documentation quoted below\u001b[0m\n\u001b[0m                    ^\u001b[0m\n\u001b[0;31mSyntaxError\u001b[0m\u001b[0;31m:\u001b[0m invalid syntax\n"
     ]
    }
   ],
   "source": [
    "from model_base import ModelBase\n",
    "\n",
<<<<<<< Updated upstream
    "# ModelBase.payoff? # uncomment this line to see the help documentation quoted below or use help() function"
=======
    "ModelBase.payoff? # uncomment this line to see the help documentation quoted below"
>>>>>>> Stashed changes
   ]
  },
  {
   "cell_type": "markdown",
   "id": "encouraging-camping",
   "metadata": {},
   "source": [
    " `ModelBase` has an abstract method called `payoff()`, which accepts a group's strategy distribution and returns the payoff to the focal strategy. The help documentation reads:\n",
    "\n",
    "```\n",
    "Signature: ModelBase.payoff(self, strats, strat_counts)\n",
    "Docstring:\n",
    "Write a function that accepts strategy distribution and returns payoff.  Ensure the game_pars \n",
    "dictionary has all the parameters it needs.\n",
    "\n",
    "Inputs:\n",
    "---\n",
    "\n",
    "strats, list of str:\n",
    "    A list of the strategy names in the same order as strat_counts.  Index 0 in strats is \n",
    "    treated as the focal strategy.\n",
    "\n",
    "strat_counts:\n",
    "    How many individuals in the group are pursuing which strategies.  For example, if \n",
    "    strats = ['C', 'D', 'P'] and strat_counts = [2, 1, 3], then the group has 2 \n",
    "    cooperators, 1 defector, and 3 punishers.\n",
    "\n",
    "Outputs:\n",
    "---\n",
    "\n",
    "payoff, float\n",
    "    Payoff to and individual playing the focal strategy (strats[0], cooperators in example \n",
    "    above) given the distribution of strategies in strat_counts.\n",
    "File:      ~/work/hisashi/code/togit_homophilic_mstrat/functions/model_base.py\n",
    "Type:      function\n",
    "```\n",
    "\n",
    "We will create a class `ThresholdUDCL` that inherits the `ModelBase` class and implements the `payoff()` method corresponding to a threshold game."
   ]
  },
  {
   "cell_type": "code",
   "execution_count": 5,
   "id": "secondary-sussex",
   "metadata": {},
   "outputs": [],
   "source": [
    "from scipy.special import binom\n",
    "\n",
    "class ThresholdUDCL(ModelBase):\n",
    "\n",
    "    def __init__(self, *args, **kwargs):\n",
    "\n",
    "        # inherit everything\n",
    "        super(self.__class__, self).__init__(*args, **kwargs)\n",
    "\n",
    "        # we now have names for the strategies\n",
    "        self.strat_names = self.game_pars['strat_names']\n",
    "\n",
    "\n",
    "    def __str__(self):\n",
    "\n",
    "        s = super().__str__()\n",
    "        s += 'A threshold game with a lottery mechanic adding Coordinated Cooperators and Liars.\\n'\n",
    "\n",
    "        return s\n",
    "\n",
    "\n",
    "    def payoff(self, strats, strat_counts):\n",
    "\n",
    "        # parameters to set up game\n",
    "        # ---\n",
    "\n",
    "        n = self.n # group size\n",
    "        tau = self.game_pars['tau'] # both the quorum and the threshold\n",
    "        cognitive_cost = self.game_pars['cognitive_cost']\n",
    "        contrib_cost = self.game_pars['contrib_cost']\n",
    "        benefit_thresh_met = self.game_pars['benefit_thresh_met']\n",
    "\n",
    "        \n",
    "        # we calculate the payoff for the focal strategy, which is always the first strategy in strats\n",
    "        # ---\n",
    "        \n",
    "        focal_strat = strats[0]\n",
    "\n",
    "\n",
    "        # check we got sensible inputs\n",
    "        # ---\n",
    "\n",
    "        assert(sum(strat_counts) == n)\n",
    "        assert(strat_counts[0] > 0)\n",
    "\n",
    "\n",
    "        # calculate the payoff to the focal\n",
    "        # ---\n",
    "\n",
    "        # count the number of each strategy in the group\n",
    "\n",
    "        countDict = dict(zip(strats, strat_counts))\n",
    "        countU = 0 if 'U' not in countDict else countDict['U'] # Unconditional Cooperators\n",
    "        countD = 0 if 'D' not in countDict else countDict['D'] # Unconditional Defectors\n",
    "        countC = 0 if 'C' not in countDict else countDict['C'] # Coordinating Cooperators\n",
    "        countL = 0 if 'L' not in countDict else countDict['L'] # Liars\n",
    "\n",
    "\n",
    "        # payoff calculation depends on whether or not the lottery quorum is met\n",
    "        # ---\n",
    "\n",
    "        if countC + countL < tau: # if the lottery quorum is not met\n",
    "\n",
    "            k = countU                                      # only U will contribute\n",
    "            benefit = benefit_thresh_met if k >= tau else 0 # benefit from PGG\n",
    "\n",
    "            # payoff returned depends on the focal strategy\n",
    "            \n",
    "            if focal_strat == 'U':\n",
    "\n",
    "                payoff_total = benefit + contrib_cost\n",
    "\n",
    "            elif focal_strat == 'D':\n",
    "\n",
    "                payoff_total = benefit\n",
    "\n",
    "            else: # focal_strat == C or L\n",
    "\n",
    "                payoff_total = benefit + cognitive_cost\n",
    "\n",
    "        else: # if the lottery quorum is met\n",
    "\n",
    "            # probability that j Coordinating Cooperators (in contrast to Liars)\n",
    "            # will be designated as contributors by the lottery\n",
    "            \n",
    "            denom = binom(countC + countL, tau)\n",
    "            PjV = [binom(countC, j)*binom(countL, tau-j)/denom for j in range(0, tau+1)]\n",
    "\n",
    "            # the benefit returned for each j\n",
    "            benefitjV = [benefit_thresh_met if j+countU >= tau else 0 for j in range(0, tau+1)]\n",
    "\n",
    "            # payoff returned depends on the focal strategy\n",
    "            \n",
    "            if focal_strat == 'U':\n",
    "\n",
    "                payoff_total = sum(Pj*benefitj for Pj, benefitj in zip(PjV, benefitjV)) + contrib_cost\n",
    "\n",
    "            elif focal_strat == 'D':\n",
    "\n",
    "                payoff_total = sum(Pj*benefitj for Pj, benefitj in zip(PjV, benefitjV))\n",
    "\n",
    "            elif focal_strat == 'C':\n",
    "\n",
    "                payoff_total = sum(PjV[j]*(benefitjV[j] + contrib_cost*j/countC) for j in range(0, tau+1)) + cognitive_cost\n",
    "\n",
    "            else: # focal_strat == 'L':\n",
    "\n",
    "                payoff_total = sum(Pj*benefitj for Pj, benefitj in zip(PjV, benefitjV)) + cognitive_cost\n",
    "\n",
    "\n",
    "        return payoff_total\n"
   ]
  },
  {
   "cell_type": "markdown",
   "id": "ordinary-diagnosis",
   "metadata": {},
   "source": [
    "## 2. Initialise the model\n",
    "\n",
    "We can now initialise the model by instantiating the `ThresholdUDCL` class, which incorporates the `payoff()` method above and calculates the necessary outputs from the group-formation model (e.g., partition-structure probabilities $F$)."
   ]
  },
  {
   "cell_type": "code",
   "execution_count": 6,
   "id": "continent-parliament",
   "metadata": {},
   "outputs": [],
   "source": [
    "thresholdUDCL = ThresholdUDCL(evol_pars, game_pars)"
   ]
  },
  {
   "cell_type": "markdown",
   "id": "reasonable-fever",
   "metadata": {},
   "source": [
    "### 2.1 Features of the model object\n",
    "\n",
    "The initialisation incorporates our `payoff()` method into the `thresholdUDCL` model object. For example, we could now plot the payoffs to Coordinating Cooperators and Defectors using `thresholdUDCL`."
   ]
  },
  {
   "cell_type": "code",
   "execution_count": 7,
   "id": "potential-dance",
   "metadata": {},
   "outputs": [
    {
     "data": {
      "image/png": "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\n",
      "text/plain": [
       "<Figure size 504x360 with 1 Axes>"
      ]
     },
     "metadata": {
      "needs_background": "light"
     },
     "output_type": "display_data"
    }
   ],
   "source": [
    "strats = ['C', 'D']\n",
    "n = evol_pars['n']\n",
    "strat_countsV = [ [i, n-i] for i in range(1, n+1) ]\n",
    "\n",
    "# strategy C payoffs \n",
    "aV = [thresholdUDCL.payoff(strats, strat_counts) for strat_counts in strat_countsV]\n",
    "\n",
    "# strategy D payoffs \n",
    "r_strats = list(reversed(strats))\n",
    "bV = [thresholdUDCL.payoff(r_strats, strat_counts) for strat_counts in reversed(strat_countsV)]\n",
    "\n",
    "plt.plot(range(n), aV, '-o', color='blue', label='C')\n",
    "plt.plot(range(n), bV, '-o', color='red', label='D')\n",
    "plt.title('Coordinating Cooperators vs Unconditional Defectors')\n",
    "plt.xlabel(r'no. of Coordinating Cooperators among $n-1$ others', fontsize='medium')\n",
    "plt.ylabel(r'payoff', fontsize='medium')\n",
    "plt.legend(loc='best')\n",
    "plt.show()"
   ]
  },
  {
   "cell_type": "markdown",
   "id": "retired-thompson",
   "metadata": {},
   "source": [
    "The initialisation also gives us necessary statistics and terms needed to account for homophilic group formation.\n",
    "\n",
    "A \"compressed\" version of the $C(\\Phi)$ coefficients and $A(\\Phi, \\boldsymbol{p})$ powers from `../results/partn2prob/` are now stored in matrices in `thresholdUDCL`"
   ]
  },
  {
   "cell_type": "code",
   "execution_count": 8,
   "id": "identical-layer",
   "metadata": {},
   "outputs": [
    {
     "name": "stdout",
     "output_type": "stream",
     "text": [
      "[(1680,), (180, 60, 60), (30,)]...\n",
      "[(8,), (6,), (5,)]...\n",
      "[(280,), (60, 30), (20, 5)]...\n"
     ]
    }
   ],
   "source": [
    "# print the first 3 rows and columns\n",
    "\n",
    "for row in range(3):\n",
    "    print(f'{thresholdUDCL.CM[row][:3]}...')"
   ]
  },
  {
   "cell_type": "code",
   "execution_count": 9,
   "id": "major-pillow",
   "metadata": {},
   "outputs": [
    {
     "name": "stdout",
     "output_type": "stream",
     "text": [
      "[((1, 2, 2, 3),), ((1, 2, 2, 2), (1, 2, 1, 3), (1, 1, 2, 3)), ((1, 2, 2, 1),)]...\n",
      "[((1, 0, 0, 7),), ((1, 0, 0, 6),), ((1, 0, 0, 5),)]...\n",
      "[((1, 0, 3, 4),), ((1, 0, 3, 3), (1, 0, 2, 4)), ((1, 0, 3, 2), (1, 0, 1, 4))]...\n"
     ]
    }
   ],
   "source": [
    "for row in range(3):\n",
    "    print(f'{thresholdUDCL.WM[row][:3]}...')"
   ]
  },
  {
   "cell_type": "markdown",
   "id": "academic-longer",
   "metadata": {},
   "source": [
    "The probabilities of different family partition structures $F$ were calculated during the initialisation and are stored in `thresholdUDCL`. "
   ]
  },
  {
   "cell_type": "code",
   "execution_count": 10,
   "id": "hearing-space",
   "metadata": {},
   "outputs": [
    {
     "name": "stdout",
     "output_type": "stream",
     "text": [
      "family partition structure | probability of partn structure, F\n",
      "-------------------------- | ---------------------------------\n",
      "[1, 1, 1, 1, 1, 1, 1, 1]   | 0.0078125\n",
      "[1, 1, 1, 1, 1, 1, 2]      | 0.0546875\n",
      "[1, 1, 1, 1, 1, 3]         | 0.06886160714285715\n",
      "[1, 1, 1, 1, 2, 2]         | 0.09520089285714285\n",
      "[1, 1, 1, 1, 4]            | 0.08444940476190477\n",
      "[1, 1, 1, 2, 3]            | 0.1472594246031746\n",
      "[1, 1, 1, 5]               | 0.0859747023809524\n",
      "[1, 1, 2, 2, 2]            | 0.04172867063492063\n",
      "[1, 1, 2, 4]               | 0.10136718750000001\n",
      "[1, 1, 3, 3]               | 0.03860987103174603\n",
      "[1, 1, 6]                  | 0.06529017857142856\n",
      "[1, 2, 2, 3]               | 0.04530319940476191\n",
      "[1, 2, 5]                  | 0.04899553571428572\n",
      "[1, 3, 4]                  | 0.032421875\n",
      "[1, 7]                     | 0.032366071428571425\n",
      "[2, 2, 2, 2]               | 0.0021825396825396826\n",
      "[2, 2, 4]                  | 0.009821428571428573\n",
      "[2, 3, 3]                  | 0.007533482142857143\n",
      "[2, 6]                     | 0.011904761904761904\n",
      "[3, 5]                     | 0.007291666666666668\n",
      "[4, 4]                     | 0.0031249999999999997\n",
      "[8]                        | 0.0078125\n"
     ]
    }
   ],
   "source": [
    "# print a table of family partition structures and their probabilities\n",
    "\n",
    "def print_F_table():\n",
    "    \n",
    "    print('family partition structure | probability of partn structure, F')\n",
    "    print('-------------------------- | ---------------------------------')\n",
    "\n",
    "    for partn, F in zip(thresholdUDCL.partnV, thresholdUDCL.F):\n",
    "\n",
    "        partn_str = str(partn)\n",
    "        partn_str = partn_str + ' '*(26-len(partn_str))\n",
    "        print(partn_str + f' | {F}')\n",
    "        \n",
    "print_F_table()"
   ]
  },
  {
   "cell_type": "markdown",
   "id": "arbitrary-angola",
   "metadata": {},
   "source": [
    "These may be updated without reinitialising the whole model using the `update_F()` method, which is useful for exploring how the dynamics change with changing homophily level."
   ]
  },
  {
   "cell_type": "code",
   "execution_count": 11,
   "id": "military-solid",
   "metadata": {},
   "outputs": [
    {
     "name": "stdout",
     "output_type": "stream",
     "text": [
      "family partition structure | probability of partn structure, F\n",
      "-------------------------- | ---------------------------------\n",
      "[1, 1, 1, 1, 1, 1, 1, 1]   | 0.20971520000000007\n",
      "[1, 1, 1, 1, 1, 1, 2]      | 0.36700160000000004\n",
      "[1, 1, 1, 1, 1, 3]         | 0.11553060571428567\n",
      "[1, 1, 1, 1, 2, 2]         | 0.15972059428571422\n",
      "[1, 1, 1, 1, 4]            | 0.035420647619047604\n",
      "[1, 1, 1, 2, 3]            | 0.06176507936507934\n",
      "[1, 1, 1, 5]               | 0.009015100952380947\n",
      "[1, 1, 2, 2, 2]            | 0.01750227301587301\n",
      "[1, 1, 2, 4]               | 0.010629119999999994\n",
      "[1, 1, 3, 3]               | 0.00404853841269841\n",
      "[1, 1, 6]                  | 0.0017115428571428553\n",
      "[1, 2, 2, 3]               | 0.004750384761904759\n",
      "[1, 2, 5]                  | 0.0012843885714285703\n",
      "[1, 3, 4]                  | 0.0008499199999999992\n",
      "[1, 7]                     | 0.0002121142857142854\n",
      "[2, 2, 2, 2]               | 0.0002288558730158729\n",
      "[2, 2, 4]                  | 0.00025746285714285693\n",
      "[2, 3, 3]                  | 0.0001974857142857141\n",
      "[2, 6]                     | 7.801904761904753e-05\n",
      "[3, 5]                     | 4.778666666666661e-05\n",
      "[4, 4]                     | 2.0479999999999973e-05\n",
      "[8]                        | 1.279999999999998e-05\n"
     ]
    }
   ],
   "source": [
    "thresholdUDCL.evol_pars['q'] = 0.8\n",
    "thresholdUDCL.update_F()\n",
    "\n",
    "print_F_table()"
   ]
  },
  {
   "cell_type": "markdown",
   "id": "statutory-victory",
   "metadata": {},
   "source": [
    "## 3. Calculate $\\Delta \\boldsymbol{p}$"
   ]
  },
  {
   "cell_type": "markdown",
   "id": "rational-arkansas",
   "metadata": {},
   "source": [
    "The method `delta_p()`, which is inherited from the `ModelBase` abstract class, is used to calculate $\\Delta p_x$. For example, $\\Delta \\boldsymbol{p}$ calculated at $\\boldsymbol{p} = [p_D, p_C, p_L, p_U] = [1/4, 1/4, 1/4, 1/4]$ is"
   ]
  },
  {
   "cell_type": "code",
   "execution_count": 12,
   "id": "foreign-working",
   "metadata": {},
   "outputs": [
    {
     "data": {
      "text/plain": [
       "[0.024553519206349236,\n",
       " 0.029148999642857106,\n",
       " 0.024035223849206356,\n",
       " -0.0777377426984127]"
      ]
     },
     "execution_count": 12,
     "metadata": {},
     "output_type": "execute_result"
    }
   ],
   "source": [
    "p = [0.25, 0.25, 0.25, 0.25] # write these in the same order as in game_pars['strat_names']\n",
    "delta_p = thresholdUDCL.deltap_fnc(p)\n",
    "delta_p"
   ]
  },
  {
   "cell_type": "markdown",
   "id": "ignored-globe",
   "metadata": {},
   "source": [
    "## 4. Explore the dynamics\n",
    "\n",
    "### 4.1 Explore dynamics on the faces of the tetrahedral strategy space\n",
    "\n",
    "The `tetraplot4class` module contains specialised plotting functions when $m=4$. We can use it to plot the dynamics on the faces of the tetrahedral strategy space (on the \"net\")."
   ]
  },
  {
   "cell_type": "code",
   "execution_count": 13,
   "id": "accredited-salon",
   "metadata": {},
   "outputs": [],
   "source": [
    "import tetraplot4class as tp"
   ]
  },
  {
   "cell_type": "code",
   "execution_count": 14,
   "id": "conditional-collapse",
   "metadata": {},
   "outputs": [
    {
     "name": "stdout",
     "output_type": "stream",
     "text": [
      "This will take about 2 minutes ...\n"
     ]
    },
    {
     "data": {
      "image/png": "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\n",
      "text/plain": [
       "<Figure size 504x360 with 1 Axes>"
      ]
     },
     "metadata": {
      "needs_background": "light"
     },
     "output_type": "display_data"
    }
   ],
   "source": [
    "# create the plot axis object\n",
    "ax = plt.figure().add_subplot(1,1,1)\n",
    "\n",
    "# define the corners of the triangles in the net plot\n",
    "tris = tp.net_plot_initialise(ax, thresholdUDCL.strat_names)\n",
    "\n",
    "# get a list of barycentric grid points for each face of the tetrahedron\n",
    "lV = tp.net_get_face_mesh(2**5)        # fine mesh\n",
    "lV_coarse = tp.net_get_face_mesh(2**3) # coarse mesh\n",
    "\n",
    "\n",
    "# get dynamics\n",
    "\n",
    "print('This will take about 2 minutes ...')\n",
    "\n",
    "# find fixed points using coarse grid as start points\n",
    "fp_baryV = tp.net_find_fixed_points(lV_coarse, thresholdUDCL.deltap_fnc)\n",
    "\n",
    " # find gradient of selection at each point on fine grid\n",
    "strengthsV, dirn_normV = tp.net_calc_grad_on_mesh(tris, lV, thresholdUDCL.deltap_fnc)\n",
    "\n",
    "\n",
    "# plot dynamics\n",
    "\n",
    "# rate of change (colour contour)\n",
    "tp.net_plot_dynamics_rate(ax, tris, lV, strengthsV)\n",
    "\n",
    "# direction of selection (arrows)\n",
    "tp.net_plot_dynamics_dirn(ax, tris, lV, dirn_normV)     \n",
    "\n",
    "# fixed points with colours indicating their stability\n",
    "tp.net_plot_fixed_points_w_stability(ax, tris, fp_baryV, thresholdUDCL.calc_stability)\n",
    "\n",
    "plt.show()\n"
   ]
  },
  {
   "cell_type": "markdown",
   "id": "dramatic-architect",
   "metadata": {},
   "source": [
    "The axes correspond to the strategy names in `thresholdUDCL.game_pars['strat_names']`. Evolutionarily stable steady states are marked in blue and unstable states in red. \n",
    "\n",
    "Note that stability is calculated with respect to those strategies that are present in the population. For example, the stable state between U and L represents coexistence of Unconditional Cooperators and Liars in the population. However, as we will see below, that population is invasible to D (Unconditional Defectors)."
   ]
  },
  {
   "cell_type": "markdown",
   "id": "modular-cisco",
   "metadata": {},
   "source": [
    "### 4.2 Invasibility of steady states"
   ]
  },
  {
   "cell_type": "markdown",
   "id": "closed-uncle",
   "metadata": {},
   "source": [
    "Invasion fitness can be calculated using the method `calc_invasion_fitness()`. For example, the figure above shows stable coexistence between Liars and Unconditional Cooperators; however, the quiver plot suggests that L+U is invasible to D. We can verify this by checking that the invasion fitness of D at the L+U coexistence is positive."
   ]
  },
  {
   "cell_type": "markdown",
   "id": "productive-rover",
   "metadata": {},
   "source": [
    "In the process of generating the plot above, we calculated the positions of the steady states, which are stored in `fp_baryV`. Rows of `fp_baryV` above correspond to faces of the tetrahedron, where the strategy omitted corresponds to the order of strategies in `game_pars['strat_names'` (i.e., omit D, C, L, then U). So we will take the second row (omits C) and format it into a list of lists that replaces the missing $p_C$ with 0."
   ]
  },
  {
   "cell_type": "code",
   "execution_count": 15,
   "id": "vertical-setting",
   "metadata": {},
   "outputs": [
    {
     "name": "stdout",
     "output_type": "stream",
     "text": [
      "row |  p_D*  |  p_C*  |  p_L*  |  p_U*\n",
      "----|--------|--------|--------|--------\n",
      " 0  | 1.0000 | 0.0000 | 0.0000 | 0.0000\n",
      " 1  | 0.3367 | 0.0000 | 0.0000 | 0.6633\n",
      " 2  | 0.0000 | 0.0000 | 0.0000 | 1.0000\n",
      " 3  | 0.0000 | 0.0000 | 1.0000 | 0.0000\n",
      " 4  | 0.0000 | 0.0000 | 0.2862 | 0.7138\n",
      " 5  | 0.5129 | 0.0000 | 0.0000 | 0.4871\n",
      " 6  | 0.0000 | 0.0000 | 0.5670 | 0.4330\n"
     ]
    }
   ],
   "source": [
    "# replace small numerical values with zeros and 1s\n",
    "\n",
    "for fp_bary in fp_baryV:\n",
    "    for fp in fp_bary:\n",
    "        fp[np.isclose(fp, 0, atol=1e-7)] = 0\n",
    "        fp[np.isclose(fp, 1, atol=1e-7)] = 1\n",
    "\n",
    "# take row 0, corresponding to the face with C omitted\n",
    "fp = [[row[0], 0, row[1], row[2]] for row in fp_baryV[1]]\n",
    "\n",
    "# print steady states found in a table\n",
    "print('row |  p_D*  |  p_C*  |  p_L*  |  p_U*')\n",
    "print('----|--------|--------|--------|--------')\n",
    "\n",
    "for i, row in enumerate(fp):\n",
    "    \n",
    "    print(f' {i}  | {row[0]:6.4f} | {row[1]:6.4f} | {row[2]:6.4f} | {row[3]:6.4f}')\n"
   ]
  },
  {
   "cell_type": "markdown",
   "id": "radio-consistency",
   "metadata": {},
   "source": [
    "The L+U coexistence of interest is in row 5 (**note**: it may be in a different row when you run it)"
   ]
  },
  {
   "cell_type": "code",
   "execution_count": 18,
   "id": "adverse-representation",
   "metadata": {},
   "outputs": [
    {
     "data": {
      "text/plain": [
       "[0.5129192170251904, 0, 0.0, 0.48708078297486634]"
      ]
     },
     "execution_count": 18,
     "metadata": {},
     "output_type": "execute_result"
    }
   ],
   "source": [
    "fp_LU = fp[5]\n",
    "fp_LU"
   ]
  },
  {
   "cell_type": "markdown",
   "id": "forward-bryan",
   "metadata": {},
   "source": [
    "The invasion fitness of D into L+U is positive, which verifies that Unconditional Defectors can invade."
   ]
  },
  {
   "cell_type": "code",
   "execution_count": 19,
   "id": "differential-violin",
   "metadata": {},
   "outputs": [
    {
     "ename": "AssertionError",
     "evalue": "",
     "output_type": "error",
     "traceback": [
      "\u001b[0;31m---------------------------------------------------------------------------\u001b[0m",
      "\u001b[0;31mAssertionError\u001b[0m                            Traceback (most recent call last)",
      "\u001b[0;32m<ipython-input-19-58cbcd8ffc2a>\u001b[0m in \u001b[0;36m<module>\u001b[0;34m\u001b[0m\n\u001b[0;32m----> 1\u001b[0;31m \u001b[0mthresholdUDCL\u001b[0m\u001b[0;34m.\u001b[0m\u001b[0mcalc_invasion_fitness\u001b[0m\u001b[0;34m(\u001b[0m\u001b[0;34m'D'\u001b[0m\u001b[0;34m,\u001b[0m \u001b[0mfp_LU\u001b[0m\u001b[0;34m)\u001b[0m\u001b[0;34m\u001b[0m\u001b[0;34m\u001b[0m\u001b[0m\n\u001b[0m",
      "\u001b[0;32m~/Desktop/Game Theory/Coding/homophilic-many-strategy-PGG/functions/model_base.py\u001b[0m in \u001b[0;36mcalc_invasion_fitness\u001b[0;34m(self, focal_name, strat_ps)\u001b[0m\n\u001b[1;32m    584\u001b[0m \u001b[0;34m\u001b[0m\u001b[0m\n\u001b[1;32m    585\u001b[0m         \u001b[0mfocal_idx\u001b[0m \u001b[0;34m=\u001b[0m \u001b[0mstrat_names\u001b[0m\u001b[0;34m.\u001b[0m\u001b[0mindex\u001b[0m\u001b[0;34m(\u001b[0m\u001b[0mfocal_name\u001b[0m\u001b[0;34m)\u001b[0m\u001b[0;34m\u001b[0m\u001b[0;34m\u001b[0m\u001b[0m\n\u001b[0;32m--> 586\u001b[0;31m         \u001b[0;32massert\u001b[0m \u001b[0mstrat_ps\u001b[0m\u001b[0;34m[\u001b[0m\u001b[0mfocal_idx\u001b[0m\u001b[0;34m]\u001b[0m \u001b[0;34m==\u001b[0m \u001b[0;36m0\u001b[0m \u001b[0;31m# must be evaluated at 0 for invasion\u001b[0m\u001b[0;34m\u001b[0m\u001b[0;34m\u001b[0m\u001b[0m\n\u001b[0m\u001b[1;32m    587\u001b[0m \u001b[0;34m\u001b[0m\u001b[0m\n\u001b[1;32m    588\u001b[0m \u001b[0;34m\u001b[0m\u001b[0m\n",
      "\u001b[0;31mAssertionError\u001b[0m: "
     ]
    }
   ],
   "source": [
    "thresholdUDCL.calc_invasion_fitness('D', fp_LU)"
   ]
  },
  {
   "cell_type": "markdown",
   "id": "supposed-warrior",
   "metadata": {},
   "source": [
    "After D invades, the plot indicates that the population will be driven towards a stable coexistence between Unconditional Defectors and Unconditional Cooperators, and that the D+U population is not invasible to Coordinating Cooperators.\n",
    "\n",
    "The D+U coexistence is in row 1 of our table (**note**: you may find it in a different row):"
   ]
  },
  {
   "cell_type": "code",
   "execution_count": 20,
   "id": "straight-biology",
   "metadata": {},
   "outputs": [
    {
     "data": {
      "text/plain": [
       "[0.3367328051438842, 0, 0.0, 0.6632671948561469]"
      ]
     },
     "execution_count": 20,
     "metadata": {},
     "output_type": "execute_result"
    }
   ],
   "source": [
    "fp_DU = fp[1]\n",
    "fp_DU"
   ]
  },
  {
   "cell_type": "markdown",
   "id": "enhanced-elizabeth",
   "metadata": {},
   "source": [
    "The invasion fitness of C into D+U is negative, which verifies that Coordinating Cooperators cannot invade."
   ]
  },
  {
   "cell_type": "code",
   "execution_count": 21,
   "id": "furnished-convergence",
   "metadata": {},
   "outputs": [
    {
     "data": {
      "text/plain": [
       "-0.08370323809513214"
      ]
     },
     "execution_count": 21,
     "metadata": {},
     "output_type": "execute_result"
    }
   ],
   "source": [
    "thresholdUDCL.calc_invasion_fitness('C', fp_DU)"
   ]
  },
  {
   "cell_type": "markdown",
   "id": "immune-integrity",
   "metadata": {},
   "source": [
    "### 4.2 Explore dynamics in the interior of the strategy space\n",
    "\n",
    "#### 4.2.1 Steady states, their stability, and their invasibility\n",
    "\n",
    "One way to find evolutionary steady states is to divide the strategy space into a mesh and use each mesh point as the initial point for the \"hybrid\" method from `scipy.optimize`. Some functions included in `tetraplot4class` can be used to perform these operations quickly."
   ]
  },
  {
   "cell_type": "code",
   "execution_count": 22,
   "id": "compatible-supplier",
   "metadata": {},
   "outputs": [],
   "source": [
    "ngrid = 3 # the number of grid points on each axis of the strategy space\n",
    "\n",
    "# divide the tetrahedron into a grid with ngrid points on each axis\n",
    "lV = tp.tet_get_mesh(ngrid)\n",
    "\n",
    "# find the fixed points numerically using lV as starting points\n",
    "fps = tp.tet_find_fixed_points(lV, thresholdUDCL.deltap_fnc)"
   ]
  },
  {
   "cell_type": "code",
   "execution_count": 26,
   "id": "reflected-semester",
   "metadata": {},
   "outputs": [
    {
     "data": {
      "text/plain": [
       "[array([1., 0., 0., 0.]),\n",
       " array([0.87327849, 0.12672151, 0.        , 0.        ]),\n",
       " array([ 5.12919217e-01, -1.04560111e-13, -5.72778902e-13,  4.87080783e-01]),\n",
       " array([0.24824622, 0.75175378, 0.        , 0.        ]),\n",
       " array([3.86197702e-01, 1.26721515e-01, 7.27260825e-17, 4.87080783e-01]),\n",
       " array([ 7.06511085e-15, -2.00744029e-22,  1.00000000e+00,  0.00000000e+00]),\n",
       " array([ 3.36732805e-01, -5.00611400e-23,  3.15201043e-23,  6.63267195e-01]),\n",
       " array([0., 1., 0., 0.]),\n",
       " array([2.02439085e-25, 6.90027467e-01, 3.09972533e-01, 0.00000000e+00]),\n",
       " array([1.00562224e-10, 4.53503208e-14, 4.71045426e-19, 1.00000000e+00]),\n",
       " array([-1.42459672e-19,  8.39459495e-23,  5.66987357e-01,  4.33012643e-01]),\n",
       " array([4.52475413e-16, 2.96267200e-16, 2.86222234e-01, 7.13777766e-01])]"
      ]
     },
     "execution_count": 26,
     "metadata": {},
     "output_type": "execute_result"
    }
   ],
   "source": [
    "fps"
   ]
  },
  {
   "cell_type": "markdown",
   "id": "sharing-theater",
   "metadata": {},
   "source": [
    "The number of steady states that are found depends on the size of the mesh, and this method can be computationally expensive, so we will load precalculated steady states here. The reader is referred to `/scripts/threshold_UDCL/calc_fixedpts_threshold_v1.py` for a full working example of how these steady states were found."
   ]
  },
  {
   "cell_type": "code",
   "execution_count": 27,
   "id": "superb-element",
   "metadata": {},
   "outputs": [
    {
     "data": {
      "text/plain": [
       "[(0, array([1., 0., 0., 0.])),\n",
       " (1, array([0.87327849, 0.12672151, 0.        , 0.        ])),\n",
       " (2, array([0.51291922, 0.        , 0.        , 0.48708078])),\n",
       " (3, array([0.3861977 , 0.12672151, 0.        , 0.48708078])),\n",
       " (4, array([0.24824622, 0.75175378, 0.        , 0.        ])),\n",
       " (5, array([0.        , 0.37829538, 0.39571445, 0.22599017])),\n",
       " (6, array([0.01299912, 0.11380482, 0.45329404, 0.41990201])),\n",
       " (7, array([0., 1., 0., 0.])),\n",
       " (8, array([0.33673281, 0.        , 0.        , 0.66326719])),\n",
       " (9, array([0.        , 0.11502314, 0.4683829 , 0.41659396])),\n",
       " (10, array([0., 0., 1., 0.])),\n",
       " (11, array([0.        , 0.        , 0.56698736, 0.43301264])),\n",
       " (12, array([0.        , 0.69002747, 0.30997253, 0.        ])),\n",
       " (13, array([0.21001129, 0.12672151, 0.        , 0.66326719])),\n",
       " (14, array([0.        , 0.        , 0.28622223, 0.71377777])),\n",
       " (15, array([0., 0., 0., 1.]))]"
      ]
     },
     "execution_count": 27,
     "metadata": {},
     "output_type": "execute_result"
    }
   ],
   "source": [
    "import pandas as pd\n",
    "\n",
    "# filename where precalculated steady states are stored\n",
    "fname = '../results/threshold_UDCL/fixedpts_stability_threshold_v1_members_recruit_ngrid_7_q_8000.csv'\n",
    "\n",
    "# get the precalculated steady states from the file\n",
    "df = pd.read_csv(fname)\n",
    "fps = list(df[['p_' + strat_name + '*' for strat_name in game_pars['strat_names']]].to_numpy())\n",
    "list(enumerate(fps))\n",
    "\n",
    "# recall the order of the strategy names is: D, C, L, U"
   ]
  },
  {
   "cell_type": "markdown",
   "id": "stylish-independence",
   "metadata": {},
   "source": [
    "The stability of each fixed point can be checked with the `calc_stability()` method. \n",
    "\n",
    "For example, the figure above indicates there are two steady states in the L+U population, and the steady state with more U is stable while the steady state with more L is unstable. We can verify that as follows:"
   ]
  },
  {
   "cell_type": "code",
   "execution_count": 28,
   "id": "fourth-stack",
   "metadata": {},
   "outputs": [
    {
     "name": "stdout",
     "output_type": "stream",
     "text": [
      "Steady state [0.0, 0.0, 0.5669873566263232, 0.4330126433739248] is unstable\n",
      "Steady state [0.0, 0.0, 0.2862222334823706, 0.7137777664548502] is stable\n"
     ]
    }
   ],
   "source": [
    "fp_LU1 = list(fps[11])\n",
    "fp_LU2 = list(fps[14])\n",
    "\n",
    "stab_LU1 = thresholdUDCL.calc_stability(fp_LU1)\n",
    "stab_LU2 = thresholdUDCL.calc_stability(fp_LU2)\n",
    "\n",
    "print(f'Steady state {fp_LU1} is {stab_LU1}')\n",
    "print(f'Steady state {fp_LU2} is {stab_LU2}')"
   ]
  },
  {
   "cell_type": "markdown",
   "id": "genuine-circle",
   "metadata": {},
   "source": [
    "The figure also indicates that the stable coexistence of L+U is invasible to Coordinating Cooperators C, which we can check with the `calc_invasion_fitness` method by verifying that C has a positive invasion fitness:"
   ]
  },
  {
   "cell_type": "code",
   "execution_count": 29,
   "id": "musical-african",
   "metadata": {},
   "outputs": [
    {
     "data": {
      "text/plain": [
       "0.040407581491670674"
      ]
     },
     "execution_count": 29,
     "metadata": {},
     "output_type": "execute_result"
    }
   ],
   "source": [
    "inv_fit_C = thresholdUDCL.calc_invasion_fitness('C', fp_LU2)\n",
    "inv_fit_C"
   ]
  },
  {
   "cell_type": "markdown",
   "id": "imported-russia",
   "metadata": {},
   "source": [
    "In contrast, the figure indicates that the stable C+D coexistence is uninvasible to both U and L. We can check this by verifying that both invasion fitnesses are negative:"
   ]
  },
  {
   "cell_type": "code",
   "execution_count": 30,
   "id": "jewish-google",
   "metadata": {},
   "outputs": [
    {
     "name": "stdout",
     "output_type": "stream",
     "text": [
      "The invasion fitness of U into C+D is -0.9759771428541852\n",
      "The invasion fitness of L into C+D is -0.11028370559697075\n"
     ]
    }
   ],
   "source": [
    "fp_CD = list(fps[1])\n",
    "\n",
    "inv_fit_U = thresholdUDCL.calc_invasion_fitness('U', fp_CD)\n",
    "inv_fit_L = thresholdUDCL.calc_invasion_fitness('L', fp_CD)\n",
    "\n",
    "print(f'The invasion fitness of U into C+D is {inv_fit_U}')\n",
    "print(f'The invasion fitness of L into C+D is {inv_fit_L}')"
   ]
  },
  {
   "cell_type": "markdown",
   "id": "earlier-bradley",
   "metadata": {},
   "source": [
    "#### 4.2.1 Plotting trajectories when $m=4$\n",
    "\n",
    "The `tetraplot4class` module includes a number of functions for plotting the evolutionary dynamics of a 4-strategy system in 3 dimensions. \n",
    "\n",
    "For example, let's say we wish to plot a number of trajectories starting near the all-U population."
   ]
  },
  {
   "cell_type": "code",
   "execution_count": 31,
   "id": "governmental-expression",
   "metadata": {},
   "outputs": [
    {
     "data": {
      "text/plain": [
       "[[0.0, 0.0, 0.01, 0.99],\n",
       " [0.0, 0.002, 0.008, 0.99],\n",
       " [0.0, 0.004, 0.006, 0.99],\n",
       " [0.0, 0.006, 0.004, 0.99],\n",
       " [0.0, 0.008, 0.002, 0.99],\n",
       " [0.0, 0.01, 0.0, 0.99],\n",
       " [0.002, 0.0, 0.008, 0.99],\n",
       " [0.002, 0.002, 0.006, 0.99],\n",
       " [0.002, 0.004, 0.004, 0.99],\n",
       " [0.002, 0.006, 0.002, 0.99],\n",
       " [0.002, 0.008, 0.0, 0.99],\n",
       " [0.004, 0.0, 0.006, 0.99],\n",
       " [0.004, 0.002, 0.004, 0.99],\n",
       " [0.004, 0.004, 0.002, 0.99],\n",
       " [0.004, 0.006, 0.0, 0.99],\n",
       " [0.006, 0.0, 0.004, 0.99],\n",
       " [0.006, 0.002, 0.002, 0.99],\n",
       " [0.006, 0.004, 0.0, 0.99],\n",
       " [0.008, 0.0, 0.002, 0.99],\n",
       " [0.008, 0.002, 0.0, 0.99]]"
      ]
     },
     "execution_count": 31,
     "metadata": {},
     "output_type": "execute_result"
    },
    {
     "data": {
      "image/png": "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\n",
      "text/plain": [
       "<Figure size 504x360 with 1 Axes>"
      ]
     },
     "metadata": {
      "needs_background": "light"
     },
     "output_type": "display_data"
    }
   ],
   "source": [
    "# initialise the plot\n",
    "\n",
    "ax = plt.figure().add_subplot(projection='3d')\n",
    "vertexs = tp.tet_plot_initialise(ax, thresholdUDCL.strat_names)\n",
    "\n",
    "# choose start points near U\n",
    "\n",
    "pert = 0.01\n",
    "no_divs = 5\n",
    "delta = pert/no_divs\n",
    "\n",
    "v0V = list()\n",
    "for mD in range(no_divs):\n",
    "\n",
    "    for mC in range(no_divs-mD+1):\n",
    "\n",
    "        mL = no_divs-mD-mC\n",
    "\n",
    "        v0 = [mD*delta, mC*delta, mL*delta, 1-pert]\n",
    "        v0V.append(v0)\n",
    "        \n",
    "v0V"
   ]
  },
  {
   "cell_type": "markdown",
   "id": "nearby-numbers",
   "metadata": {},
   "source": [
    "We can calculate each trajectory by numerically integrating forward in time (solves initial value problem with `solve_ivp()` from `scipy.integrate`):"
   ]
  },
  {
   "cell_type": "code",
   "execution_count": 32,
   "id": "latter-template",
   "metadata": {},
   "outputs": [
    {
     "name": "stdout",
     "output_type": "stream",
     "text": [
      "doing v0 = [0.0, 0.0, 0.01, 0.99]\n",
      "doing v0 = [0.0, 0.002, 0.008, 0.99]\n",
      "doing v0 = [0.0, 0.004, 0.006, 0.99]\n",
      "doing v0 = [0.0, 0.006, 0.004, 0.99]\n",
      "doing v0 = [0.0, 0.008, 0.002, 0.99]\n",
      "doing v0 = [0.0, 0.01, 0.0, 0.99]\n",
      "doing v0 = [0.002, 0.0, 0.008, 0.99]\n",
      "doing v0 = [0.002, 0.002, 0.006, 0.99]\n",
      "doing v0 = [0.002, 0.004, 0.004, 0.99]\n",
      "doing v0 = [0.002, 0.006, 0.002, 0.99]\n",
      "doing v0 = [0.002, 0.008, 0.0, 0.99]\n",
      "doing v0 = [0.004, 0.0, 0.006, 0.99]\n",
      "doing v0 = [0.004, 0.002, 0.004, 0.99]\n",
      "doing v0 = [0.004, 0.004, 0.002, 0.99]\n",
      "doing v0 = [0.004, 0.006, 0.0, 0.99]\n",
      "doing v0 = [0.006, 0.0, 0.004, 0.99]\n",
      "doing v0 = [0.006, 0.002, 0.002, 0.99]\n",
      "doing v0 = [0.006, 0.004, 0.0, 0.99]\n",
      "doing v0 = [0.008, 0.0, 0.002, 0.99]\n",
      "doing v0 = [0.008, 0.002, 0.0, 0.99]\n"
     ]
    }
   ],
   "source": [
    "xM = list()\n",
    "yM = list()\n",
    "zM = list()\n",
    "\n",
    "for v0 in v0V:\n",
    "\n",
    "    print(f'doing v0 = {v0}')\n",
    "    \n",
    "    # forward 40 timesteps\n",
    "    xV, yV, zV = tp.get_trajectory(vertexs, v0, [0, 40], thresholdUDCL.deltap_fnc)\n",
    "    xM.append(xV)\n",
    "    yM.append(yV)\n",
    "    zM.append(zV)"
   ]
  },
  {
   "cell_type": "markdown",
   "id": "leading-trailer",
   "metadata": {},
   "source": [
    "The plot can then be generated showing the trajectories"
   ]
  },
  {
   "cell_type": "code",
   "execution_count": 33,
   "id": "ecological-tulsa",
   "metadata": {},
   "outputs": [
    {
     "data": {
      "image/png": "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\n",
      "text/plain": [
       "<Figure size 504x360 with 1 Axes>"
      ]
     },
     "metadata": {
      "needs_background": "light"
     },
     "output_type": "display_data"
    }
   ],
   "source": [
    "ax = plt.figure().add_subplot(projection='3d')\n",
    "vertexs = tp.tet_plot_initialise(ax, thresholdUDCL.strat_names)\n",
    "\n",
    "# include the steady states and information about their stability\n",
    "\n",
    "# corresponding list of stability information from the file\n",
    "stabV = list(df['stability'])\n",
    "\n",
    "# encode each stability as a colour\n",
    "colourV = ['red' if stab == 'unstable' else 'blue' if stab == 'stable' else 'black' for stab in stabV]\n",
    "\n",
    "# convert bary coordinates to xyz coords\n",
    "xyzV = [ list(tp.tet_bary2xyz(vertexs, ls)) for ls in fps ]\n",
    "xV, yV, zV = zip(*xyzV)\n",
    "\n",
    "# plot fixed point in colour corresponding to stability\n",
    "ax.scatter(xV, yV, zV, color=colourV)\n",
    "\n",
    "# add each trajectory to the plot\n",
    "\n",
    "for xV, yV, zV in zip(xM, yM, zM):\n",
    "    ax.plot(xV, yV, zV, color='black', lw=1, alpha=0.5)\n",
    "\n",
    "# show the plot\n",
    "\n",
    "plt.show()"
   ]
  },
  {
   "cell_type": "markdown",
   "id": "fallen-dragon",
   "metadata": {},
   "source": [
    "This example is also provided as a stand-alone script in `/scripts/threshold_UDCL/plot_tet3d_threshold_v1_startU.py`."
   ]
  }
 ],
 "metadata": {
  "kernelspec": {
   "display_name": "Python 3",
   "language": "python",
   "name": "python3"
  },
  "language_info": {
   "codemirror_mode": {
    "name": "ipython",
    "version": 3
   },
   "file_extension": ".py",
   "mimetype": "text/x-python",
   "name": "python",
   "nbconvert_exporter": "python",
   "pygments_lexer": "ipython3",
   "version": "3.8.8"
  }
 },
 "nbformat": 4,
 "nbformat_minor": 5
}
