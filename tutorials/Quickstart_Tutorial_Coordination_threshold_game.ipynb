{
 "cells": [
  {
   "cell_type": "code",
   "execution_count": 1,
   "id": "russian-greensboro",
   "metadata": {},
   "outputs": [
    {
     "data": {
      "text/html": [
       "\n",
       "<style>\n",
       ".output_png {\n",
       "  display: table-cell;\n",
       "  text-align: center;\n",
       "  vertical-align: middle;\n",
       "}\n",
       "</style>\n"
      ],
      "text/plain": [
       "<IPython.core.display.HTML object>"
      ]
     },
     "execution_count": 1,
     "metadata": {},
     "output_type": "execute_result"
    }
   ],
   "source": [
    "# useful modules\n",
    "import matplotlib.pyplot as plt\n",
    "import os\n",
    "import numpy as np\n",
    "\n",
    "# allows us to access the modules directory in the repository\n",
    "import sys\n",
    "sys.path.append('../functions/')\n",
    "\n",
    "# just my personal preferences for plotting in Jupyter\n",
    "plt.rcParams['font.size'] = '16'\n",
    "plt.rcParams['figure.figsize'] = [7, 5]\n",
    "from IPython.core.display import HTML\n",
    "HTML(\"\"\"\n",
    "<style>\n",
    ".output_png {\n",
    "  display: table-cell;\n",
    "  text-align: center;\n",
    "  vertical-align: middle;\n",
    "}\n",
    "</style>\n",
    "\"\"\")"
   ]
  },
  {
   "cell_type": "markdown",
   "id": "coated-teaching",
   "metadata": {},
   "source": [
    "# Quickstart Tutorial: Coordination in a threshold game\n",
    "\n",
    "The purpose of this tutorial is to allow the reader to quickly get started using our method. For this purpose, we will use coordinated cooperation in a threshold public goods game as our example. To implementing your own cooperation scenario, you will need to replace `ThresholdUDCL` class below, particularly the `payoff()` method. To find this example as stand-alone scripts (i.e., not embedded in a Jupyter Notebook), please refer to the repository directory: `/scripts/thresholdUDCL/`."
   ]
  },
  {
   "cell_type": "markdown",
   "id": "indonesian-patch",
   "metadata": {},
   "source": [
    "## 1. Specify the scenario and payoff function\n",
    "\n",
    "Let us begin by defining some game parameter values.\n",
    "\n",
    "We will consider the evolutionary dynamics of the 4 strategies described in the main text: Unconditional Cooperators (U), Unconditional Defectors (D), Coordinating Cooperators (C), and Liars (L). \n",
    "\n",
    "The cognitive cost that Coordinating Cooperators and Liars pay for understanding how the game works and coordinating the lottery is $-0.1$.\n",
    "\n",
    "Groups will play the threshold public goods game, where a public good is provided when the number of contributors in the group meets a minimum threshold, $\\tau \\geq 5$. \n",
    "\n",
    "The cost of contributing to the public good is $-1$. \n",
    "\n",
    "The benefit produced by the public good when the threshold is met is $3$."
   ]
  },
  {
   "cell_type": "code",
   "execution_count": 3,
   "id": "worst-vatican",
   "metadata": {},
   "outputs": [],
   "source": [
    "game_pars = {\n",
    "        'strat_names': ['D', 'C', 'L', 'U'],\n",
    "        'cognitive_cost': -0.1, # a small cost to understanding coordination\n",
    "        'tau': 5,               # lottery quorum and midpoint of benefits function minus 0.5\n",
    "        'contrib_cost': -1,     # cost of contributing to public good\n",
    "        'benefit_thresh_met': 3 # benefit when threshold is met\n",
    "        }"
   ]
  },
  {
   "cell_type": "markdown",
   "id": "absent-damages",
   "metadata": {},
   "source": [
    "We want to model genetically homophilic group formation, so we will define evolutionary parameter values, which are those used to calculate the probability of different group strategy distributions using the homophilic group-formation model.\n",
    "\n",
    "We choose 8 individuals per group.\n",
    "\n",
    "The number of strategies is 4.\n",
    "\n",
    "We will use the 'members recruit' group-formation model, where the initial member is chosen at random, and current group members have an equal chance to recruit the next member. \n",
    "\n",
    "Members recruit nonkin with probability $q$ kin with probability $1-q$ (i.e., homophily $h = 1-q$). We will choose $q=0.8$.\n",
    "\n",
    "To use the members-recruit model, we need to specify where the combinatorial terms need for the homophily calculation are stored, which is in the repository in the directory `members_recruit_comb_term/`\n",
    "\n",
    "We must also specify where the coefficients $C(\\Phi)$ and the powers in $A(\\Phi, \\boldsymbol{p})$ are stored, which is in the repository in the directory `results/partn2prob/`"
   ]
  },
  {
   "cell_type": "code",
   "execution_count": 4,
   "id": "welcome-sense",
   "metadata": {},
   "outputs": [],
   "source": [
    "evol_pars = {\n",
    "        'n': 8,                                     # group size\n",
    "        'n_s': 4,                                   # number of strategies\n",
    "        'group_formation_model': 'members recruit', # group formation model\n",
    "        'q': 0.5,                                   # parameter for leader-driven model\n",
    "        'sumprodm_dir': os.path.abspath('../members_recruit_comb_term/'),\n",
    "        'partn2prob_dir': os.path.abspath('../results/partn2prob/'),\n",
    "        }"
   ]
  },
  {
   "cell_type": "markdown",
   "id": "touched-japan",
   "metadata": {},
   "source": [
    "To specify the model, we will make use of the abstract base class `ModelBase` in `functions/model_base.py`."
   ]
  },
  {
   "cell_type": "code",
   "execution_count": 5,
   "id": "elementary-hawaii",
   "metadata": {},
   "outputs": [],
   "source": [
    "from model_base import ModelBase\n",
    "\n",
    "# ModelBase.payoff? # uncomment this line to see the help documentation quoted below"
   ]
  },
  {
   "cell_type": "markdown",
   "id": "encouraging-camping",
   "metadata": {},
   "source": [
    " `ModelBase` has an abstract method called `payoff()`, which accepts a group's strategy distribution and returns the payoff to the focal strategy. The help documentation reads:\n",
    "\n",
    "```\n",
    "Signature: ModelBase.payoff(self, strats, strat_counts)\n",
    "Docstring:\n",
    "Write a function that accepts strategy distribution and returns payoff.  Ensure the game_pars \n",
    "dictionary has all the parameters it needs.\n",
    "\n",
    "Inputs:\n",
    "---\n",
    "\n",
    "strats, list of str:\n",
    "    A list of the strategy names in the same order as strat_counts.  Index 0 in strats is \n",
    "    treated as the focal strategy.\n",
    "\n",
    "strat_counts:\n",
    "    How many individuals in the group are pursuing which strategies.  For example, if \n",
    "    strats = ['C', 'D', 'P'] and strat_counts = [2, 1, 3], then the group has 2 \n",
    "    cooperators, 1 defector, and 3 punishers.\n",
    "\n",
    "Outputs:\n",
    "---\n",
    "\n",
    "payoff, float\n",
    "    Payoff to and individual playing the focal strategy (strats[0], cooperators in example \n",
    "    above) given the distribution of strategies in strat_counts.\n",
    "File:      ~/work/hisashi/code/togit_homophilic_mstrat/functions/model_base.py\n",
    "Type:      function\n",
    "```\n",
    "\n",
    "We will create a class `ThresholdUDCL` that inherits the `ModelBase` class and implements the `payoff()` method corresponding to a threshold game."
   ]
  },
  {
   "cell_type": "code",
   "execution_count": 6,
   "id": "secondary-sussex",
   "metadata": {},
   "outputs": [],
   "source": [
    "from scipy.special import binom\n",
    "\n",
    "class ThresholdUDCL(ModelBase):\n",
    "\n",
    "    def __init__(self, *args, **kwargs):\n",
    "\n",
    "        # inherit everything\n",
    "        super(self.__class__, self).__init__(*args, **kwargs)\n",
    "\n",
    "        # we now have names for the strategies\n",
    "        self.strat_names = self.game_pars['strat_names']\n",
    "\n",
    "\n",
    "    def __str__(self):\n",
    "\n",
    "        s = super().__str__()\n",
    "        s += 'A threshold game with a lottery mechanic adding Coordinated Cooperators and Liars.\\n'\n",
    "\n",
    "        return s\n",
    "\n",
    "\n",
    "    def payoff(self, strats, strat_counts):\n",
    "\n",
    "        # parameters to set up game\n",
    "        # ---\n",
    "\n",
    "        n = self.n # group size\n",
    "        tau = self.game_pars['tau'] # both the quorum and the threshold\n",
    "        cognitive_cost = self.game_pars['cognitive_cost']\n",
    "        contrib_cost = self.game_pars['contrib_cost']\n",
    "        benefit_thresh_met = self.game_pars['benefit_thresh_met']\n",
    "\n",
    "        \n",
    "        # we calculate the payoff for the focal strategy, which is always the first strategy in strats\n",
    "        # ---\n",
    "        \n",
    "        focal_strat = strats[0]\n",
    "\n",
    "\n",
    "        # check we got sensible inputs\n",
    "        # ---\n",
    "\n",
    "        assert(sum(strat_counts) == n)\n",
    "        assert(strat_counts[0] > 0)\n",
    "\n",
    "\n",
    "        # calculate the payoff to the focal\n",
    "        # ---\n",
    "\n",
    "        # count the number of each strategy in the group\n",
    "\n",
    "        countDict = dict(zip(strats, strat_counts))\n",
    "        countU = 0 if 'U' not in countDict else countDict['U'] # Unconditional Cooperators\n",
    "        countD = 0 if 'D' not in countDict else countDict['D'] # Unconditional Defectors\n",
    "        countC = 0 if 'C' not in countDict else countDict['C'] # Coordinating Cooperators\n",
    "        countL = 0 if 'L' not in countDict else countDict['L'] # Liars\n",
    "\n",
    "\n",
    "        # payoff calculation depends on whether or not the lottery quorum is met\n",
    "        # ---\n",
    "\n",
    "        if countC + countL < tau: # if the lottery quorum is not met\n",
    "\n",
    "            k = countU                                      # only U will contribute\n",
    "            benefit = benefit_thresh_met if k >= tau else 0 # benefit from PGG\n",
    "\n",
    "            # payoff returned depends on the focal strategy\n",
    "            \n",
    "            if focal_strat == 'U':\n",
    "\n",
    "                payoff_total = benefit + contrib_cost\n",
    "\n",
    "            elif focal_strat == 'D':\n",
    "\n",
    "                payoff_total = benefit\n",
    "\n",
    "            else: # focal_strat == C or L\n",
    "\n",
    "                payoff_total = benefit + cognitive_cost\n",
    "\n",
    "        else: # if the lottery quorum is met\n",
    "\n",
    "            # probability that j Coordinating Cooperators (in contrast to Liars)\n",
    "            # will be designated as contributors by the lottery\n",
    "            \n",
    "            denom = binom(countC + countL, tau)\n",
    "            PjV = [binom(countC, j)*binom(countL, tau-j)/denom for j in range(0, tau+1)]\n",
    "\n",
    "            # the benefit returned for each j\n",
    "            benefitjV = [benefit_thresh_met if j+countU >= tau else 0 for j in range(0, tau+1)]\n",
    "\n",
    "            # payoff returned depends on the focal strategy\n",
    "            \n",
    "            if focal_strat == 'U':\n",
    "\n",
    "                payoff_total = sum(Pj*benefitj for Pj, benefitj in zip(PjV, benefitjV)) + contrib_cost\n",
    "\n",
    "            elif focal_strat == 'D':\n",
    "\n",
    "                payoff_total = sum(Pj*benefitj for Pj, benefitj in zip(PjV, benefitjV))\n",
    "\n",
    "            elif focal_strat == 'C':\n",
    "\n",
    "                payoff_total = sum(PjV[j]*(benefitjV[j] + contrib_cost*j/countC) for j in range(0, tau+1)) + cognitive_cost\n",
    "\n",
    "            else: # focal_strat == 'L':\n",
    "\n",
    "                payoff_total = sum(Pj*benefitj for Pj, benefitj in zip(PjV, benefitjV)) + cognitive_cost\n",
    "\n",
    "\n",
    "        return payoff_total\n"
   ]
  },
  {
   "cell_type": "markdown",
   "id": "ordinary-diagnosis",
   "metadata": {},
   "source": [
    "## 2. Initialise the model\n",
    "\n",
    "We can now initialise the model by instantiating the `ThresholdUDCL` class, which incorporates the `payoff()` method above and calculates the necessary outputs from the group-formation model (e.g., partition-structure probabilities $F$)."
   ]
  },
  {
   "cell_type": "code",
   "execution_count": 7,
   "id": "continent-parliament",
   "metadata": {},
   "outputs": [],
   "source": [
    "thresholdUDCL = ThresholdUDCL(evol_pars, game_pars)"
   ]
  },
  {
   "cell_type": "markdown",
   "id": "reasonable-fever",
   "metadata": {},
   "source": [
    "### 2.1 Features of the model object\n",
    "\n",
    "The initialisation incorporates our `payoff()` method into the `thresholdUDCL` model object. For example, we could now plot the payoffs to Coordinating Cooperators and Defectors using `thresholdUDCL`."
   ]
  },
  {
   "cell_type": "code",
   "execution_count": 8,
   "id": "potential-dance",
   "metadata": {},
   "outputs": [
    {
     "data": {
      "image/png": "[encoded data removed]",
      "text/plain": [
       "<Figure size 504x360 with 1 Axes>"
      ]
     },
     "metadata": {
      "needs_background": "light"
     },
     "output_type": "display_data"
    }
   ],
   "source": [
    "strats = ['C', 'D']\n",
    "n = evol_pars['n']\n",
    "strat_countsV = [ [i, n-i] for i in range(1, n+1) ]\n",
    "\n",
    "# strategy C payoffs \n",
    "aV = [thresholdUDCL.payoff(strats, strat_counts) for strat_counts in strat_countsV]\n",
    "\n",
    "# strategy D payoffs \n",
    "r_strats = list(reversed(strats))\n",
    "bV = [thresholdUDCL.payoff(r_strats, strat_counts) for strat_counts in reversed(strat_countsV)]\n",
    "\n",
    "plt.plot(range(n), aV, '-o', color='blue', label='C')\n",
    "plt.plot(range(n), bV, '-o', color='red', label='D')\n",
    "plt.title('Coordinating Cooperators vs Unconditional Defectors')\n",
    "plt.xlabel(r'no. of Coordinating Cooperators among $n-1$ others', fontsize='medium')\n",
    "plt.ylabel(r'payoff', fontsize='medium')\n",
    "plt.legend(loc='best')\n",
    "plt.show()"
   ]
  },
  {
   "cell_type": "markdown",
   "id": "retired-thompson",
   "metadata": {},
   "source": [
    "The initialisation also gives us necessary statistics and terms needed to account for homophilic group formation.\n",
    "\n",
    "A \"compressed\" version of the $C(\\Phi)$ coefficients and $A(\\Phi, \\boldsymbol{p})$ powers from `../results/partn2prob/` are now stored in matrices in `thresholdUDCL`"
   ]
  },
  {
   "cell_type": "code",
   "execution_count": 9,
   "id": "identical-layer",
   "metadata": {},
   "outputs": [
    {
     "name": "stdout",
     "output_type": "stream",
     "text": [
      "[(1680,), (180, 60, 60), (30,)]...\n",
      "[(8,), (6,), (5,)]...\n",
      "[(280,), (60, 30), (20, 5)]...\n"
     ]
    }
   ],
   "source": [
    "# print the first 3 rows and columns\n",
    "\n",
    "for row in range(3):\n",
    "    print(f'{thresholdUDCL.CM[row][:3]}...')"
   ]
  },
  {
   "cell_type": "code",
   "execution_count": 10,
   "id": "major-pillow",
   "metadata": {},
   "outputs": [
    {
     "name": "stdout",
     "output_type": "stream",
     "text": [
      "[((1, 2, 2, 3),), ((1, 2, 2, 2), (1, 2, 1, 3), (1, 1, 2, 3)), ((1, 2, 2, 1),)]...\n",
      "[((1, 0, 0, 7),), ((1, 0, 0, 6),), ((1, 0, 0, 5),)]...\n",
      "[((1, 0, 3, 4),), ((1, 0, 3, 3), (1, 0, 2, 4)), ((1, 0, 3, 2), (1, 0, 1, 4))]...\n"
     ]
    }
   ],
   "source": [
    "for row in range(3):\n",
    "    print(f'{thresholdUDCL.WM[row][:3]}...')"
   ]
  },
  {
   "cell_type": "markdown",
   "id": "academic-longer",
   "metadata": {},
   "source": [
    "The probabilities of different family partition structures $F$ were calculated during the initialisation and are stored in `thresholdUDCL`. "
   ]
  },
  {
   "cell_type": "code",
   "execution_count": 11,
   "id": "hearing-space",
   "metadata": {},
   "outputs": [
    {
     "name": "stdout",
     "output_type": "stream",
     "text": [
      "family partition structure | probability of partn structure, F\n",
      "-------------------------- | ---------------------------------\n",
      "[1, 1, 1, 1, 1, 1, 1, 1]   | 0.0078125\n",
      "[1, 1, 1, 1, 1, 1, 2]      | 0.0546875\n",
      "[1, 1, 1, 1, 1, 3]         | 0.06886160714285715\n",
      "[1, 1, 1, 1, 2, 2]         | 0.09520089285714285\n",
      "[1, 1, 1, 1, 4]            | 0.08444940476190477\n",
      "[1, 1, 1, 2, 3]            | 0.1472594246031746\n",
      "[1, 1, 1, 5]               | 0.0859747023809524\n",
      "[1, 1, 2, 2, 2]            | 0.04172867063492063\n",
      "[1, 1, 2, 4]               | 0.10136718750000001\n",
      "[1, 1, 3, 3]               | 0.03860987103174603\n",
      "[1, 1, 6]                  | 0.06529017857142856\n",
      "[1, 2, 2, 3]               | 0.04530319940476191\n",
      "[1, 2, 5]                  | 0.04899553571428572\n",
      "[1, 3, 4]                  | 0.032421875\n",
      "[1, 7]                     | 0.032366071428571425\n",
      "[2, 2, 2, 2]               | 0.0021825396825396826\n",
      "[2, 2, 4]                  | 0.009821428571428573\n",
      "[2, 3, 3]                  | 0.007533482142857143\n",
      "[2, 6]                     | 0.011904761904761904\n",
      "[3, 5]                     | 0.007291666666666668\n",
      "[4, 4]                     | 0.0031249999999999997\n",
      "[8]                        | 0.0078125\n"
     ]
    }
   ],
   "source": [
    "# print a table of family partition structures and their probabilities\n",
    "\n",
    "def print_F_table():\n",
    "    \n",
    "    print('family partition structure | probability of partn structure, F')\n",
    "    print('-------------------------- | ---------------------------------')\n",
    "\n",
    "    for partn, F in zip(thresholdUDCL.partnV, thresholdUDCL.F):\n",
    "\n",
    "        partn_str = str(partn)\n",
    "        partn_str = partn_str + ' '*(26-len(partn_str))\n",
    "        print(partn_str + f' | {F}')\n",
    "        \n",
    "print_F_table()"
   ]
  },
  {
   "cell_type": "markdown",
   "id": "arbitrary-angola",
   "metadata": {},
   "source": [
    "These may be updated without reinitialising the whole model using the `update_F()` method, which is useful for exploring how the dynamics change with changing homophily level."
   ]
  },
  {
   "cell_type": "code",
   "execution_count": 12,
   "id": "military-solid",
   "metadata": {},
   "outputs": [
    {
     "name": "stdout",
     "output_type": "stream",
     "text": [
      "family partition structure | probability of partn structure, F\n",
      "-------------------------- | ---------------------------------\n",
      "[1, 1, 1, 1, 1, 1, 1, 1]   | 0.20971520000000007\n",
      "[1, 1, 1, 1, 1, 1, 2]      | 0.36700160000000004\n",
      "[1, 1, 1, 1, 1, 3]         | 0.11553060571428567\n",
      "[1, 1, 1, 1, 2, 2]         | 0.15972059428571422\n",
      "[1, 1, 1, 1, 4]            | 0.035420647619047604\n",
      "[1, 1, 1, 2, 3]            | 0.06176507936507934\n",
      "[1, 1, 1, 5]               | 0.009015100952380947\n",
      "[1, 1, 2, 2, 2]            | 0.01750227301587301\n",
      "[1, 1, 2, 4]               | 0.010629119999999994\n",
      "[1, 1, 3, 3]               | 0.00404853841269841\n",
      "[1, 1, 6]                  | 0.0017115428571428553\n",
      "[1, 2, 2, 3]               | 0.004750384761904759\n",
      "[1, 2, 5]                  | 0.0012843885714285703\n",
      "[1, 3, 4]                  | 0.0008499199999999992\n",
      "[1, 7]                     | 0.0002121142857142854\n",
      "[2, 2, 2, 2]               | 0.0002288558730158729\n",
      "[2, 2, 4]                  | 0.00025746285714285693\n",
      "[2, 3, 3]                  | 0.0001974857142857141\n",
      "[2, 6]                     | 7.801904761904753e-05\n",
      "[3, 5]                     | 4.778666666666661e-05\n",
      "[4, 4]                     | 2.0479999999999973e-05\n",
      "[8]                        | 1.279999999999998e-05\n"
     ]
    }
   ],
   "source": [
    "thresholdUDCL.evol_pars['q'] = 0.8\n",
    "thresholdUDCL.update_F()\n",
    "\n",
    "print_F_table()"
   ]
  },
  {
   "cell_type": "markdown",
   "id": "statutory-victory",
   "metadata": {},
   "source": [
    "## 3. Calculate $\\Delta \\boldsymbol{p}$"
   ]
  },
  {
   "cell_type": "markdown",
   "id": "rational-arkansas",
   "metadata": {},
   "source": [
    "The method `delta_p()`, which is inherited from the `ModelBase` abstract class, is used to calculate $\\Delta p_x$. For example, $\\Delta \\boldsymbol{p}$ calculated at $\\boldsymbol{p} = [p_D, p_C, p_L, p_U] = [1/4, 1/4, 1/4, 1/4]$ is"
   ]
  },
  {
   "cell_type": "code",
   "execution_count": 13,
   "id": "foreign-working",
   "metadata": {},
   "outputs": [
    {
     "data": {
      "text/plain": [
       "[0.024553519206349236,\n",
       " 0.029148999642857106,\n",
       " 0.024035223849206363,\n",
       " -0.0777377426984127]"
      ]
     },
     "execution_count": 13,
     "metadata": {},
     "output_type": "execute_result"
    }
   ],
   "source": [
    "p = [0.25, 0.25, 0.25, 0.25] # write these in the same order as in game_pars['strat_names']\n",
    "delta_p = thresholdUDCL.deltap_fnc(p)\n",
    "delta_p"
   ]
  },
  {
   "cell_type": "markdown",
   "id": "ignored-globe",
   "metadata": {},
   "source": [
    "## 4. Explore the dynamics\n",
    "\n",
    "### 4.1 Explore dynamics on the faces of the tetrahedral strategy space\n",
    "\n",
    "The `tetraplot4class` module contains specialised plotting functions when $m=4$. We can use it to plot the dynamics on the faces of the tetrahedral strategy space (on the \"net\")."
   ]
  },
  {
   "cell_type": "code",
   "execution_count": 14,
   "id": "accredited-salon",
   "metadata": {},
   "outputs": [],
   "source": [
    "import tetraplot4class as tp"
   ]
  },
  {
   "cell_type": "code",
   "execution_count": 15,
   "id": "conditional-collapse",
   "metadata": {},
   "outputs": [
    {
     "name": "stdout",
     "output_type": "stream",
     "text": [
      "This will take about 2 minutes ...\n"
     ]
    },
    {
     "data": {
      "image/png": "[encoded data removed]",
      "text/plain": [
       "<Figure size 504x360 with 1 Axes>"
      ]
     },
     "metadata": {
      "needs_background": "light"
     },
     "output_type": "display_data"
    }
   ],
   "source": [
    "# create the plot axis object\n",
    "ax = plt.figure().add_subplot(1,1,1)\n",
    "\n",
    "# define the corners of the triangles in the net plot\n",
    "tris = tp.net_plot_initialise(ax, thresholdUDCL.strat_names)\n",
    "\n",
    "# get a list of barycentric grid points for each face of the tetrahedron\n",
    "lV = tp.net_get_face_mesh(2**5)        # fine mesh\n",
    "lV_coarse = tp.net_get_face_mesh(2**3) # coarse mesh\n",
    "\n",
    "\n",
    "# get dynamics\n",
    "\n",
    "print('This will take about 2 minutes ...')\n",
    "\n",
    "# find fixed points using coarse grid as start points\n",
    "fp_baryV = tp.net_find_fixed_points(lV_coarse, thresholdUDCL.deltap_fnc)\n",
    "\n",
    " # find gradient of selection at each point on fine grid\n",
    "strengthsV, dirn_normV = tp.net_calc_grad_on_mesh(tris, lV, thresholdUDCL.deltap_fnc)\n",
    "\n",
    "\n",
    "# plot dynamics\n",
    "\n",
    "# rate of change (colour contour)\n",
    "tp.net_plot_dynamics_rate(ax, tris, lV, strengthsV)\n",
    "\n",
    "# direction of selection (arrows)\n",
    "tp.net_plot_dynamics_dirn(ax, tris, lV, dirn_normV)     \n",
    "\n",
    "# fixed points with colours indicating their stability\n",
    "tp.net_plot_fixed_points_w_stability(ax, tris, fp_baryV, thresholdUDCL.calc_stability)\n",
    "\n",
    "plt.show()\n"
   ]
  },
  {
   "cell_type": "markdown",
   "id": "dramatic-architect",
   "metadata": {},
   "source": [
    "The axes correspond to the strategy names in `thresholdUDCL.game_pars['strat_names']`. Evolutionarily stable steady states are marked in blue and unstable states in red. \n",
    "\n",
    "Note that stability is calculated with respect to those strategies that are present in the population. For example, the stable state between U and L represents coexistence of Unconditional Cooperators and Liars in the population. However, as we will see below, that population is invasible to D (Unconditional Defectors)."
   ]
  },
  {
   "cell_type": "markdown",
   "id": "modular-cisco",
   "metadata": {},
   "source": [
    "### 4.2 Invasibility of steady states"
   ]
  },
  {
   "cell_type": "markdown",
   "id": "closed-uncle",
   "metadata": {},
   "source": [
    "Invasion fitness can be calculated using the method `calc_invasion_fitness()`. For example, the figure above shows stable coexistence between Liars and Unconditional Cooperators; however, the quiver plot suggests that L+U is invasible to D. We can verify this by checking that the invasion fitness of D at the L+U coexistence is positive."
   ]
  },
  {
   "cell_type": "markdown",
   "id": "productive-rover",
   "metadata": {},
   "source": [
    "In the process of generating the plot above, we calculated the positions of the steady states, which are stored in `fp_baryV`. Rows of `fp_baryV` above correspond to faces of the tetrahedron, where the strategy omitted corresponds to the order of strategies in `game_pars['strat_names'` (i.e., omit D, C, L, then U). So we will take the second row (omits C) and format it into a list of lists that replaces the missing $p_C$ with 0."
   ]
  },
  {
   "cell_type": "code",
   "execution_count": 16,
   "id": "vertical-setting",
   "metadata": {},
   "outputs": [
    {
     "name": "stdout",
     "output_type": "stream",
     "text": [
      "row |  p_D*  |  p_C*  |  p_L*  |  p_U*\n",
      "----|--------|--------|--------|--------\n",
      " 0  | 1.0000 | 0.0000 | 0.0000 | 0.0000\n",
      " 1  | 0.3367 | 0.0000 | 0.0000 | 0.6633\n",
      " 2  | 0.0000 | 0.0000 | 0.0000 | 1.0000\n",
      " 3  | 0.5129 | 0.0000 | 0.0000 | 0.4871\n",
      " 4  | 0.0000 | 0.0000 | 1.0000 | 0.0000\n",
      " 5  | 0.0000 | 0.0000 | 0.2862 | 0.7138\n",
      " 6  | 0.0000 | 0.0000 | 0.5670 | 0.4330\n"
     ]
    }
   ],
   "source": [
    "# replace small numerical values with zeros and 1s\n",
    "\n",
    "for fp_bary in fp_baryV:\n",
    "    for fp in fp_bary:\n",
    "        fp[np.isclose(fp, 0, atol=1e-7)] = 0\n",
    "        fp[np.isclose(fp, 1, atol=1e-7)] = 1\n",
    "\n",
    "# take row 0, corresponding to the face with C omitted\n",
    "fp = [[row[0], 0, row[1], row[2]] for row in fp_baryV[1]]\n",
    "\n",
    "# print steady states found in a table\n",
    "print('row |  p_D*  |  p_C*  |  p_L*  |  p_U*')\n",
    "print('----|--------|--------|--------|--------')\n",
    "\n",
    "for i, row in enumerate(fp):\n",
    "    \n",
    "    print(f' {i}  | {row[0]:6.4f} | {row[1]:6.4f} | {row[2]:6.4f} | {row[3]:6.4f}')\n"
   ]
  },
  {
   "cell_type": "markdown",
   "id": "radio-consistency",
   "metadata": {},
   "source": [
    "The L+U coexistence of interest is in row 5"
   ]
  },
  {
   "cell_type": "code",
   "execution_count": 17,
   "id": "adverse-representation",
   "metadata": {},
   "outputs": [
    {
     "data": {
      "text/plain": [
       "[0.0, 0, 0.2862222335311656, 0.7137777664680133]"
      ]
     },
     "execution_count": 17,
     "metadata": {},
     "output_type": "execute_result"
    }
   ],
   "source": [
    "fp_LU = fp[5]\n",
    "fp_LU"
   ]
  },
  {
   "cell_type": "markdown",
   "id": "forward-bryan",
   "metadata": {},
   "source": [
    "The invasion fitness of D into L+U is positive, which verifies that Unconditional Defectors can invade."
   ]
  },
  {
   "cell_type": "code",
   "execution_count": 18,
   "id": "differential-violin",
   "metadata": {},
   "outputs": [
    {
     "data": {
      "text/plain": [
       "0.10000000000153242"
      ]
     },
     "execution_count": 18,
     "metadata": {},
     "output_type": "execute_result"
    }
   ],
   "source": [
    "thresholdUDCL.calc_invasion_fitness('D', fp_LU)"
   ]
  },
  {
   "cell_type": "markdown",
   "id": "supposed-warrior",
   "metadata": {},
   "source": [
    "After D invades, the plot indicates that the population will be driven towards a stable coexistence between Unconditional Defectors and Unconditional Cooperators, and that the D+U population is not invasible to Coordinating Cooperators.\n",
    "\n",
    "The D+U coexistence is in row 1 of our table:"
   ]
  },
  {
   "cell_type": "code",
   "execution_count": 19,
   "id": "straight-biology",
   "metadata": {},
   "outputs": [
    {
     "data": {
      "text/plain": [
       "[0.33673280514388426, 0, 0.0, 0.6632671948561469]"
      ]
     },
     "execution_count": 19,
     "metadata": {},
     "output_type": "execute_result"
    }
   ],
   "source": [
    "fp_DU = fp[1]\n",
    "fp_DU"
   ]
  },
  {
   "cell_type": "markdown",
   "id": "enhanced-elizabeth",
   "metadata": {},
   "source": [
    "The invasion fitness of C into D+U is negative, which verifies that Coordinating Cooperators cannot invade."
   ]
  },
  {
   "cell_type": "code",
   "execution_count": 20,
   "id": "furnished-convergence",
   "metadata": {},
   "outputs": [
    {
     "data": {
      "text/plain": [
       "-0.08370323809513192"
      ]
     },
     "execution_count": 20,
     "metadata": {},
     "output_type": "execute_result"
    }
   ],
   "source": [
    "thresholdUDCL.calc_invasion_fitness('C', fp_DU)"
   ]
  },
  {
   "cell_type": "markdown",
   "id": "immune-integrity",
   "metadata": {},
   "source": [
    "### 4.2 Explore dynamics in the interior of the strategy space\n",
    "\n",
    "#### 4.2.1 Steady states, their stability, and their invasibility\n",
    "\n",
    "One way to find evolutionary steady states is to divide the strategy space into a mesh and use each mesh point as the initial point for the \"hybrid\" method from `scipy.optimize`. Some functions included in `tetraplot4class` can be used to perform these operations quickly."
   ]
  },
  {
   "cell_type": "code",
   "execution_count": 21,
   "id": "compatible-supplier",
   "metadata": {},
   "outputs": [],
   "source": [
    "ngrid = 3 # the number of grid points on each axis of the strategy space\n",
    "\n",
    "# divide the tetrahedron into a grid with ngrid points on each axis\n",
    "lV = tp.tet_get_mesh(ngrid)\n",
    "\n",
    "# find the fixed points numerically using lV as starting points\n",
    "fps = tp.tet_find_fixed_points(lV, thresholdUDCL.deltap_fnc)"
   ]
  },
  {
   "cell_type": "code",
   "execution_count": 22,
   "id": "reflected-semester",
   "metadata": {},
   "outputs": [
    {
     "data": {
      "text/plain": [
       "[array([1., 0., 0., 0.]),\n",
       " array([0.87327849, 0.12672151, 0.        , 0.        ]),\n",
       " array([5.12919217e-01, 2.93447235e-14, 2.73429392e-14, 4.87080783e-01]),\n",
       " array([0.24824622, 0.75175378, 0.        , 0.        ]),\n",
       " array([ 3.86197702e-01,  1.26721515e-01, -2.85880061e-16,  4.87080783e-01]),\n",
       " array([ 6.79578366e-15, -4.07826290e-23,  1.00000000e+00,  0.00000000e+00]),\n",
       " array([ 3.36732805e-01,  7.65325055e-23, -8.20295888e-24,  6.63267195e-01]),\n",
       " array([0., 1., 0., 0.]),\n",
       " array([-2.23624571e-25,  6.90027467e-01,  3.09972533e-01,  0.00000000e+00]),\n",
       " array([ 9.88712395e-11,  4.50522704e-14, -1.42358235e-18,  1.00000000e+00]),\n",
       " array([1.11326916e-19, 7.13297953e-23, 5.66987357e-01, 4.33012643e-01]),\n",
       " array([-2.30782892e-16, -3.69900125e-16,  2.86222234e-01,  7.13777766e-01])]"
      ]
     },
     "execution_count": 22,
     "metadata": {},
     "output_type": "execute_result"
    }
   ],
   "source": [
    "fps"
   ]
  },
  {
   "cell_type": "markdown",
   "id": "sharing-theater",
   "metadata": {},
   "source": [
    "The number of steady states that are found depends on the size of the mesh, and this method can be computationally expensive, so we will load precalculated steady states here. The reader is referred to `/scripts/threshold_UDCL/calc_fixedpts_threshold_v1.py` for a full working example of how these steady states were found."
   ]
  },
  {
   "cell_type": "code",
   "execution_count": 24,
   "id": "superb-element",
   "metadata": {},
   "outputs": [
    {
     "data": {
      "text/plain": [
       "[(0, array([1., 0., 0., 0.])),\n",
       " (1, array([0.87327849, 0.12672151, 0.        , 0.        ])),\n",
       " (2, array([0.51291922, 0.        , 0.        , 0.48708078])),\n",
       " (3, array([0.3861977 , 0.12672151, 0.        , 0.48708078])),\n",
       " (4, array([0.24824622, 0.75175378, 0.        , 0.        ])),\n",
       " (5, array([0.        , 0.37829538, 0.39571445, 0.22599017])),\n",
       " (6, array([0.01299912, 0.11380482, 0.45329404, 0.41990201])),\n",
       " (7, array([0., 1., 0., 0.])),\n",
       " (8, array([0.33673281, 0.        , 0.        , 0.66326719])),\n",
       " (9, array([0.        , 0.11502314, 0.4683829 , 0.41659396])),\n",
       " (10, array([0., 0., 1., 0.])),\n",
       " (11, array([0.        , 0.        , 0.56698736, 0.43301264])),\n",
       " (12, array([0.        , 0.69002747, 0.30997253, 0.        ])),\n",
       " (13, array([0.21001129, 0.12672151, 0.        , 0.66326719])),\n",
       " (14, array([0.        , 0.        , 0.28622223, 0.71377777])),\n",
       " (15, array([0., 0., 0., 1.]))]"
      ]
     },
     "execution_count": 24,
     "metadata": {},
     "output_type": "execute_result"
    }
   ],
   "source": [
    "import pandas as pd\n",
    "\n",
    "# filename where precalculated steady states are stored\n",
    "fname = '../results/threshold_UDCL/fixedpts_stability_threshold_v1_members_recruit_ngrid_7_q_8000.csv'\n",
    "\n",
    "# get the precalculated steady states from the file\n",
    "df = pd.read_csv(fname)\n",
    "fps = list(df[['p_' + strat_name + '*' for strat_name in game_pars['strat_names']]].to_numpy())\n",
    "list(enumerate(fps))\n",
    "\n",
    "# recall the order of the strategy names is: D, C, L, U"
   ]
  },
  {
   "cell_type": "markdown",
   "id": "stylish-independence",
   "metadata": {},
   "source": [
    "The stability of each fixed point can be checked with the `calc_stability()` method. \n",
    "\n",
    "For example, the figure above indicates there are two steady states in the L+U population, and the steady state with more U is stable while the steady state with more L is unstable. We can verify that as follows:"
   ]
  },
  {
   "cell_type": "code",
   "execution_count": 27,
   "id": "fourth-stack",
   "metadata": {},
   "outputs": [
    {
     "name": "stdout",
     "output_type": "stream",
     "text": [
      "Steady state [0.0, 0.0, 0.5669873566263232, 0.4330126433739248] is unstable\n",
      "Steady state [0.0, 0.0, 0.2862222334823706, 0.7137777664548502] is stable\n"
     ]
    }
   ],
   "source": [
    "fp_LU1 = list(fps[11])\n",
    "fp_LU2 = list(fps[14])\n",
    "\n",
    "stab_LU1 = thresholdUDCL.calc_stability(fp_LU1)\n",
    "stab_LU2 = thresholdUDCL.calc_stability(fp_LU2)\n",
    "\n",
    "print(f'Steady state {fp_LU1} is {stab_LU1}')\n",
    "print(f'Steady state {fp_LU2} is {stab_LU2}')"
   ]
  },
  {
   "cell_type": "markdown",
   "id": "genuine-circle",
   "metadata": {},
   "source": [
    "The figure also indicates that the stable coexistence of L+U is invasible to Coordinating Cooperators C, which we can check with the `calc_invasion_fitness` method by verifying that C has a positive invasion fitness:"
   ]
  },
  {
   "cell_type": "code",
   "execution_count": 28,
   "id": "musical-african",
   "metadata": {},
   "outputs": [
    {
     "data": {
      "text/plain": [
       "0.040407581491670674"
      ]
     },
     "execution_count": 28,
     "metadata": {},
     "output_type": "execute_result"
    }
   ],
   "source": [
    "inv_fit_C = thresholdUDCL.calc_invasion_fitness('C', fp_LU2)\n",
    "inv_fit_C"
   ]
  },
  {
   "cell_type": "markdown",
   "id": "imported-russia",
   "metadata": {},
   "source": [
    "In contrast, the figure indicates that the stable C+D coexistence is uninvasible to both U and L. We can check this by verifying that both invasion fitnesses are negative:"
   ]
  },
  {
   "cell_type": "code",
   "execution_count": 31,
   "id": "jewish-google",
   "metadata": {},
   "outputs": [
    {
     "name": "stdout",
     "output_type": "stream",
     "text": [
      "The invasion fitness of U into C+D is -0.9759771428541852\n",
      "The invasion fitness of L into C+D is -0.11028370559697076\n"
     ]
    }
   ],
   "source": [
    "fp_CD = list(fps[1])\n",
    "\n",
    "inv_fit_U = thresholdUDCL.calc_invasion_fitness('U', fp_CD)\n",
    "inv_fit_L = thresholdUDCL.calc_invasion_fitness('L', fp_CD)\n",
    "\n",
    "print(f'The invasion fitness of U into C+D is {inv_fit_U}')\n",
    "print(f'The invasion fitness of L into C+D is {inv_fit_L}')"
   ]
  },
  {
   "cell_type": "markdown",
   "id": "earlier-bradley",
   "metadata": {},
   "source": [
    "#### 4.2.1 Plotting trajectories when $m=4$\n",
    "\n",
    "The `tetraplot4class` module includes a number of functions for plotting the evolutionary dynamics of a 4-strategy system in 3 dimensions. \n",
    "\n",
    "For example, let's say we wish to plot a number of trajectories starting near the all-U population."
   ]
  },
  {
   "cell_type": "code",
   "execution_count": 32,
   "id": "governmental-expression",
   "metadata": {},
   "outputs": [
    {
     "data": {
      "text/plain": [
       "[[0.0025, 0.0025, 0.01, 0.99],\n",
       " [0.0025, 0.005, 0.0075, 0.99],\n",
       " [0.0025, 0.0075, 0.005, 0.99],\n",
       " [0.0025, 0.01, 0.0025, 0.99],\n",
       " [0.005, 0.0025, 0.0075, 0.99],\n",
       " [0.005, 0.005, 0.005, 0.99],\n",
       " [0.005, 0.0075, 0.0025, 0.99],\n",
       " [0.0075, 0.0025, 0.005, 0.99],\n",
       " [0.0075, 0.005, 0.0025, 0.99],\n",
       " [0.01, 0.0025, 0.0025, 0.99]]"
      ]
     },
     "execution_count": 32,
     "metadata": {},
     "output_type": "execute_result"
    }
   ],
   "source": [
    "pert = 0.01\n",
    "nopts = 5\n",
    "vals = pert*np.linspace(0, 1, nopts)[1:]\n",
    "\n",
    "nopts -= 1\n",
    "\n",
    "v0V = list() # store starting points for the trajectories\n",
    "for ptD in range(nopts):\n",
    "\n",
    "    for ptC in range(nopts-ptD):\n",
    "\n",
    "        ptL = nopts-ptD-ptC-1\n",
    "        pts = [ptD, ptC, ptL]\n",
    "        v0 = [vals[i] for i in pts] + [1-pert]\n",
    "        v0V.append(v0)\n",
    "v0V"
   ]
  },
  {
   "cell_type": "markdown",
   "id": "nearby-numbers",
   "metadata": {},
   "source": [
    "We can calculate each trajectory by numerically integrating forward in time (solves initial value problem with `solve_ivp()` from `scipy.integrate`):"
   ]
  },
  {
   "cell_type": "code",
   "execution_count": 36,
   "id": "latter-template",
   "metadata": {},
   "outputs": [
    {
     "name": "stdout",
     "output_type": "stream",
     "text": [
      "doing v0 = [0.0025, 0.0025, 0.01, 0.99]\n",
      "doing v0 = [0.0025, 0.005, 0.0075, 0.99]\n",
      "doing v0 = [0.0025, 0.0075, 0.005, 0.99]\n",
      "doing v0 = [0.0025, 0.01, 0.0025, 0.99]\n",
      "doing v0 = [0.005, 0.0025, 0.0075, 0.99]\n",
      "doing v0 = [0.005, 0.005, 0.005, 0.99]\n",
      "doing v0 = [0.005, 0.0075, 0.0025, 0.99]\n",
      "doing v0 = [0.0075, 0.0025, 0.005, 0.99]\n",
      "doing v0 = [0.0075, 0.005, 0.0025, 0.99]\n",
      "doing v0 = [0.01, 0.0025, 0.0025, 0.99]\n"
     ]
    }
   ],
   "source": [
    "xM = list()\n",
    "yM = list()\n",
    "zM = list()\n",
    "\n",
    "for v0 in v0V:\n",
    "\n",
    "    print(f'doing v0 = {v0}')\n",
    "    \n",
    "    # forward 40 timesteps\n",
    "    xV, yV, zV = tp.get_trajectory(vertexs, v0, [0, 40], thresholdUDCL.deltap_fnc)\n",
    "    xM.append(xV)\n",
    "    yM.append(yV)\n",
    "    zM.append(zV)"
   ]
  },
  {
   "cell_type": "markdown",
   "id": "leading-trailer",
   "metadata": {},
   "source": [
    "The plot can then be generated showing the trajectories"
   ]
  },
  {
   "cell_type": "code",
   "execution_count": 38,
   "id": "ecological-tulsa",
   "metadata": {},
   "outputs": [
    {
     "data": {
      "image/png": "[encoded data removed]",
      "text/plain": [
       "<Figure size 504x360 with 1 Axes>"
      ]
     },
     "metadata": {
      "needs_background": "light"
     },
     "output_type": "display_data"
    }
   ],
   "source": [
    "# initialise the plot\n",
    "\n",
    "ax = plt.figure().add_subplot(projection='3d')\n",
    "vertexs = tp.tet_plot_initialise(ax, thresholdUDCL.strat_names)\n",
    "\n",
    "# include the steady states and information about their stability\n",
    "\n",
    "# corresponding list of stability information from the file\n",
    "stabV = list(df['stability'])\n",
    "\n",
    "# encode each stability as a colour\n",
    "colourV = ['red' if stab == 'unstable' else 'blue' if stab == 'stable' else 'black' for stab in stabV]\n",
    "\n",
    "# convert bary coordinates to xyz coords\n",
    "xyzV = [ list(tp.tet_bary2xyz(vertexs, ls)) for ls in fps ]\n",
    "xV, yV, zV = zip(*xyzV)\n",
    "\n",
    "# plot fixed point in colour corresponding to stability\n",
    "ax.scatter(xV, yV, zV, color=colourV)\n",
    "\n",
    "# add each trajectory to the plot\n",
    "\n",
    "for xV, yV, zV in zip(xM, yM, zM):\n",
    "    ax.plot(xV, yV, zV, color='black', lw=1, alpha=0.5)\n",
    "\n",
    "# show the plot\n",
    "\n",
    "plt.show()"
   ]
  },
  {
   "cell_type": "markdown",
   "id": "fallen-dragon",
   "metadata": {},
   "source": [
    "This example is also provided as a stand-alone script in `/scripts/threshold_UDCL/plot_tet3d_threshold_v1_startU.py`."
   ]
  },
  {
   "cell_type": "code",
   "execution_count": null,
   "id": "functional-invasion",
   "metadata": {},
   "outputs": [],
   "source": []
  }
 ],
 "metadata": {
  "kernelspec": {
   "display_name": "Python 3",
   "language": "python",
   "name": "python3"
  },
  "language_info": {
   "codemirror_mode": {
    "name": "ipython",
    "version": 3
   },
   "file_extension": ".py",
   "mimetype": "text/x-python",
   "name": "python",
   "nbconvert_exporter": "python",
   "pygments_lexer": "ipython3",
   "version": "3.9.2"
  }
 },
 "nbformat": 4,
 "nbformat_minor": 5
}
