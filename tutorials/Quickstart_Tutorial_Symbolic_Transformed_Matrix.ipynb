{
 "cells": [
  {
   "cell_type": "code",
   "execution_count": 1,
   "id": "close-gasoline",
   "metadata": {},
   "outputs": [],
   "source": [
    "import IPython.display as disp"
   ]
  },
  {
   "cell_type": "markdown",
   "id": "sound-procedure",
   "metadata": {},
   "source": [
    "# Quickstart Tutorial: Working with the symbolic transformed payoff matrix\n",
    "\n",
    "The purpose of this tutorial is to show how the transformed payoff matrix can shed light on the evolutionary dynamics of a game under homophily. For this purpose, we will use a small 3-player public goods game with coordinated cooperation as our example. "
   ]
  },
  {
   "cell_type": "markdown",
   "id": "induced-tyler",
   "metadata": {},
   "source": [
    "## 1. Original and transformed payoff matrices\n",
    "\n",
    "We consider an example where the benefits returned from the public good have a sigmoid-like relationship with the number of contributors. \n",
    "\n",
    "Because the number of players is small ($n=3$), rather that specifying the benefits function in terms of a full sigmoid function, we instead define the benefit returned at each contribution level in terms of fixed parameters. Let $B(k)$ be the benefit returned from the public good when $k$ contribute, then we define\n",
    "\n",
    "$$\n",
    "[B(0), B(1), B(2), B(3)] = [0, \\beta, b-\\beta, b].\n",
    "$$\n",
    "\n",
    "We specify the coordinator quorum and contribution level $\\tau = 2$. As in the general sigmoid, the cost of contributing is $c$, and the cognitive cost to Coordinating Cooperators and Liars for the capacity to understand the game and coordinate is $\\varepsilon$."
   ]
  },
  {
   "cell_type": "markdown",
   "id": "sublime-system",
   "metadata": {},
   "source": [
    "We will be working with the Python library for symbolic mathematics `SymPy`, and the functions for automatically generating the payoff matrices are included in the repository."
   ]
  },
  {
   "cell_type": "code",
   "execution_count": 2,
   "id": "supposed-islam",
   "metadata": {},
   "outputs": [],
   "source": [
    "import sympy as sp\n",
    "\n",
    "import sys\n",
    "sys.path.append('../functions/')\n",
    "\n",
    "from symbolic_transformed import create_payoff_matrix\n",
    "from symbolic_transformed import create_transformed_payoff_matrix\n",
    "from symbolic_transformed import calc_switching_gains"
   ]
  },
  {
   "cell_type": "markdown",
   "id": "recorded-retrieval",
   "metadata": {},
   "source": [
    "The first step is to specify our payoff function, which the function `create_payoff_matrix()` will use to generate the payoff matrix $A$. The function documentation specifies that the payoff function should have the form `pi(gamma_focal, gamma_nonfocal)`. \n",
    "\n",
    "The input `gamma_focal` is called $\\boldsymbol{\\gamma}_0$ in the main text. It is a symbolic matrix of length `m` with a `1` in the `i`-th position indicating that the focal individual plays strategy `i`.\n",
    "\n",
    "The input `gamma_nonfocal` is called $\\boldsymbol{\\gamma}_{-0}$ in the main text. It is a symbolic matrix of length `m` where the value of each entry `j` is how many individuals among the `n-1` nonfocal group members play strategy `j`.\n",
    "\n",
    "The function `pi(gamma_focal, gamma_nonfocal)` will return a symbolic expression."
   ]
  },
  {
   "cell_type": "code",
   "execution_count": 3,
   "id": "simplified-hollow",
   "metadata": {},
   "outputs": [],
   "source": [
    "def pi(gamma_f, gamma_n):\n",
    "\n",
    "    # fixed parameters that define the game\n",
    "    # ---\n",
    "\n",
    "    # defined\n",
    "    n = 3   # group size\n",
    "    tau = 2 # threshold\n",
    "\n",
    "    # symbolic - benefit, contrib cost, cognitive cost\n",
    "    b, c, eps, beta = sp.symbols('b, c, epsilon, beta')\n",
    "\n",
    "    # benefit function, PG returns b if no. contributors >= tau\n",
    "    B = lambda k: [0, beta, b-beta, b][k]\n",
    "\n",
    "    # strategies\n",
    "    strat_names = ['D', 'C', 'L', 'U']\n",
    "    m = len(strat_names)   # number of strategies\n",
    "\n",
    "\n",
    "    # calculate payoff to focal who plays gamma_f\n",
    "    # given other members play gamma_n\n",
    "\n",
    "    # whole group distribution\n",
    "    gamma = gamma_f + gamma_n\n",
    "\n",
    "    # count the number of each strategy in the group\n",
    "    countD, countC, countL, countU = gamma\n",
    "\n",
    "    # identify the focal strategy\n",
    "    focal_strat = [strat for strat, v in zip(['D', 'C', 'L', 'U'], gamma_f) if v == 1][0]\n",
    "\n",
    "    # payoff calculation depends on if lottery quorum is met\n",
    "\n",
    "    if countC + countL < tau: # if the lottery quorum is not met\n",
    "\n",
    "        k = countU                                      # only U will contribute\n",
    "        benefit = B(k) # benefit from PGG\n",
    "\n",
    "        # payoff returned depending on the strategy of the focal player\n",
    "        if focal_strat == 'U':\n",
    "\n",
    "            payoff_total = benefit - c\n",
    "\n",
    "        elif focal_strat == 'D':\n",
    "\n",
    "            payoff_total = benefit\n",
    "\n",
    "        else: # focal_strat == C or L\n",
    "\n",
    "            payoff_total = benefit - eps\n",
    "\n",
    "    else: # lottery quorum is met\n",
    "\n",
    "        # probability that j Coordinating Cooperators will be designated as contributors by the lottery\n",
    "        denom = sp.binomial(countC + countL, tau)\n",
    "        PjV = [sp.binomial(countC, j)*sp.binomial(countL, tau-j)/denom for j in range(0, tau+1)]\n",
    "\n",
    "        # the benefit returned for each j\n",
    "        benefitjV = [B(j+countU) for j in range(0, tau+1)]\n",
    "\n",
    "        # payoff returned depending on the strategy of the focal player\n",
    "        if focal_strat == 'U':\n",
    "\n",
    "            payoff_total = sum(Pj*benefitj for Pj, benefitj in zip(PjV, benefitjV)) - c\n",
    "\n",
    "        elif focal_strat == 'D':\n",
    "\n",
    "            payoff_total = sum(Pj*benefitj for Pj, benefitj in zip(PjV, benefitjV))\n",
    "\n",
    "        elif focal_strat == 'C':\n",
    "\n",
    "            payoff_total = sum(PjV[j]*(benefitjV[j] - c*j/countC) for j in range(0, tau+1)) - eps\n",
    "\n",
    "        else: # focal_strat == 'L':\n",
    "\n",
    "            payoff_total = sum(Pj*benefitj for Pj, benefitj in zip(PjV, benefitjV)) - eps\n",
    "\n",
    "\n",
    "    return payoff_total\n",
    "\n"
   ]
  },
  {
   "cell_type": "markdown",
   "id": "waiting-chest",
   "metadata": {},
   "source": [
    "The original matrix is created as follows:"
   ]
  },
  {
   "cell_type": "code",
   "execution_count": 4,
   "id": "partial-speaking",
   "metadata": {},
   "outputs": [
    {
     "data": {
      "text/latex": [
       "$\\displaystyle \\left[\\begin{matrix}\\left[\\begin{matrix}0 & 0 & 0 & \\beta\\\\0 & b - \\beta & \\beta & \\beta\\\\0 & \\beta & 0 & \\beta\\\\\\beta & \\beta & \\beta & b - \\beta\\end{matrix}\\right] & \\left[\\begin{matrix}- \\epsilon & b - \\beta - c - \\epsilon & \\beta - c - \\epsilon & \\beta - \\epsilon\\\\b - \\beta - c - \\epsilon & b - \\beta - \\frac{2 c}{3} - \\epsilon & \\frac{b}{3} + \\frac{\\beta}{3} - \\frac{2 c}{3} - \\epsilon & b - c - \\epsilon\\\\\\beta - c - \\epsilon & \\frac{b}{3} + \\frac{\\beta}{3} - \\frac{2 c}{3} - \\epsilon & \\frac{2 \\beta}{3} - \\frac{2 c}{3} - \\epsilon & b - \\beta - c - \\epsilon\\\\\\beta - \\epsilon & b - c - \\epsilon & b - \\beta - c - \\epsilon & b - \\beta - \\epsilon\\end{matrix}\\right] & \\left[\\begin{matrix}- \\epsilon & \\beta - \\epsilon & - \\epsilon & \\beta - \\epsilon\\\\\\beta - \\epsilon & \\frac{b}{3} + \\frac{\\beta}{3} - \\epsilon & \\frac{2 \\beta}{3} - \\epsilon & b - \\beta - \\epsilon\\\\- \\epsilon & \\frac{2 \\beta}{3} - \\epsilon & - \\epsilon & \\beta - \\epsilon\\\\\\beta - \\epsilon & b - \\beta - \\epsilon & \\beta - \\epsilon & b - \\beta - \\epsilon\\end{matrix}\\right] & \\left[\\begin{matrix}\\beta - c & \\beta - c & \\beta - c & b - \\beta - c\\\\\\beta - c & b - c & b - \\beta - c & b - \\beta - c\\\\\\beta - c & b - \\beta - c & \\beta - c & b - \\beta - c\\\\b - \\beta - c & b - \\beta - c & b - \\beta - c & b - c\\end{matrix}\\right]\\end{matrix}\\right]$"
      ],
      "text/plain": [
       "[[[0, 0, 0, beta], [0, b - beta, beta, beta], [0, beta, 0, beta], [beta, beta, beta, b - beta]], [[-epsilon, b - beta - c - epsilon, beta - c - epsilon, beta - epsilon], [b - beta - c - epsilon, b - beta - 2*c/3 - epsilon, b/3 + beta/3 - 2*c/3 - epsilon, b - c - epsilon], [beta - c - epsilon, b/3 + beta/3 - 2*c/3 - epsilon, 2*beta/3 - 2*c/3 - epsilon, b - beta - c - epsilon], [beta - epsilon, b - c - epsilon, b - beta - c - epsilon, b - beta - epsilon]], [[-epsilon, beta - epsilon, -epsilon, beta - epsilon], [beta - epsilon, b/3 + beta/3 - epsilon, 2*beta/3 - epsilon, b - beta - epsilon], [-epsilon, 2*beta/3 - epsilon, -epsilon, beta - epsilon], [beta - epsilon, b - beta - epsilon, beta - epsilon, b - beta - epsilon]], [[beta - c, beta - c, beta - c, b - beta - c], [beta - c, b - c, b - beta - c, b - beta - c], [beta - c, b - beta - c, beta - c, b - beta - c], [b - beta - c, b - beta - c, b - beta - c, b - c]]]"
      ]
     },
     "execution_count": 4,
     "metadata": {},
     "output_type": "execute_result"
    }
   ],
   "source": [
    "n = 3 # number of individuals in the group\n",
    "m = 4 # number of strategies\n",
    "\n",
    "A = create_payoff_matrix(n, m, pi)\n",
    "A"
   ]
  },
  {
   "cell_type": "markdown",
   "id": "complete-translation",
   "metadata": {},
   "source": [
    "The transformed payoff matrix is created from $A$ as follows:"
   ]
  },
  {
   "cell_type": "code",
   "execution_count": 5,
   "id": "flying-municipality",
   "metadata": {},
   "outputs": [
    {
     "data": {
      "text/latex": [
       "$\\displaystyle \\left[\\begin{matrix}\\left[\\begin{matrix}0 & \\frac{F_{2} \\left(b - \\beta\\right)}{6} & 0 & F_{1} \\beta + \\frac{F_{2} \\beta}{3} + \\frac{F_{2} \\left(b - \\beta\\right)}{6}\\\\\\frac{F_{2} \\left(b - \\beta\\right)}{6} & F_{1} \\left(b - \\beta\\right) + \\frac{F_{2} \\left(b - \\beta\\right)}{3} & F_{1} \\beta + \\frac{F_{2} \\left(b - \\beta\\right)}{6} & F_{1} \\beta + \\frac{F_{2} \\beta}{3} + \\frac{F_{2} \\left(b - \\beta\\right)}{3}\\\\0 & F_{1} \\beta + \\frac{F_{2} \\left(b - \\beta\\right)}{6} & 0 & F_{1} \\beta + \\frac{F_{2} \\beta}{3} + \\frac{F_{2} \\left(b - \\beta\\right)}{6}\\\\F_{1} \\beta + \\frac{F_{2} \\beta}{3} + \\frac{F_{2} \\left(b - \\beta\\right)}{6} & F_{1} \\beta + \\frac{F_{2} \\beta}{3} + \\frac{F_{2} \\left(b - \\beta\\right)}{3} & F_{1} \\beta + \\frac{F_{2} \\beta}{3} + \\frac{F_{2} \\left(b - \\beta\\right)}{6} & F_{1} \\left(b - \\beta\\right) + \\frac{2 F_{2} \\beta}{3} + \\frac{F_{2} \\left(b - \\beta\\right)}{3}\\end{matrix}\\right] & \\left[\\begin{matrix}- F_{1} \\epsilon - \\frac{F_{2} \\epsilon}{3} + \\frac{2 F_{2} \\left(b - \\beta - c - \\epsilon\\right)}{3} + F_{3} \\left(b - \\beta - \\frac{2 c}{3} - \\epsilon\\right) & F_{1} \\left(b - \\beta - c - \\epsilon\\right) - \\frac{F_{2} \\epsilon}{6} + \\frac{F_{2} \\left(b - \\beta - c - \\epsilon\\right)}{3} + \\frac{F_{2} \\left(b - \\beta - \\frac{2 c}{3} - \\epsilon\\right)}{2} + F_{3} \\left(b - \\beta - \\frac{2 c}{3} - \\epsilon\\right) & F_{1} \\left(\\beta - c - \\epsilon\\right) - \\frac{F_{2} \\epsilon}{6} + \\frac{F_{2} \\left(\\frac{2 \\beta}{3} - \\frac{2 c}{3} - \\epsilon\\right)}{6} + \\frac{F_{2} \\left(\\frac{b}{3} + \\frac{\\beta}{3} - \\frac{2 c}{3} - \\epsilon\\right)}{3} + \\frac{F_{2} \\left(b - \\beta - c - \\epsilon\\right)}{3} + F_{3} \\left(b - \\beta - \\frac{2 c}{3} - \\epsilon\\right) & F_{1} \\left(\\beta - \\epsilon\\right) - \\frac{F_{2} \\epsilon}{6} + \\frac{F_{2} \\left(b - \\beta - \\epsilon\\right)}{6} + \\frac{F_{2} \\left(b - c - \\epsilon\\right)}{3} + \\frac{F_{2} \\left(b - \\beta - c - \\epsilon\\right)}{3} + F_{3} \\left(b - \\beta - \\frac{2 c}{3} - \\epsilon\\right)\\\\F_{1} \\left(b - \\beta - c - \\epsilon\\right) - \\frac{F_{2} \\epsilon}{6} + \\frac{F_{2} \\left(b - \\beta - c - \\epsilon\\right)}{3} + \\frac{F_{2} \\left(b - \\beta - \\frac{2 c}{3} - \\epsilon\\right)}{2} + F_{3} \\left(b - \\beta - \\frac{2 c}{3} - \\epsilon\\right) & F_{1} \\left(b - \\beta - \\frac{2 c}{3} - \\epsilon\\right) + F_{2} \\left(b - \\beta - \\frac{2 c}{3} - \\epsilon\\right) + F_{3} \\left(b - \\beta - \\frac{2 c}{3} - \\epsilon\\right) & F_{1} \\left(\\frac{b}{3} + \\frac{\\beta}{3} - \\frac{2 c}{3} - \\epsilon\\right) + \\frac{F_{2} \\left(\\frac{2 \\beta}{3} - \\frac{2 c}{3} - \\epsilon\\right)}{6} + \\frac{F_{2} \\left(\\frac{b}{3} + \\frac{\\beta}{3} - \\frac{2 c}{3} - \\epsilon\\right)}{3} + \\frac{F_{2} \\left(b - \\beta - \\frac{2 c}{3} - \\epsilon\\right)}{2} + F_{3} \\left(b - \\beta - \\frac{2 c}{3} - \\epsilon\\right) & F_{1} \\left(b - c - \\epsilon\\right) + \\frac{F_{2} \\left(b - \\beta - \\epsilon\\right)}{6} + \\frac{F_{2} \\left(b - c - \\epsilon\\right)}{3} + \\frac{F_{2} \\left(b - \\beta - \\frac{2 c}{3} - \\epsilon\\right)}{2} + F_{3} \\left(b - \\beta - \\frac{2 c}{3} - \\epsilon\\right)\\\\F_{1} \\left(\\beta - c - \\epsilon\\right) - \\frac{F_{2} \\epsilon}{6} + \\frac{F_{2} \\left(\\frac{2 \\beta}{3} - \\frac{2 c}{3} - \\epsilon\\right)}{6} + \\frac{F_{2} \\left(\\frac{b}{3} + \\frac{\\beta}{3} - \\frac{2 c}{3} - \\epsilon\\right)}{3} + \\frac{F_{2} \\left(b - \\beta - c - \\epsilon\\right)}{3} + F_{3} \\left(b - \\beta - \\frac{2 c}{3} - \\epsilon\\right) & F_{1} \\left(\\frac{b}{3} + \\frac{\\beta}{3} - \\frac{2 c}{3} - \\epsilon\\right) + \\frac{F_{2} \\left(\\frac{2 \\beta}{3} - \\frac{2 c}{3} - \\epsilon\\right)}{6} + \\frac{F_{2} \\left(\\frac{b}{3} + \\frac{\\beta}{3} - \\frac{2 c}{3} - \\epsilon\\right)}{3} + \\frac{F_{2} \\left(b - \\beta - \\frac{2 c}{3} - \\epsilon\\right)}{2} + F_{3} \\left(b - \\beta - \\frac{2 c}{3} - \\epsilon\\right) & F_{1} \\left(\\frac{2 \\beta}{3} - \\frac{2 c}{3} - \\epsilon\\right) + \\frac{F_{2} \\left(\\frac{2 \\beta}{3} - \\frac{2 c}{3} - \\epsilon\\right)}{3} + \\frac{2 F_{2} \\left(\\frac{b}{3} + \\frac{\\beta}{3} - \\frac{2 c}{3} - \\epsilon\\right)}{3} + F_{3} \\left(b - \\beta - \\frac{2 c}{3} - \\epsilon\\right) & F_{1} \\left(b - \\beta - c - \\epsilon\\right) + \\frac{F_{2} \\left(b - \\beta - \\epsilon\\right)}{6} + \\frac{F_{2} \\left(b - c - \\epsilon\\right)}{3} + \\frac{F_{2} \\left(\\frac{2 \\beta}{3} - \\frac{2 c}{3} - \\epsilon\\right)}{6} + \\frac{F_{2} \\left(\\frac{b}{3} + \\frac{\\beta}{3} - \\frac{2 c}{3} - \\epsilon\\right)}{3} + F_{3} \\left(b - \\beta - \\frac{2 c}{3} - \\epsilon\\right)\\\\F_{1} \\left(\\beta - \\epsilon\\right) - \\frac{F_{2} \\epsilon}{6} + \\frac{F_{2} \\left(b - \\beta - \\epsilon\\right)}{6} + \\frac{F_{2} \\left(b - c - \\epsilon\\right)}{3} + \\frac{F_{2} \\left(b - \\beta - c - \\epsilon\\right)}{3} + F_{3} \\left(b - \\beta - \\frac{2 c}{3} - \\epsilon\\right) & F_{1} \\left(b - c - \\epsilon\\right) + \\frac{F_{2} \\left(b - \\beta - \\epsilon\\right)}{6} + \\frac{F_{2} \\left(b - c - \\epsilon\\right)}{3} + \\frac{F_{2} \\left(b - \\beta - \\frac{2 c}{3} - \\epsilon\\right)}{2} + F_{3} \\left(b - \\beta - \\frac{2 c}{3} - \\epsilon\\right) & F_{1} \\left(b - \\beta - c - \\epsilon\\right) + \\frac{F_{2} \\left(b - \\beta - \\epsilon\\right)}{6} + \\frac{F_{2} \\left(b - c - \\epsilon\\right)}{3} + \\frac{F_{2} \\left(\\frac{2 \\beta}{3} - \\frac{2 c}{3} - \\epsilon\\right)}{6} + \\frac{F_{2} \\left(\\frac{b}{3} + \\frac{\\beta}{3} - \\frac{2 c}{3} - \\epsilon\\right)}{3} + F_{3} \\left(b - \\beta - \\frac{2 c}{3} - \\epsilon\\right) & F_{1} \\left(b - \\beta - \\epsilon\\right) + \\frac{F_{2} \\left(b - \\beta - \\epsilon\\right)}{3} + \\frac{2 F_{2} \\left(b - c - \\epsilon\\right)}{3} + F_{3} \\left(b - \\beta - \\frac{2 c}{3} - \\epsilon\\right)\\end{matrix}\\right] & \\left[\\begin{matrix}- F_{1} \\epsilon - F_{2} \\epsilon - F_{3} \\epsilon & F_{1} \\left(\\beta - \\epsilon\\right) - \\frac{F_{2} \\epsilon}{2} + \\frac{F_{2} \\left(\\frac{2 \\beta}{3} - \\epsilon\\right)}{3} + \\frac{F_{2} \\left(\\frac{b}{3} + \\frac{\\beta}{3} - \\epsilon\\right)}{6} - F_{3} \\epsilon & - F_{1} \\epsilon - F_{2} \\epsilon - F_{3} \\epsilon & F_{1} \\left(\\beta - \\epsilon\\right) - \\frac{F_{2} \\epsilon}{2} + \\frac{F_{2} \\left(\\beta - \\epsilon\\right)}{3} + \\frac{F_{2} \\left(b - \\beta - \\epsilon\\right)}{6} - F_{3} \\epsilon\\\\F_{1} \\left(\\beta - \\epsilon\\right) - \\frac{F_{2} \\epsilon}{2} + \\frac{F_{2} \\left(\\frac{2 \\beta}{3} - \\epsilon\\right)}{3} + \\frac{F_{2} \\left(\\frac{b}{3} + \\frac{\\beta}{3} - \\epsilon\\right)}{6} - F_{3} \\epsilon & F_{1} \\left(\\frac{b}{3} + \\frac{\\beta}{3} - \\epsilon\\right) + \\frac{2 F_{2} \\left(\\frac{2 \\beta}{3} - \\epsilon\\right)}{3} + \\frac{F_{2} \\left(\\frac{b}{3} + \\frac{\\beta}{3} - \\epsilon\\right)}{3} - F_{3} \\epsilon & F_{1} \\left(\\frac{2 \\beta}{3} - \\epsilon\\right) - \\frac{F_{2} \\epsilon}{2} + \\frac{F_{2} \\left(\\frac{2 \\beta}{3} - \\epsilon\\right)}{3} + \\frac{F_{2} \\left(\\frac{b}{3} + \\frac{\\beta}{3} - \\epsilon\\right)}{6} - F_{3} \\epsilon & F_{1} \\left(b - \\beta - \\epsilon\\right) + \\frac{F_{2} \\left(\\frac{2 \\beta}{3} - \\epsilon\\right)}{3} + \\frac{F_{2} \\left(\\beta - \\epsilon\\right)}{3} + \\frac{F_{2} \\left(\\frac{b}{3} + \\frac{\\beta}{3} - \\epsilon\\right)}{6} + \\frac{F_{2} \\left(b - \\beta - \\epsilon\\right)}{6} - F_{3} \\epsilon\\\\- F_{1} \\epsilon - F_{2} \\epsilon - F_{3} \\epsilon & F_{1} \\left(\\frac{2 \\beta}{3} - \\epsilon\\right) - \\frac{F_{2} \\epsilon}{2} + \\frac{F_{2} \\left(\\frac{2 \\beta}{3} - \\epsilon\\right)}{3} + \\frac{F_{2} \\left(\\frac{b}{3} + \\frac{\\beta}{3} - \\epsilon\\right)}{6} - F_{3} \\epsilon & - F_{1} \\epsilon - F_{2} \\epsilon - F_{3} \\epsilon & F_{1} \\left(\\beta - \\epsilon\\right) - \\frac{F_{2} \\epsilon}{2} + \\frac{F_{2} \\left(\\beta - \\epsilon\\right)}{3} + \\frac{F_{2} \\left(b - \\beta - \\epsilon\\right)}{6} - F_{3} \\epsilon\\\\F_{1} \\left(\\beta - \\epsilon\\right) - \\frac{F_{2} \\epsilon}{2} + \\frac{F_{2} \\left(\\beta - \\epsilon\\right)}{3} + \\frac{F_{2} \\left(b - \\beta - \\epsilon\\right)}{6} - F_{3} \\epsilon & F_{1} \\left(b - \\beta - \\epsilon\\right) + \\frac{F_{2} \\left(\\frac{2 \\beta}{3} - \\epsilon\\right)}{3} + \\frac{F_{2} \\left(\\beta - \\epsilon\\right)}{3} + \\frac{F_{2} \\left(\\frac{b}{3} + \\frac{\\beta}{3} - \\epsilon\\right)}{6} + \\frac{F_{2} \\left(b - \\beta - \\epsilon\\right)}{6} - F_{3} \\epsilon & F_{1} \\left(\\beta - \\epsilon\\right) - \\frac{F_{2} \\epsilon}{2} + \\frac{F_{2} \\left(\\beta - \\epsilon\\right)}{3} + \\frac{F_{2} \\left(b - \\beta - \\epsilon\\right)}{6} - F_{3} \\epsilon & F_{1} \\left(b - \\beta - \\epsilon\\right) + \\frac{2 F_{2} \\left(\\beta - \\epsilon\\right)}{3} + \\frac{F_{2} \\left(b - \\beta - \\epsilon\\right)}{3} - F_{3} \\epsilon\\end{matrix}\\right] & \\left[\\begin{matrix}F_{1} \\left(\\beta - c\\right) + \\frac{F_{2} \\left(\\beta - c\\right)}{3} + \\frac{2 F_{2} \\left(b - \\beta - c\\right)}{3} + F_{3} \\left(b - c\\right) & F_{1} \\left(\\beta - c\\right) + \\frac{F_{2} \\left(b - c\\right)}{6} + \\frac{F_{2} \\left(\\beta - c\\right)}{6} + \\frac{2 F_{2} \\left(b - \\beta - c\\right)}{3} + F_{3} \\left(b - c\\right) & F_{1} \\left(\\beta - c\\right) + \\frac{F_{2} \\left(\\beta - c\\right)}{3} + \\frac{2 F_{2} \\left(b - \\beta - c\\right)}{3} + F_{3} \\left(b - c\\right) & F_{1} \\left(b - \\beta - c\\right) + \\frac{F_{2} \\left(b - c\\right)}{2} + \\frac{F_{2} \\left(\\beta - c\\right)}{6} + \\frac{F_{2} \\left(b - \\beta - c\\right)}{3} + F_{3} \\left(b - c\\right)\\\\F_{1} \\left(\\beta - c\\right) + \\frac{F_{2} \\left(b - c\\right)}{6} + \\frac{F_{2} \\left(\\beta - c\\right)}{6} + \\frac{2 F_{2} \\left(b - \\beta - c\\right)}{3} + F_{3} \\left(b - c\\right) & F_{1} \\left(b - c\\right) + \\frac{F_{2} \\left(b - c\\right)}{3} + \\frac{2 F_{2} \\left(b - \\beta - c\\right)}{3} + F_{3} \\left(b - c\\right) & F_{1} \\left(b - \\beta - c\\right) + \\frac{F_{2} \\left(b - c\\right)}{6} + \\frac{F_{2} \\left(\\beta - c\\right)}{6} + \\frac{2 F_{2} \\left(b - \\beta - c\\right)}{3} + F_{3} \\left(b - c\\right) & F_{1} \\left(b - \\beta - c\\right) + \\frac{2 F_{2} \\left(b - c\\right)}{3} + \\frac{F_{2} \\left(b - \\beta - c\\right)}{3} + F_{3} \\left(b - c\\right)\\\\F_{1} \\left(\\beta - c\\right) + \\frac{F_{2} \\left(\\beta - c\\right)}{3} + \\frac{2 F_{2} \\left(b - \\beta - c\\right)}{3} + F_{3} \\left(b - c\\right) & F_{1} \\left(b - \\beta - c\\right) + \\frac{F_{2} \\left(b - c\\right)}{6} + \\frac{F_{2} \\left(\\beta - c\\right)}{6} + \\frac{2 F_{2} \\left(b - \\beta - c\\right)}{3} + F_{3} \\left(b - c\\right) & F_{1} \\left(\\beta - c\\right) + \\frac{F_{2} \\left(\\beta - c\\right)}{3} + \\frac{2 F_{2} \\left(b - \\beta - c\\right)}{3} + F_{3} \\left(b - c\\right) & F_{1} \\left(b - \\beta - c\\right) + \\frac{F_{2} \\left(b - c\\right)}{2} + \\frac{F_{2} \\left(\\beta - c\\right)}{6} + \\frac{F_{2} \\left(b - \\beta - c\\right)}{3} + F_{3} \\left(b - c\\right)\\\\F_{1} \\left(b - \\beta - c\\right) + \\frac{F_{2} \\left(b - c\\right)}{2} + \\frac{F_{2} \\left(\\beta - c\\right)}{6} + \\frac{F_{2} \\left(b - \\beta - c\\right)}{3} + F_{3} \\left(b - c\\right) & F_{1} \\left(b - \\beta - c\\right) + \\frac{2 F_{2} \\left(b - c\\right)}{3} + \\frac{F_{2} \\left(b - \\beta - c\\right)}{3} + F_{3} \\left(b - c\\right) & F_{1} \\left(b - \\beta - c\\right) + \\frac{F_{2} \\left(b - c\\right)}{2} + \\frac{F_{2} \\left(\\beta - c\\right)}{6} + \\frac{F_{2} \\left(b - \\beta - c\\right)}{3} + F_{3} \\left(b - c\\right) & F_{1} \\left(b - c\\right) + F_{2} \\left(b - c\\right) + F_{3} \\left(b - c\\right)\\end{matrix}\\right]\\end{matrix}\\right]$"
      ],
      "text/plain": [
       "[[[0, F_2*(b - beta)/6, 0, F_1*beta + F_2*beta/3 + F_2*(b - beta)/6], [F_2*(b - beta)/6, F_1*(b - beta) + F_2*(b - beta)/3, F_1*beta + F_2*(b - beta)/6, F_1*beta + F_2*beta/3 + F_2*(b - beta)/3], [0, F_1*beta + F_2*(b - beta)/6, 0, F_1*beta + F_2*beta/3 + F_2*(b - beta)/6], [F_1*beta + F_2*beta/3 + F_2*(b - beta)/6, F_1*beta + F_2*beta/3 + F_2*(b - beta)/3, F_1*beta + F_2*beta/3 + F_2*(b - beta)/6, F_1*(b - beta) + 2*F_2*beta/3 + F_2*(b - beta)/3]], [[-F_1*epsilon - F_2*epsilon/3 + 2*F_2*(b - beta - c - epsilon)/3 + F_3*(b - beta - 2*c/3 - epsilon), F_1*(b - beta - c - epsilon) - F_2*epsilon/6 + F_2*(b - beta - c - epsilon)/3 + F_2*(b - beta - 2*c/3 - epsilon)/2 + F_3*(b - beta - 2*c/3 - epsilon), F_1*(beta - c - epsilon) - F_2*epsilon/6 + F_2*(2*beta/3 - 2*c/3 - epsilon)/6 + F_2*(b/3 + beta/3 - 2*c/3 - epsilon)/3 + F_2*(b - beta - c - epsilon)/3 + F_3*(b - beta - 2*c/3 - epsilon), F_1*(beta - epsilon) - F_2*epsilon/6 + F_2*(b - beta - epsilon)/6 + F_2*(b - c - epsilon)/3 + F_2*(b - beta - c - epsilon)/3 + F_3*(b - beta - 2*c/3 - epsilon)], [F_1*(b - beta - c - epsilon) - F_2*epsilon/6 + F_2*(b - beta - c - epsilon)/3 + F_2*(b - beta - 2*c/3 - epsilon)/2 + F_3*(b - beta - 2*c/3 - epsilon), F_1*(b - beta - 2*c/3 - epsilon) + F_2*(b - beta - 2*c/3 - epsilon) + F_3*(b - beta - 2*c/3 - epsilon), F_1*(b/3 + beta/3 - 2*c/3 - epsilon) + F_2*(2*beta/3 - 2*c/3 - epsilon)/6 + F_2*(b/3 + beta/3 - 2*c/3 - epsilon)/3 + F_2*(b - beta - 2*c/3 - epsilon)/2 + F_3*(b - beta - 2*c/3 - epsilon), F_1*(b - c - epsilon) + F_2*(b - beta - epsilon)/6 + F_2*(b - c - epsilon)/3 + F_2*(b - beta - 2*c/3 - epsilon)/2 + F_3*(b - beta - 2*c/3 - epsilon)], [F_1*(beta - c - epsilon) - F_2*epsilon/6 + F_2*(2*beta/3 - 2*c/3 - epsilon)/6 + F_2*(b/3 + beta/3 - 2*c/3 - epsilon)/3 + F_2*(b - beta - c - epsilon)/3 + F_3*(b - beta - 2*c/3 - epsilon), F_1*(b/3 + beta/3 - 2*c/3 - epsilon) + F_2*(2*beta/3 - 2*c/3 - epsilon)/6 + F_2*(b/3 + beta/3 - 2*c/3 - epsilon)/3 + F_2*(b - beta - 2*c/3 - epsilon)/2 + F_3*(b - beta - 2*c/3 - epsilon), F_1*(2*beta/3 - 2*c/3 - epsilon) + F_2*(2*beta/3 - 2*c/3 - epsilon)/3 + 2*F_2*(b/3 + beta/3 - 2*c/3 - epsilon)/3 + F_3*(b - beta - 2*c/3 - epsilon), F_1*(b - beta - c - epsilon) + F_2*(b - beta - epsilon)/6 + F_2*(b - c - epsilon)/3 + F_2*(2*beta/3 - 2*c/3 - epsilon)/6 + F_2*(b/3 + beta/3 - 2*c/3 - epsilon)/3 + F_3*(b - beta - 2*c/3 - epsilon)], [F_1*(beta - epsilon) - F_2*epsilon/6 + F_2*(b - beta - epsilon)/6 + F_2*(b - c - epsilon)/3 + F_2*(b - beta - c - epsilon)/3 + F_3*(b - beta - 2*c/3 - epsilon), F_1*(b - c - epsilon) + F_2*(b - beta - epsilon)/6 + F_2*(b - c - epsilon)/3 + F_2*(b - beta - 2*c/3 - epsilon)/2 + F_3*(b - beta - 2*c/3 - epsilon), F_1*(b - beta - c - epsilon) + F_2*(b - beta - epsilon)/6 + F_2*(b - c - epsilon)/3 + F_2*(2*beta/3 - 2*c/3 - epsilon)/6 + F_2*(b/3 + beta/3 - 2*c/3 - epsilon)/3 + F_3*(b - beta - 2*c/3 - epsilon), F_1*(b - beta - epsilon) + F_2*(b - beta - epsilon)/3 + 2*F_2*(b - c - epsilon)/3 + F_3*(b - beta - 2*c/3 - epsilon)]], [[-F_1*epsilon - F_2*epsilon - F_3*epsilon, F_1*(beta - epsilon) - F_2*epsilon/2 + F_2*(2*beta/3 - epsilon)/3 + F_2*(b/3 + beta/3 - epsilon)/6 - F_3*epsilon, -F_1*epsilon - F_2*epsilon - F_3*epsilon, F_1*(beta - epsilon) - F_2*epsilon/2 + F_2*(beta - epsilon)/3 + F_2*(b - beta - epsilon)/6 - F_3*epsilon], [F_1*(beta - epsilon) - F_2*epsilon/2 + F_2*(2*beta/3 - epsilon)/3 + F_2*(b/3 + beta/3 - epsilon)/6 - F_3*epsilon, F_1*(b/3 + beta/3 - epsilon) + 2*F_2*(2*beta/3 - epsilon)/3 + F_2*(b/3 + beta/3 - epsilon)/3 - F_3*epsilon, F_1*(2*beta/3 - epsilon) - F_2*epsilon/2 + F_2*(2*beta/3 - epsilon)/3 + F_2*(b/3 + beta/3 - epsilon)/6 - F_3*epsilon, F_1*(b - beta - epsilon) + F_2*(2*beta/3 - epsilon)/3 + F_2*(beta - epsilon)/3 + F_2*(b/3 + beta/3 - epsilon)/6 + F_2*(b - beta - epsilon)/6 - F_3*epsilon], [-F_1*epsilon - F_2*epsilon - F_3*epsilon, F_1*(2*beta/3 - epsilon) - F_2*epsilon/2 + F_2*(2*beta/3 - epsilon)/3 + F_2*(b/3 + beta/3 - epsilon)/6 - F_3*epsilon, -F_1*epsilon - F_2*epsilon - F_3*epsilon, F_1*(beta - epsilon) - F_2*epsilon/2 + F_2*(beta - epsilon)/3 + F_2*(b - beta - epsilon)/6 - F_3*epsilon], [F_1*(beta - epsilon) - F_2*epsilon/2 + F_2*(beta - epsilon)/3 + F_2*(b - beta - epsilon)/6 - F_3*epsilon, F_1*(b - beta - epsilon) + F_2*(2*beta/3 - epsilon)/3 + F_2*(beta - epsilon)/3 + F_2*(b/3 + beta/3 - epsilon)/6 + F_2*(b - beta - epsilon)/6 - F_3*epsilon, F_1*(beta - epsilon) - F_2*epsilon/2 + F_2*(beta - epsilon)/3 + F_2*(b - beta - epsilon)/6 - F_3*epsilon, F_1*(b - beta - epsilon) + 2*F_2*(beta - epsilon)/3 + F_2*(b - beta - epsilon)/3 - F_3*epsilon]], [[F_1*(beta - c) + F_2*(beta - c)/3 + 2*F_2*(b - beta - c)/3 + F_3*(b - c), F_1*(beta - c) + F_2*(b - c)/6 + F_2*(beta - c)/6 + 2*F_2*(b - beta - c)/3 + F_3*(b - c), F_1*(beta - c) + F_2*(beta - c)/3 + 2*F_2*(b - beta - c)/3 + F_3*(b - c), F_1*(b - beta - c) + F_2*(b - c)/2 + F_2*(beta - c)/6 + F_2*(b - beta - c)/3 + F_3*(b - c)], [F_1*(beta - c) + F_2*(b - c)/6 + F_2*(beta - c)/6 + 2*F_2*(b - beta - c)/3 + F_3*(b - c), F_1*(b - c) + F_2*(b - c)/3 + 2*F_2*(b - beta - c)/3 + F_3*(b - c), F_1*(b - beta - c) + F_2*(b - c)/6 + F_2*(beta - c)/6 + 2*F_2*(b - beta - c)/3 + F_3*(b - c), F_1*(b - beta - c) + 2*F_2*(b - c)/3 + F_2*(b - beta - c)/3 + F_3*(b - c)], [F_1*(beta - c) + F_2*(beta - c)/3 + 2*F_2*(b - beta - c)/3 + F_3*(b - c), F_1*(b - beta - c) + F_2*(b - c)/6 + F_2*(beta - c)/6 + 2*F_2*(b - beta - c)/3 + F_3*(b - c), F_1*(beta - c) + F_2*(beta - c)/3 + 2*F_2*(b - beta - c)/3 + F_3*(b - c), F_1*(b - beta - c) + F_2*(b - c)/2 + F_2*(beta - c)/6 + F_2*(b - beta - c)/3 + F_3*(b - c)], [F_1*(b - beta - c) + F_2*(b - c)/2 + F_2*(beta - c)/6 + F_2*(b - beta - c)/3 + F_3*(b - c), F_1*(b - beta - c) + 2*F_2*(b - c)/3 + F_2*(b - beta - c)/3 + F_3*(b - c), F_1*(b - beta - c) + F_2*(b - c)/2 + F_2*(beta - c)/6 + F_2*(b - beta - c)/3 + F_3*(b - c), F_1*(b - c) + F_2*(b - c) + F_3*(b - c)]]]"
      ]
     },
     "execution_count": 5,
     "metadata": {},
     "output_type": "execute_result"
    }
   ],
   "source": [
    "B = create_transformed_payoff_matrix(A)\n",
    "B"
   ]
  },
  {
   "cell_type": "markdown",
   "id": "prompt-thailand",
   "metadata": {},
   "source": [
    "Note the subscripts used for the partition-structure probabilities $F$ refer to an indexation of the partitions of $n$, which is the ordering used in the SI about relatedness coefficients, and is the ordering in which they returned by the `utilities` function `partitionInteger()`. \n",
    "\n",
    "In this example, $F_1 \\equiv F_{[1,1,1]}$, $F_2 \\equiv F_{[2,1]}$, and $F_3 \\equiv F_{[3]}$."
   ]
  },
  {
   "cell_type": "code",
   "execution_count": 6,
   "id": "abstract-palace",
   "metadata": {},
   "outputs": [
    {
     "data": {
      "text/plain": [
       "[[1, 1, 1], [1, 2], [3]]"
      ]
     },
     "execution_count": 6,
     "metadata": {},
     "output_type": "execute_result"
    }
   ],
   "source": [
    "from utilities import partitionInteger\n",
    "\n",
    "partnV = list(partitionInteger(n))\n",
    "partnV"
   ]
  },
  {
   "cell_type": "markdown",
   "id": "super-stream",
   "metadata": {},
   "source": [
    "## 2. Switching gains analysis\n",
    "\n",
    "Taking inspiration from Peña et al. (2014), we can use the transformed payoffs to gain qualitative insights into the game under homophily. Symbolic expressions for the switching gains between pairs of strategies (along with the payoffs) can be generated using the function `calc_switching_gains()`. Below, we will do two small examples to illustrate the kind of analysis that is possible."
   ]
  },
  {
   "cell_type": "markdown",
   "id": "absent-corner",
   "metadata": {},
   "source": [
    "### 2.1 Example: Unconditional Cooperators versus Unconditional Defectors\n",
    "\n",
    "The switching gains to Unconditional Cooperators (strategy 3) against Defectors (strategy 0) in a well-mixed population are:"
   ]
  },
  {
   "cell_type": "code",
   "execution_count": 9,
   "id": "induced-refrigerator",
   "metadata": {},
   "outputs": [
    {
     "name": "stdout",
     "output_type": "stream",
     "text": [
      "switching gain d_0\n"
     ]
    },
    {
     "data": {
      "text/latex": [
       "$\\displaystyle \\beta - c$"
      ],
      "text/plain": [
       "beta - c"
      ]
     },
     "metadata": {},
     "output_type": "display_data"
    },
    {
     "name": "stdout",
     "output_type": "stream",
     "text": [
      "switching gain d_1\n"
     ]
    },
    {
     "data": {
      "text/latex": [
       "$\\displaystyle b - 2 \\beta - c$"
      ],
      "text/plain": [
       "b - 2*beta - c"
      ]
     },
     "metadata": {},
     "output_type": "display_data"
    },
    {
     "name": "stdout",
     "output_type": "stream",
     "text": [
      "switching gain d_2\n"
     ]
    },
    {
     "data": {
      "text/latex": [
       "$\\displaystyle \\beta - c$"
      ],
      "text/plain": [
       "beta - c"
      ]
     },
     "metadata": {},
     "output_type": "display_data"
    }
   ],
   "source": [
    "mix_dk, pi_foc, pi_nonfoc = calc_switching_gains(A, 3, 0)\n",
    "\n",
    "for k, dk in enumerate(mix_dk):\n",
    "    \n",
    "    print(f'switching gain d_{k}')\n",
    "    disp.display(dk)"
   ]
  },
  {
   "cell_type": "markdown",
   "id": "durable-reminder",
   "metadata": {},
   "source": [
    "We are interested in scenarios where the lone contributor faces a social dilemma; therefore, we assume\n",
    "\n",
    "$$\n",
    "\\beta-c < 0.\n",
    "$$"
   ]
  },
  {
   "cell_type": "markdown",
   "id": "accepting-solution",
   "metadata": {},
   "source": [
    "In the full sigmoid gain, we focused on the existence of a positive switching gain when there were $\\tau$ U-strategists and $n-\\tau$ D-strategists, and derived the condition: $B(\\tau) - B(\\tau-1) - c > 0$. In this example, the analogous condition is\n",
    "\n",
    "$$\n",
    "b - 2\\beta - c > 0.\n",
    "$$"
   ]
  },
  {
   "cell_type": "markdown",
   "id": "peaceful-oracle",
   "metadata": {},
   "source": [
    "In the homophilic population, the switching gains are:"
   ]
  },
  {
   "cell_type": "code",
   "execution_count": 10,
   "id": "moral-converter",
   "metadata": {},
   "outputs": [
    {
     "name": "stdout",
     "output_type": "stream",
     "text": [
      "switching gain d_0\n"
     ]
    },
    {
     "data": {
      "text/latex": [
       "$\\displaystyle F_{1} \\left(\\beta - c\\right) + F_{2} \\left(\\frac{2 b}{3} - \\frac{\\beta}{3} - c\\right) + F_{3} \\left(b - c\\right)$"
      ],
      "text/plain": [
       "F_1*(beta - c) + F_2*(2*b/3 - beta/3 - c) + F_3*(b - c)"
      ]
     },
     "metadata": {},
     "output_type": "display_data"
    },
    {
     "name": "stdout",
     "output_type": "stream",
     "text": [
      "switching gain d_1\n"
     ]
    },
    {
     "data": {
      "text/latex": [
       "$\\displaystyle F_{1} \\left(b - 2 \\beta - c\\right) + F_{2} \\left(\\frac{2 b}{3} - \\frac{\\beta}{3} - c\\right) + F_{3} \\left(b - c\\right)$"
      ],
      "text/plain": [
       "F_1*(b - 2*beta - c) + F_2*(2*b/3 - beta/3 - c) + F_3*(b - c)"
      ]
     },
     "metadata": {},
     "output_type": "display_data"
    },
    {
     "name": "stdout",
     "output_type": "stream",
     "text": [
      "switching gain d_2\n"
     ]
    },
    {
     "data": {
      "text/latex": [
       "$\\displaystyle F_{1} \\left(\\beta - c\\right) + F_{2} \\left(\\frac{2 b}{3} - \\frac{\\beta}{3} - c\\right) + F_{3} \\left(b - c\\right)$"
      ],
      "text/plain": [
       "F_1*(beta - c) + F_2*(2*b/3 - beta/3 - c) + F_3*(b - c)"
      ]
     },
     "metadata": {},
     "output_type": "display_data"
    }
   ],
   "source": [
    "hom_dk, pi_foc, pi_nonfoc = calc_switching_gains(B, 3, 0)\n",
    "\n",
    "# tidy the dk expressions so the terms are grouped by F_i\n",
    "num_partns = len(partnV)\n",
    "hom_dk = [sp.collect(expr, [sp.Symbol('F_'+str(i)) for i in range(1, num_partns+1)]) \n",
    "                for expr in hom_dk]\n",
    "        \n",
    "for k, dk in enumerate(hom_dk):\n",
    "    \n",
    "    print(f'switching gain d_{k}')\n",
    "    disp.display(dk)"
   ]
  },
  {
   "cell_type": "markdown",
   "id": "turkish-damages",
   "metadata": {},
   "source": [
    "The $F_3$ components $b-c > 0$, so under perfect homophily, U dominate.\n",
    "\n",
    "The $F_2$ component $(2b-\\beta-3c)/3$ is positive if the switching gain above is positive and $3\\beta - c > 0$. If this is satisfied, the effect of homophily is to shift the gains function uniformly \"upwards\", thus increasing the possibility for coexistence of C and D and (eventually) dominance of C."
   ]
  },
  {
   "cell_type": "markdown",
   "id": "literary-february",
   "metadata": {},
   "source": [
    "### 2.2 Coordinating Cooperators versus Liars -- Invasion of Liars\n",
    "\n",
    "The switching gains to Coordinating Cooperators (strategy 1) against Liars (strategy 2) in a well-mixed population are:"
   ]
  },
  {
   "cell_type": "code",
   "execution_count": 11,
   "id": "nuclear-exchange",
   "metadata": {},
   "outputs": [
    {
     "name": "stdout",
     "output_type": "stream",
     "text": [
      "switching gain d_0\n"
     ]
    },
    {
     "data": {
      "text/latex": [
       "$\\displaystyle \\frac{2 \\beta}{3} - \\frac{2 c}{3}$"
      ],
      "text/plain": [
       "2*beta/3 - 2*c/3"
      ]
     },
     "metadata": {},
     "output_type": "display_data"
    },
    {
     "name": "stdout",
     "output_type": "stream",
     "text": [
      "switching gain d_1\n"
     ]
    },
    {
     "data": {
      "text/latex": [
       "$\\displaystyle \\frac{b}{3} - \\frac{\\beta}{3} - \\frac{2 c}{3}$"
      ],
      "text/plain": [
       "b/3 - beta/3 - 2*c/3"
      ]
     },
     "metadata": {},
     "output_type": "display_data"
    },
    {
     "name": "stdout",
     "output_type": "stream",
     "text": [
      "switching gain d_2\n"
     ]
    },
    {
     "data": {
      "text/latex": [
       "$\\displaystyle \\frac{2 b}{3} - \\frac{4 \\beta}{3} - \\frac{2 c}{3}$"
      ],
      "text/plain": [
       "2*b/3 - 4*beta/3 - 2*c/3"
      ]
     },
     "metadata": {},
     "output_type": "display_data"
    }
   ],
   "source": [
    "mix_dk, pi_foc, pi_nonfoc = calc_switching_gains(A, 1, 2)\n",
    "\n",
    "for k, dk in enumerate(mix_dk):\n",
    "    \n",
    "    print(f'switching gain d_{k}')\n",
    "    disp.display(dk)\n"
   ]
  },
  {
   "cell_type": "markdown",
   "id": "elementary-start",
   "metadata": {},
   "source": [
    "The invasion fitness of a B-strategist into an all-A population is equal to \n",
    "the negative of A's switching gain $-d_{n-1}$. From the switching gains above, \n",
    "we learn that, in a well-mixed population,\n",
    "the invasion fitness of L into an all-C population is\n",
    "\n",
    "$$\n",
    "    \\left. \\frac{\\dot{p}_L}{p_L} \\right|_{p_C=1} = \\frac{-(2b - 4\\beta - 2c)}{3}.\n",
    "    \\label{A:sigsimpler_invL_to_C_mix}\n",
    "$$\n",
    "\n",
    "\n",
    "Therefore, if there is a positive switching gain for $\\tau$ U-strategists, because \n",
    "\n",
    "$$\n",
    "b - 2\\beta - c > 0 \\ \\implies \\frac{2b - 4\\beta - 2c}{3} > 0.\n",
    "$$\n",
    "\n",
    "then Liars cannot invade a population of all Coordinating Cooperators."
   ]
  },
  {
   "cell_type": "markdown",
   "id": "dominant-multiple",
   "metadata": {},
   "source": [
    "The switching gains to Coordinating Cooperators (strategy 1) against Liars (strategy 2) in a homophilic population are:"
   ]
  },
  {
   "cell_type": "code",
   "execution_count": 12,
   "id": "confused-blank",
   "metadata": {},
   "outputs": [
    {
     "name": "stdout",
     "output_type": "stream",
     "text": [
      "switching gain d_0\n"
     ]
    },
    {
     "data": {
      "text/latex": [
       "$\\displaystyle F_{1} \\left(\\frac{2 \\beta}{3} - \\frac{2 c}{3}\\right) + F_{2} \\left(\\frac{2 b}{9} + \\frac{4 \\beta}{9} - \\frac{2 c}{3}\\right) + F_{3} \\left(b - \\beta - \\frac{2 c}{3}\\right)$"
      ],
      "text/plain": [
       "F_1*(2*beta/3 - 2*c/3) + F_2*(2*b/9 + 4*beta/9 - 2*c/3) + F_3*(b - beta - 2*c/3)"
      ]
     },
     "metadata": {},
     "output_type": "display_data"
    },
    {
     "name": "stdout",
     "output_type": "stream",
     "text": [
      "switching gain d_1\n"
     ]
    },
    {
     "data": {
      "text/latex": [
       "$\\displaystyle F_{1} \\left(\\frac{b}{3} - \\frac{\\beta}{3} - \\frac{2 c}{3}\\right) + F_{2} \\left(\\frac{5 b}{9} - \\frac{5 \\beta}{9} - \\frac{2 c}{3}\\right) + F_{3} \\left(b - \\beta - \\frac{2 c}{3}\\right)$"
      ],
      "text/plain": [
       "F_1*(b/3 - beta/3 - 2*c/3) + F_2*(5*b/9 - 5*beta/9 - 2*c/3) + F_3*(b - beta - 2*c/3)"
      ]
     },
     "metadata": {},
     "output_type": "display_data"
    },
    {
     "name": "stdout",
     "output_type": "stream",
     "text": [
      "switching gain d_2\n"
     ]
    },
    {
     "data": {
      "text/latex": [
       "$\\displaystyle F_{1} \\left(\\frac{2 b}{3} - \\frac{4 \\beta}{3} - \\frac{2 c}{3}\\right) + F_{2} \\left(\\frac{8 b}{9} - \\frac{14 \\beta}{9} - \\frac{2 c}{3}\\right) + F_{3} \\left(b - \\beta - \\frac{2 c}{3}\\right)$"
      ],
      "text/plain": [
       "F_1*(2*b/3 - 4*beta/3 - 2*c/3) + F_2*(8*b/9 - 14*beta/9 - 2*c/3) + F_3*(b - beta - 2*c/3)"
      ]
     },
     "metadata": {},
     "output_type": "display_data"
    }
   ],
   "source": [
    "hom_dk, pi_foc, pi_nonfoc = calc_switching_gains(B, 1, 2)\n",
    "\n",
    "# tidy the dk expressions so the terms are grouped by F_i\n",
    "num_partns = len(partnV)\n",
    "hom_dk = [sp.collect(expr, [sp.Symbol('F_'+str(i)) for i in range(1, num_partns+1)]) \n",
    "                for expr in hom_dk]\n",
    "        \n",
    "for k, dk in enumerate(hom_dk):\n",
    "    \n",
    "    print(f'switching gain d_{k}')\n",
    "    disp.display(dk)"
   ]
  },
  {
   "cell_type": "markdown",
   "id": "representative-skiing",
   "metadata": {},
   "source": [
    "Here we learn that, when there is some homophily,\n",
    "the invasion fitness of L into an all-C population is\n",
    "\n",
    "$$\n",
    "    \\left. \\frac{\\dot{p}_L}{p_L} \\right|_{p_C=1} = \n",
    "    - \\left[\n",
    "        F_{[1,1,1]} \\underbrace{\\left(\\frac{2b-4\\beta-2c}{3}\\right)}_{X}+\n",
    "        F_{[2,1]} \\underbrace{\\left(\\frac{8b-14\\beta-6c}{9}\\right)}_{Y}+\n",
    "        F_{[3]} \\underbrace{\\left(\\frac{3b-3\\beta-2c}{3}\\right)}_{Z} \\right].\n",
    "$$\n",
    "\n",
    "First, we can show that, if $b-2\\beta-c > 0$, then $Y > 0$ and $X > 0$. Therefore, L cannot invade under homophily. \n",
    "(To show, e.g., $Y>0$, let $x$ be some positive value, define $b = 2\\beta+c+x$, and substitute into the expression for $Y$.)\n",
    "\n",
    "Furthermore, if $b-2\\beta-c > 0$, then the invasion fitness of L always becomes more negative as homophily increases. As homophily increases, $F_{[2,1]}$ and $F_{[3]}$ increase and $F_{[1,1,1]}$ decreases.\n",
    "If $b-2\\beta-c > 0$, then $Y > X$ and $Z > X$.\n",
    "Therefore, as homophily increases, the invasion fitness of L into an all-C population decreases.\n"
   ]
  },
  {
   "cell_type": "markdown",
   "id": "failing-sheriff",
   "metadata": {},
   "source": [
    "### 2.3 Outputting results to LaTeX\n",
    "\n",
    "The module `symbolic_transformed` also has a function `tabulate_switching_gains`, which will format a LaTeX table of the switching gains. "
   ]
  },
  {
   "cell_type": "code",
   "execution_count": null,
   "id": "endangered-scottish",
   "metadata": {},
   "outputs": [],
   "source": []
  }
 ],
 "metadata": {
  "kernelspec": {
   "display_name": "venv",
   "language": "python",
   "name": "venv"
  },
  "language_info": {
   "codemirror_mode": {
    "name": "ipython",
    "version": 3
   },
   "file_extension": ".py",
   "mimetype": "text/x-python",
   "name": "python",
   "nbconvert_exporter": "python",
   "pygments_lexer": "ipython3",
   "version": "3.11.2"
  }
 },
 "nbformat": 4,
 "nbformat_minor": 5
}
